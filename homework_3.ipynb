{
 "cells": [
  {
   "cell_type": "markdown",
   "metadata": {},
   "source": [
    "# Homework 3\n",
    "\n",
    "This homework will explore linear regression and resampling techniques by analyzing data from a database of glaciers. The database is *Glatilda* for [*Glacier Ice Thickness Database*](!https://www.gtn-g.ch/data_catalogue_glathida/).\n",
    "\n",
    "1. Data prep (5 points)\n",
    "2. Mapping (10 points)\n",
    "3. Correlations between parameters (5 points)\n",
    "4. Linear regression and resampling techniques (10 points)\n",
    "\n",
    "## 1. Data Prep (5 points total)\n",
    "\n",
    "### a) Download data (1 point) \n",
    "The database is saved on a GitLab repository that you may clone: https://gitlab.com/wgms/glathida.git\n",
    "\n"
   ]
  },
  {
   "cell_type": "code",
   "execution_count": null,
   "metadata": {},
   "outputs": [],
   "source": [
    "# answer\n",
    "git clone \"https://gitlab.com/wgms/glathida.git\""
   ]
  },
  {
   "cell_type": "markdown",
   "metadata": {},
   "source": [
    "### b) Import Python modules (1 point) \n",
    "Import pandas, geopandas, plotting, raster files,  numpy, netcdf"
   ]
  },
  {
   "cell_type": "code",
   "execution_count": 3,
   "metadata": {},
   "outputs": [],
   "source": [
    "# solution\n",
    "import pandas as pd\n",
    "import geopandas\n",
    "import matplotlib.pyplot as plt\n",
    "import rasterio\n",
    "import numpy as np\n",
    "import netCDF4 as nc"
   ]
  },
  {
   "cell_type": "markdown",
   "metadata": {},
   "source": [
    "### c) Read data (2 points)\n",
    "Read the glacier data from the file ``glathida/data/glacier.csv`` into a pandas data frame, and decribe briefly the dataframe content and its first few lines."
   ]
  },
  {
   "cell_type": "code",
   "execution_count": 4,
   "metadata": {},
   "outputs": [
    {
     "name": "stdout",
     "output_type": "stream",
     "text": [
      "<bound method NDFrame.head of         id  survey_id                   name external_db   external_id  \\\n",
      "0        1          1       Isfallsglaciären         WGI  SE4B000E0006   \n",
      "1        2          1         Rabots glaciär         WGI  SE4B000E1016   \n",
      "2        3          1          Storglaciären         WGI  SE4B000E0005   \n",
      "3        4          2  South Cascade Glacier         WGI  US2M00264006   \n",
      "4        5          3      Athabasca Glacier         FOG             7   \n",
      "...    ...        ...                    ...         ...           ...   \n",
      "1008  6627        254            Mount Adams         NaN           NaN   \n",
      "1009  6628        255            Mount Adams         NaN           NaN   \n",
      "1010  6629        256            Mount Adams         NaN           NaN   \n",
      "1011  6630        128           Mullwitzkees         AGI          6054   \n",
      "1012  6631        128           Mullwitzkees         AGI          6054   \n",
      "\n",
      "           lat        lon        date    max_date    area  ...  \\\n",
      "0     67.91500   18.56800  1979-03-01  1979-03-31   1.300  ...   \n",
      "1     67.91000   18.49600  1979-03-01  1979-03-31   4.100  ...   \n",
      "2     67.90000   18.57000  1979-03-01  1979-03-31   3.100  ...   \n",
      "3     48.35698 -121.05735  1975-01-01  1975-12-31   2.000  ...   \n",
      "4     52.17540 -117.28400         NaN         NaN   3.800  ...   \n",
      "...        ...        ...         ...         ...     ...  ...   \n",
      "1008  46.20240 -121.49090  1935-01-01  1935-12-31     NaN  ...   \n",
      "1009  46.20240 -121.49090  2002-05-01  2002-05-31  16.200  ...   \n",
      "1010  46.20398 -121.49376  2006-07-01  2006-07-31     NaN  ...   \n",
      "1011  47.08670   12.38000  1998-01-01  1998-12-31   3.229  ...   \n",
      "1012  47.08670   12.38000  2003-01-01  2003-12-31     NaN  ...   \n",
      "\n",
      "      mean_thickness  mean_thickness_uncertainty  max_thickness  \\\n",
      "0               72.0                         NaN          220.0   \n",
      "1               84.0                         NaN          175.0   \n",
      "2               99.0                         NaN          250.0   \n",
      "3               99.0                         NaN          195.0   \n",
      "4              150.0                         NaN            NaN   \n",
      "...              ...                         ...            ...   \n",
      "1008             NaN                         NaN            NaN   \n",
      "1009            57.0                         NaN            NaN   \n",
      "1010             NaN                         NaN          120.0   \n",
      "1011            39.0                         9.0           78.0   \n",
      "1012             NaN                         NaN            NaN   \n",
      "\n",
      "      max_thickness_uncertainty  number_points  number_profiles  \\\n",
      "0                           NaN            NaN              NaN   \n",
      "1                           NaN            NaN             10.0   \n",
      "2                           NaN            NaN              NaN   \n",
      "3                           NaN            NaN              NaN   \n",
      "4                           NaN            NaN              NaN   \n",
      "...                         ...            ...              ...   \n",
      "1008                        NaN           14.0              NaN   \n",
      "1009                        NaN          217.0              NaN   \n",
      "1010                        NaN           78.0              NaN   \n",
      "1011                       13.0           30.0              NaN   \n",
      "1012                        NaN            1.0              NaN   \n",
      "\n",
      "      length_profiles  interpolation_method     flag  \\\n",
      "0                 NaN                   NaN      NaN   \n",
      "1                 NaN                   NaN      NaN   \n",
      "2                 NaN                   NaN      NaN   \n",
      "3                 NaN                   NaN      NaN   \n",
      "4                 NaN                   NaN      NaN   \n",
      "...               ...                   ...      ...   \n",
      "1008              NaN                   NaN      NaN   \n",
      "1009              NaN                   NaN      NaN   \n",
      "1010              NaN                   NaN  partial   \n",
      "1011              NaN                anudem      NaN   \n",
      "1012              NaN                   NaN      NaN   \n",
      "\n",
      "                                                remarks  \n",
      "0                                                   NaN  \n",
      "1                                                   NaN  \n",
      "2                                                   NaN  \n",
      "3                                                   NaN  \n",
      "4                                                   NaN  \n",
      "...                                                 ...  \n",
      "1008                                                NaN  \n",
      "1009  AREA: Sitts et al. 2010 (https://doi.org/10.39...  \n",
      "1010                                                NaN  \n",
      "1011  LAT/LON: FoG 2015 | AREA: Austrian Glacier inv...  \n",
      "1012  LAT/LON: FoG 2015 | AREA: Austrian Glacier inv...  \n",
      "\n",
      "[1013 rows x 21 columns]>\n"
     ]
    }
   ],
   "source": [
    "# solution\n",
    "t_path = pd.read_csv(\"glathida/data/glacier.csv\")\n",
    "print(t_path.head)"
   ]
  },
  {
   "cell_type": "raw",
   "metadata": {},
   "source": [
    "# solution\n",
    "# The dataframe contains information on different glaciers. Latitude, longitude, length, and statitics on thickness. The first few lines list different glaciers, survey id, and some other information."
   ]
  },
  {
   "cell_type": "markdown",
   "metadata": {},
   "source": [
    "**Explore the data with visualization**\n",
    "Before making any inference of models with the data, we will start by exploring basic correlations among parameters by plotting. In particular, we will focus on ``mean_thickness``, ``area``, ``mean_slope`` parameters.\n",
    "\n",
    "### d) Remove bad data (1 point)\n",
    "\n",
    "The database may contain Nans and other \"bad\" values (welcome to the data world!). First we will clean the data by removing nans. We are mostly interested in the thickness, area, and slope\n",
    "\n"
   ]
  },
  {
   "cell_type": "code",
   "execution_count": 42,
   "metadata": {},
   "outputs": [
    {
     "name": "stdout",
     "output_type": "stream",
     "text": [
      "<bound method NDFrame.head of        id  survey_id                 name external_db     external_id  \\\n",
      "32     33          9       Easton Glacier         FOG            1367   \n",
      "33     34         10  Lemon Creek Glacier         FOG            3334   \n",
      "34     35         11         Praviy Aktru         WGI    SU5A15106127   \n",
      "35     36         11          Maliy Aktru         WGI    SU5A15106126   \n",
      "36     37         11          Leviy Aktru         WGI    SU5A15106128   \n",
      "..    ...        ...                  ...         ...             ...   \n",
      "619  2111        187          Blekumbreen       GLIMS  G016068E78246N   \n",
      "627  2119        193    Tuyuksu (central)       GLIMS  G077080E43049N   \n",
      "631  2123        195       Aldegondabreen         RGI  RGI50-07.01079   \n",
      "745  2240        209            Ariebreen         RGI  RGI60-07.00209   \n",
      "833  2328        229    Austre Lovenbreen         RGI  RGI60-07.00496   \n",
      "\n",
      "           lat         lon        date    max_date    area  ...  \\\n",
      "32   48.750000 -121.830000  1992-01-01  1992-12-31   2.900  ...   \n",
      "33   58.380000 -134.360000  1956-06-21  1956-09-22  11.700  ...   \n",
      "34   50.061340   87.697410         NaN         NaN   5.150  ...   \n",
      "35   50.049670   87.745520         NaN         NaN   2.840  ...   \n",
      "36   50.080080   87.690250         NaN         NaN   5.950  ...   \n",
      "..         ...         ...         ...         ...     ...  ...   \n",
      "619  78.245480   16.064380  2013-04-27         NaN   2.100  ...   \n",
      "627  43.043653   77.080587  2013-08-28         NaN   2.610  ...   \n",
      "631  77.971400   14.069100  1999-05-06  1999-05-08   6.737  ...   \n",
      "745  77.027200   15.485400  2007-04-17         NaN   0.370  ...   \n",
      "833  78.871000   12.161400  2010-04-24         NaN   4.600  ...   \n",
      "\n",
      "     mean_thickness  mean_thickness_uncertainty  max_thickness  \\\n",
      "32             58.0                         NaN          107.0   \n",
      "33             66.0                         NaN          200.0   \n",
      "34             56.0                         NaN            NaN   \n",
      "35             86.0                         NaN            NaN   \n",
      "36             90.0                         NaN            NaN   \n",
      "..              ...                         ...            ...   \n",
      "619            32.0                         NaN          106.0   \n",
      "627            47.0                         2.0          103.0   \n",
      "631            65.0                         7.0          191.0   \n",
      "745            27.0                         2.0           82.0   \n",
      "833            76.0                         9.0            NaN   \n",
      "\n",
      "     max_thickness_uncertainty  number_points  number_profiles  \\\n",
      "32                         NaN           64.0              NaN   \n",
      "33                         NaN          182.0              NaN   \n",
      "34                         NaN            NaN              NaN   \n",
      "35                         NaN            NaN              NaN   \n",
      "36                         NaN            NaN              NaN   \n",
      "..                         ...            ...              ...   \n",
      "619                        NaN         4484.0             26.0   \n",
      "627                        2.0         8568.0             36.0   \n",
      "631                       25.0         2018.0             24.0   \n",
      "745                        4.0          461.0              NaN   \n",
      "833                        NaN        67542.0            120.0   \n",
      "\n",
      "     length_profiles  interpolation_method     flag  \\\n",
      "32               NaN                   NaN      NaN   \n",
      "33               NaN                   NaN      NaN   \n",
      "34               NaN                   NaN      NaN   \n",
      "35               NaN                   NaN      NaN   \n",
      "36               NaN                   NaN      NaN   \n",
      "..               ...                   ...      ...   \n",
      "619             22.5                anudem  partial   \n",
      "627             25.0                anudem  partial   \n",
      "631             40.0               kriging      NaN   \n",
      "745              6.4               kriging      NaN   \n",
      "833              NaN               kriging      NaN   \n",
      "\n",
      "                                               remarks  \n",
      "32                                                 NaN  \n",
      "33                                                 NaN  \n",
      "34                                                 NaN  \n",
      "35                                                 NaN  \n",
      "36                                                 NaN  \n",
      "..                                                 ...  \n",
      "619  MEAN_THICKNESS: Based on the interpolated enti...  \n",
      "627  MEAN_THICKNESS: Based on the interpolated enti...  \n",
      "631  MEAN_SLOPE: Altitude range/glacier length | ME...  \n",
      "745                                                NaN  \n",
      "833                                                NaN  \n",
      "\n",
      "[110 rows x 21 columns]>\n"
     ]
    }
   ],
   "source": [
    "#answer below \n",
    "df = t_path.dropna(subset=['mean_thickness','area','mean_slope'])\n",
    "print(df.head)"
   ]
  },
  {
   "cell_type": "markdown",
   "metadata": {},
   "source": [
    "## 2. Mapping glaciers (10 points)\n",
    "\n",
    "Make a global map of the glaciers. Use either of the tools we learned in class:\n",
    "* Geopandas, DEMs from NetCDFfiles (see chapter 2.4)\n",
    "* Pandas and Plotly (see chapter 2.2). You may need to transform some of the series into log-spaced values for better visualization."
   ]
  },
  {
   "cell_type": "markdown",
   "metadata": {},
   "source": [
    "### Option 1: Tif and matplotlib\n",
    "\n",
    "You can use the ``elevation`` data from the DEM seen in class. Download the DEM file (https://www.dropbox.com/s/j5lxhd8uxrtsxko/HYP_50M_SR.tif?dl=1)"
   ]
  },
  {
   "cell_type": "code",
   "execution_count": 43,
   "metadata": {},
   "outputs": [],
   "source": [
    "# solution\n",
    "# I downloaded this .tif file to my computer and then uploaded it to jupyter"
   ]
  },
  {
   "cell_type": "markdown",
   "metadata": {},
   "source": [
    "\n",
    "___Tips___: when plotting a image in ``matplotlib`` you need to add information about the physical dimensions of the image. You can calculate the ``bounds``."
   ]
  },
  {
   "cell_type": "code",
   "execution_count": 44,
   "metadata": {},
   "outputs": [
    {
     "ename": "NameError",
     "evalue": "name 'elevation' is not defined",
     "output_type": "error",
     "traceback": [
      "\u001b[0;31m---------------------------------------------------------------------------\u001b[0m",
      "\u001b[0;31mNameError\u001b[0m                                 Traceback (most recent call last)",
      "Cell \u001b[0;32mIn [44], line 1\u001b[0m\n\u001b[0;32m----> 1\u001b[0m bounds \u001b[38;5;241m=\u001b[39m (\u001b[43melevation\u001b[49m\u001b[38;5;241m.\u001b[39mbounds\u001b[38;5;241m.\u001b[39mleft, elevation\u001b[38;5;241m.\u001b[39mbounds\u001b[38;5;241m.\u001b[39mright, \\\n\u001b[1;32m      2\u001b[0m           elevation\u001b[38;5;241m.\u001b[39mbounds\u001b[38;5;241m.\u001b[39mbottom, elevation\u001b[38;5;241m.\u001b[39mbounds\u001b[38;5;241m.\u001b[39mtop)\n",
      "\u001b[0;31mNameError\u001b[0m: name 'elevation' is not defined"
     ]
    }
   ],
   "source": [
    "bounds = (elevation.bounds.left, elevation.bounds.right, \\\n",
    "          elevation.bounds.bottom, elevation.bounds.top)"
   ]
  },
  {
   "cell_type": "markdown",
   "metadata": {},
   "source": [
    "We will use ``matplotlib.pyplot`` to show the raster image in the background (tips: use ``imshow()``. The raster image in matplotlib can only import one frame and not three (R, G, B) frames. We will first stack the three images together. "
   ]
  },
  {
   "cell_type": "code",
   "execution_count": 45,
   "metadata": {},
   "outputs": [
    {
     "ename": "NameError",
     "evalue": "name 'elevation' is not defined",
     "output_type": "error",
     "traceback": [
      "\u001b[0;31m---------------------------------------------------------------------------\u001b[0m",
      "\u001b[0;31mNameError\u001b[0m                                 Traceback (most recent call last)",
      "Cell \u001b[0;32mIn [45], line 1\u001b[0m\n\u001b[0;32m----> 1\u001b[0m red \u001b[38;5;241m=\u001b[39m \u001b[43melevation\u001b[49m\u001b[38;5;241m.\u001b[39mread(\u001b[38;5;241m1\u001b[39m)\n\u001b[1;32m      2\u001b[0m green \u001b[38;5;241m=\u001b[39m elevation\u001b[38;5;241m.\u001b[39mread(\u001b[38;5;241m2\u001b[39m)\n\u001b[1;32m      3\u001b[0m blue \u001b[38;5;241m=\u001b[39m elevation\u001b[38;5;241m.\u001b[39mread(\u001b[38;5;241m3\u001b[39m)\n",
      "\u001b[0;31mNameError\u001b[0m: name 'elevation' is not defined"
     ]
    }
   ],
   "source": [
    "red = elevation.read(1)\n",
    "green = elevation.read(2)\n",
    "blue = elevation.read(3)\n",
    "pix = np.dstack((red, green, blue))"
   ]
  },
  {
   "cell_type": "code",
   "execution_count": null,
   "metadata": {},
   "outputs": [],
   "source": [
    "# solution\n"
   ]
  },
  {
   "cell_type": "markdown",
   "metadata": {},
   "source": [
    "## Option 2: Plotly\n",
    "\n",
    "You may use plotly. For improved visibility, transform some of the data into log-spaced. You may add these transformed Series into the Pandas, and use them as input to plotly."
   ]
  },
  {
   "cell_type": "code",
   "execution_count": 46,
   "metadata": {},
   "outputs": [],
   "source": [
    "import plotly.express as px\n",
    "import plotly.io as pio\n",
    "pio.renderers.default = 'vscode' # writes as standalone html, \n",
    "# pio.renderers.default = 'iframe' # writes files as standalone html, \n",
    "# pio.renderers.default = 'png' # writes files as standalone html, \n",
    "# try notebook, jupyterlab, png, vscode, iframe"
   ]
  },
  {
   "cell_type": "code",
   "execution_count": 47,
   "metadata": {},
   "outputs": [
    {
     "data": {
      "application/vnd.plotly.v1+json": {
       "config": {
        "plotlyServerURL": "https://plot.ly"
       },
       "data": [
        {
         "customdata": [
          [
           58,
           2.9,
           0
          ],
          [
           66,
           11.7,
           0
          ],
          [
           56,
           5.15,
           0
          ],
          [
           86,
           2.84,
           0
          ],
          [
           90,
           5.95,
           0
          ],
          [
           55,
           0.75,
           0
          ],
          [
           34,
           1.18,
           0
          ],
          [
           53,
           3.61,
           0
          ],
          [
           53,
           5.757,
           0
          ],
          [
           61,
           11.32,
           0
          ],
          [
           53,
           4.19,
           0
          ],
          [
           104,
           2.72,
           0
          ],
          [
           175,
           824,
           0
          ],
          [
           110,
           22.5,
           0
          ],
          [
           76,
           3.2,
           0
          ],
          [
           49,
           3.2,
           0
          ],
          [
           49,
           3.4,
           0
          ],
          [
           52,
           1,
           0
          ],
          [
           43,
           2,
           0
          ],
          [
           52,
           2.8,
           0
          ],
          [
           47,
           1.2,
           0
          ],
          [
           45,
           2.2,
           0
          ],
          [
           49,
           1.6,
           0
          ],
          [
           54,
           5.3,
           0
          ],
          [
           67,
           2.3,
           0
          ],
          [
           37,
           2,
           0
          ],
          [
           39,
           1.5,
           0
          ],
          [
           32,
           1.1,
           0
          ],
          [
           58,
           1.5,
           0
          ],
          [
           51,
           1.7,
           0
          ],
          [
           50,
           2.6,
           0
          ],
          [
           47,
           1,
           0
          ],
          [
           47,
           1,
           0
          ],
          [
           29,
           1,
           0
          ],
          [
           31,
           1.5,
           1
          ],
          [
           54,
           2.1,
           0
          ],
          [
           49,
           1.1,
           0
          ],
          [
           25,
           1.7,
           0
          ],
          [
           48,
           2.8,
           0
          ],
          [
           47,
           3.8,
           0
          ],
          [
           45,
           2.9,
           0
          ],
          [
           40,
           0.8,
           0
          ],
          [
           49,
           4.2,
           0
          ],
          [
           42,
           2.5,
           0
          ],
          [
           27,
           2.1,
           0
          ],
          [
           59,
           1.4,
           0
          ],
          [
           36,
           1.9,
           0
          ],
          [
           48,
           0.9,
           0
          ],
          [
           33,
           1.5,
           0
          ],
          [
           62,
           2.82,
           0
          ],
          [
           61,
           1,
           0
          ],
          [
           30,
           9.7,
           12
          ],
          [
           26,
           1,
           10
          ],
          [
           15,
           0.08068,
           22
          ],
          [
           17,
           0.307,
           18
          ],
          [
           5,
           0.084,
           22
          ],
          [
           12,
           0.223,
           26
          ],
          [
           4,
           0.106,
           33
          ],
          [
           6,
           0.101,
           22
          ],
          [
           89,
           13.07938,
           13
          ],
          [
           22,
           0.3097,
           21
          ],
          [
           22,
           0.191,
           26
          ],
          [
           65,
           1.8841,
           21
          ],
          [
           8,
           0.0264,
           48
          ],
          [
           17,
           0.2257,
           22
          ],
          [
           15,
           0.13572,
           27
          ],
          [
           23,
           0.3015,
           15
          ],
          [
           26,
           0.36654,
           17
          ],
          [
           19,
           0.5825,
           15
          ],
          [
           13,
           0.39062,
           20
          ],
          [
           8,
           0.05848,
           27
          ],
          [
           19,
           0.37938,
           17
          ],
          [
           29,
           0.3017,
           15
          ],
          [
           16,
           0.2176,
           22
          ],
          [
           25,
           0.62967,
           16
          ],
          [
           69,
           3.2275,
           10
          ],
          [
           15,
           0.2605,
           30
          ],
          [
           90,
           5.36,
           14
          ],
          [
           70,
           2.9,
           13
          ],
          [
           128,
           8.6,
           7
          ],
          [
           60,
           2.1,
           12
          ],
          [
           67,
           3.2,
           13
          ],
          [
           208,
           11.1,
           5
          ],
          [
           148,
           71.3,
           6
          ],
          [
           97,
           2.76,
           13
          ],
          [
           85,
           39.96,
           3
          ],
          [
           74,
           28.59,
           3
          ],
          [
           44,
           1.59,
           20
          ],
          [
           70,
           1,
           16
          ],
          [
           23,
           3.078,
           17
          ],
          [
           28,
           2.8,
           20
          ],
          [
           46,
           1.69,
           20
          ],
          [
           44,
           1.09,
           18
          ],
          [
           49,
           0.6,
           23
          ],
          [
           51,
           2.39,
           16
          ],
          [
           50,
           2.85,
           12
          ],
          [
           16,
           0.5368,
           24
          ],
          [
           15,
           1.24651,
           20
          ],
          [
           58,
           6.078,
           25
          ],
          [
           29,
           1.55417,
           10
          ],
          [
           41,
           2.96629,
           21
          ],
          [
           65,
           10.6,
           9
          ],
          [
           57,
           4,
           10
          ],
          [
           85,
           2.6,
           9
          ],
          [
           68,
           3.28,
           9
          ],
          [
           32,
           2.1,
           13
          ],
          [
           47,
           2.61,
           20
          ],
          [
           65,
           6.737,
           6
          ],
          [
           27,
           0.37,
           19
          ],
          [
           76,
           4.6,
           14
          ]
         ],
         "geo": "geo",
         "hovertemplate": "<b>%{hovertext}</b><br><br>mean_slope=%{customdata[2]}<br>lat=%{lat}<br>lon=%{lon}<br>mean_thickness=%{customdata[0]}<br>area=%{customdata[1]}<extra></extra>",
         "hovertext": [
          2.9,
          11.7,
          5.15,
          2.84,
          5.95,
          0.75,
          1.18,
          3.61,
          5.757,
          11.32,
          4.19,
          2.72,
          824,
          22.5,
          3.2,
          3.2,
          3.4,
          1,
          2,
          2.8,
          1.2,
          2.2,
          1.6,
          5.3,
          2.3,
          2,
          1.5,
          1.1,
          1.5,
          1.7,
          2.6,
          1,
          1,
          1,
          1.5,
          2.1,
          1.1,
          1.7,
          2.8,
          3.8,
          2.9,
          0.8,
          4.2,
          2.5,
          2.1,
          1.4,
          1.9,
          0.9,
          1.5,
          2.82,
          1,
          9.7,
          1,
          0.08068,
          0.307,
          0.084,
          0.223,
          0.106,
          0.101,
          13.07938,
          0.3097,
          0.191,
          1.8841,
          0.0264,
          0.2257,
          0.13572,
          0.3015,
          0.36654,
          0.5825,
          0.39062,
          0.05848,
          0.37938,
          0.3017,
          0.2176,
          0.62967,
          3.2275,
          0.2605,
          5.36,
          2.9,
          8.6,
          2.1,
          3.2,
          11.1,
          71.3,
          2.76,
          39.96,
          28.59,
          1.59,
          1,
          3.078,
          2.8,
          1.69,
          1.09,
          0.6,
          2.39,
          2.85,
          0.5368,
          1.24651,
          6.078,
          1.55417,
          2.96629,
          10.6,
          4,
          2.6,
          3.28,
          2.1,
          2.61,
          6.737,
          0.37,
          4.6
         ],
         "lat": [
          48.75,
          58.38,
          50.06134,
          50.04967,
          50.08008,
          50.0503,
          41.78681,
          41.825132,
          42.45448,
          41.8273,
          42.14031,
          43.05,
          38.767,
          39.6097,
          62.58879,
          45.23645,
          45.23513,
          44.92845,
          44.883,
          44.883,
          44.917,
          44.85772,
          44.83929,
          44.97,
          44.89076,
          44.97,
          44.95518,
          44.95315,
          44.99511,
          45,
          44.5841,
          44.5858,
          44.7016,
          44.722,
          44.7049,
          44.685,
          44.679,
          44.6667,
          44.7404,
          44.77608,
          44.77695,
          44.582,
          44.5821,
          44.5846,
          44.6142,
          44.5723,
          44.5804,
          44.56647,
          44.59,
          45.08,
          45.0958,
          30.855,
          48.62495,
          46.9595,
          47.4139,
          47.4,
          47.4231,
          47.571,
          47.5543,
          45.9936,
          -16.3023,
          4.80506,
          -16.266,
          47.25038,
          46.418641,
          46.6049,
          46.408281,
          46.550849,
          46.1666,
          46.916205,
          46.5967,
          46.910684,
          46.327,
          46.600208,
          46.08483,
          46.3202,
          46.048207,
          61.573395,
          61.555861,
          61.541544,
          61.656513,
          70.128,
          67.278,
          60.546,
          43.361887,
          78.1851,
          78.1071,
          43.11124,
          51.177,
          47.065194,
          43.8342,
          43.11124,
          43.11124,
          43.118294,
          41.825132,
          67.094,
          38.214,
          43.731,
          43.784,
          41.78,
          39.237,
          61.75,
          61.75,
          61.75,
          61.73,
          78.24548,
          43.043653,
          77.9714,
          77.0272,
          78.871
         ],
         "legendgroup": "",
         "lon": [
          -121.83,
          -134.36,
          87.69741,
          87.74552,
          87.69025,
          87.7886,
          77.74927,
          78.176022,
          74.49766,
          78.20493,
          78.2728,
          77.08,
          72.283,
          71.56986,
          140.86536,
          80.78166,
          80.80835,
          79.13669,
          79.285,
          79.317,
          79.317,
          79.45203,
          79.46103,
          79.42,
          79.48539,
          79.53,
          79.54601,
          79.56239,
          79.75732,
          79.82,
          79.4753,
          79.498,
          79.5927,
          79.648,
          79.7181,
          79.7254,
          79.7375,
          79.7391,
          79.961,
          79.93852,
          79.82588,
          80.29,
          80.2741,
          80.2417,
          80.1426,
          80.172,
          80.1887,
          80.12033,
          80.1179,
          80.23,
          80.23832,
          78.818,
          -113.75707,
          9.3891,
          10.972,
          10.9736,
          10.9912,
          12.8666,
          12.9282,
          7.87051,
          -68.1064,
          -75.3715,
          -68.148,
          9.34301,
          9.825164,
          8.61212,
          9.825684,
          8.417236,
          6.93715,
          9.255655,
          8.61109,
          9.249232,
          7.21308,
          8.602228,
          7.309231,
          7.22536,
          7.517633,
          8.131989,
          8.441361,
          8.454024,
          8.599633,
          21.735,
          16.037,
          7.432,
          41.419771,
          18.2064,
          17.6978,
          86.810015,
          -116.33,
          85.563635,
          88.3261,
          86.810015,
          86.810015,
          86.80358,
          78.176022,
          -53.213,
          99.881,
          84.391,
          88.356,
          79.894,
          97.755,
          5.67,
          5.64,
          5.67,
          5.66,
          16.06438,
          77.080587,
          14.0691,
          15.4854,
          12.1614
         ],
         "marker": {
          "color": "#636efa",
          "size": [
           0,
           0,
           0,
           0,
           0,
           0,
           0,
           0,
           0,
           0,
           0,
           0,
           0,
           0,
           0,
           0,
           0,
           0,
           0,
           0,
           0,
           0,
           0,
           0,
           0,
           0,
           0,
           0,
           0,
           0,
           0,
           0,
           0,
           0,
           1,
           0,
           0,
           0,
           0,
           0,
           0,
           0,
           0,
           0,
           0,
           0,
           0,
           0,
           0,
           0,
           0,
           12,
           10,
           22,
           18,
           22,
           26,
           33,
           22,
           13,
           21,
           26,
           21,
           48,
           22,
           27,
           15,
           17,
           15,
           20,
           27,
           17,
           15,
           22,
           16,
           10,
           30,
           14,
           13,
           7,
           12,
           13,
           5,
           6,
           13,
           3,
           3,
           20,
           16,
           17,
           20,
           20,
           18,
           23,
           16,
           12,
           24,
           20,
           25,
           10,
           21,
           9,
           10,
           9,
           9,
           13,
           20,
           6,
           19,
           14
          ],
          "sizemode": "area",
          "sizeref": 0.12,
          "symbol": "circle"
         },
         "mode": "markers",
         "name": "",
         "showlegend": false,
         "type": "scattergeo"
        }
       ],
       "layout": {
        "geo": {
         "center": {},
         "domain": {
          "x": [
           0,
           1
          ],
          "y": [
           0,
           1
          ]
         }
        },
        "height": 600,
        "legend": {
         "itemsizing": "constant",
         "tracegroupgap": 0
        },
        "margin": {
         "t": 60
        },
        "template": {
         "data": {
          "bar": [
           {
            "error_x": {
             "color": "#2a3f5f"
            },
            "error_y": {
             "color": "#2a3f5f"
            },
            "marker": {
             "line": {
              "color": "#E5ECF6",
              "width": 0.5
             },
             "pattern": {
              "fillmode": "overlay",
              "size": 10,
              "solidity": 0.2
             }
            },
            "type": "bar"
           }
          ],
          "barpolar": [
           {
            "marker": {
             "line": {
              "color": "#E5ECF6",
              "width": 0.5
             },
             "pattern": {
              "fillmode": "overlay",
              "size": 10,
              "solidity": 0.2
             }
            },
            "type": "barpolar"
           }
          ],
          "carpet": [
           {
            "aaxis": {
             "endlinecolor": "#2a3f5f",
             "gridcolor": "white",
             "linecolor": "white",
             "minorgridcolor": "white",
             "startlinecolor": "#2a3f5f"
            },
            "baxis": {
             "endlinecolor": "#2a3f5f",
             "gridcolor": "white",
             "linecolor": "white",
             "minorgridcolor": "white",
             "startlinecolor": "#2a3f5f"
            },
            "type": "carpet"
           }
          ],
          "choropleth": [
           {
            "colorbar": {
             "outlinewidth": 0,
             "ticks": ""
            },
            "type": "choropleth"
           }
          ],
          "contour": [
           {
            "colorbar": {
             "outlinewidth": 0,
             "ticks": ""
            },
            "colorscale": [
             [
              0,
              "#0d0887"
             ],
             [
              0.1111111111111111,
              "#46039f"
             ],
             [
              0.2222222222222222,
              "#7201a8"
             ],
             [
              0.3333333333333333,
              "#9c179e"
             ],
             [
              0.4444444444444444,
              "#bd3786"
             ],
             [
              0.5555555555555556,
              "#d8576b"
             ],
             [
              0.6666666666666666,
              "#ed7953"
             ],
             [
              0.7777777777777778,
              "#fb9f3a"
             ],
             [
              0.8888888888888888,
              "#fdca26"
             ],
             [
              1,
              "#f0f921"
             ]
            ],
            "type": "contour"
           }
          ],
          "contourcarpet": [
           {
            "colorbar": {
             "outlinewidth": 0,
             "ticks": ""
            },
            "type": "contourcarpet"
           }
          ],
          "heatmap": [
           {
            "colorbar": {
             "outlinewidth": 0,
             "ticks": ""
            },
            "colorscale": [
             [
              0,
              "#0d0887"
             ],
             [
              0.1111111111111111,
              "#46039f"
             ],
             [
              0.2222222222222222,
              "#7201a8"
             ],
             [
              0.3333333333333333,
              "#9c179e"
             ],
             [
              0.4444444444444444,
              "#bd3786"
             ],
             [
              0.5555555555555556,
              "#d8576b"
             ],
             [
              0.6666666666666666,
              "#ed7953"
             ],
             [
              0.7777777777777778,
              "#fb9f3a"
             ],
             [
              0.8888888888888888,
              "#fdca26"
             ],
             [
              1,
              "#f0f921"
             ]
            ],
            "type": "heatmap"
           }
          ],
          "heatmapgl": [
           {
            "colorbar": {
             "outlinewidth": 0,
             "ticks": ""
            },
            "colorscale": [
             [
              0,
              "#0d0887"
             ],
             [
              0.1111111111111111,
              "#46039f"
             ],
             [
              0.2222222222222222,
              "#7201a8"
             ],
             [
              0.3333333333333333,
              "#9c179e"
             ],
             [
              0.4444444444444444,
              "#bd3786"
             ],
             [
              0.5555555555555556,
              "#d8576b"
             ],
             [
              0.6666666666666666,
              "#ed7953"
             ],
             [
              0.7777777777777778,
              "#fb9f3a"
             ],
             [
              0.8888888888888888,
              "#fdca26"
             ],
             [
              1,
              "#f0f921"
             ]
            ],
            "type": "heatmapgl"
           }
          ],
          "histogram": [
           {
            "marker": {
             "pattern": {
              "fillmode": "overlay",
              "size": 10,
              "solidity": 0.2
             }
            },
            "type": "histogram"
           }
          ],
          "histogram2d": [
           {
            "colorbar": {
             "outlinewidth": 0,
             "ticks": ""
            },
            "colorscale": [
             [
              0,
              "#0d0887"
             ],
             [
              0.1111111111111111,
              "#46039f"
             ],
             [
              0.2222222222222222,
              "#7201a8"
             ],
             [
              0.3333333333333333,
              "#9c179e"
             ],
             [
              0.4444444444444444,
              "#bd3786"
             ],
             [
              0.5555555555555556,
              "#d8576b"
             ],
             [
              0.6666666666666666,
              "#ed7953"
             ],
             [
              0.7777777777777778,
              "#fb9f3a"
             ],
             [
              0.8888888888888888,
              "#fdca26"
             ],
             [
              1,
              "#f0f921"
             ]
            ],
            "type": "histogram2d"
           }
          ],
          "histogram2dcontour": [
           {
            "colorbar": {
             "outlinewidth": 0,
             "ticks": ""
            },
            "colorscale": [
             [
              0,
              "#0d0887"
             ],
             [
              0.1111111111111111,
              "#46039f"
             ],
             [
              0.2222222222222222,
              "#7201a8"
             ],
             [
              0.3333333333333333,
              "#9c179e"
             ],
             [
              0.4444444444444444,
              "#bd3786"
             ],
             [
              0.5555555555555556,
              "#d8576b"
             ],
             [
              0.6666666666666666,
              "#ed7953"
             ],
             [
              0.7777777777777778,
              "#fb9f3a"
             ],
             [
              0.8888888888888888,
              "#fdca26"
             ],
             [
              1,
              "#f0f921"
             ]
            ],
            "type": "histogram2dcontour"
           }
          ],
          "mesh3d": [
           {
            "colorbar": {
             "outlinewidth": 0,
             "ticks": ""
            },
            "type": "mesh3d"
           }
          ],
          "parcoords": [
           {
            "line": {
             "colorbar": {
              "outlinewidth": 0,
              "ticks": ""
             }
            },
            "type": "parcoords"
           }
          ],
          "pie": [
           {
            "automargin": true,
            "type": "pie"
           }
          ],
          "scatter": [
           {
            "fillpattern": {
             "fillmode": "overlay",
             "size": 10,
             "solidity": 0.2
            },
            "type": "scatter"
           }
          ],
          "scatter3d": [
           {
            "line": {
             "colorbar": {
              "outlinewidth": 0,
              "ticks": ""
             }
            },
            "marker": {
             "colorbar": {
              "outlinewidth": 0,
              "ticks": ""
             }
            },
            "type": "scatter3d"
           }
          ],
          "scattercarpet": [
           {
            "marker": {
             "colorbar": {
              "outlinewidth": 0,
              "ticks": ""
             }
            },
            "type": "scattercarpet"
           }
          ],
          "scattergeo": [
           {
            "marker": {
             "colorbar": {
              "outlinewidth": 0,
              "ticks": ""
             }
            },
            "type": "scattergeo"
           }
          ],
          "scattergl": [
           {
            "marker": {
             "colorbar": {
              "outlinewidth": 0,
              "ticks": ""
             }
            },
            "type": "scattergl"
           }
          ],
          "scattermapbox": [
           {
            "marker": {
             "colorbar": {
              "outlinewidth": 0,
              "ticks": ""
             }
            },
            "type": "scattermapbox"
           }
          ],
          "scatterpolar": [
           {
            "marker": {
             "colorbar": {
              "outlinewidth": 0,
              "ticks": ""
             }
            },
            "type": "scatterpolar"
           }
          ],
          "scatterpolargl": [
           {
            "marker": {
             "colorbar": {
              "outlinewidth": 0,
              "ticks": ""
             }
            },
            "type": "scatterpolargl"
           }
          ],
          "scatterternary": [
           {
            "marker": {
             "colorbar": {
              "outlinewidth": 0,
              "ticks": ""
             }
            },
            "type": "scatterternary"
           }
          ],
          "surface": [
           {
            "colorbar": {
             "outlinewidth": 0,
             "ticks": ""
            },
            "colorscale": [
             [
              0,
              "#0d0887"
             ],
             [
              0.1111111111111111,
              "#46039f"
             ],
             [
              0.2222222222222222,
              "#7201a8"
             ],
             [
              0.3333333333333333,
              "#9c179e"
             ],
             [
              0.4444444444444444,
              "#bd3786"
             ],
             [
              0.5555555555555556,
              "#d8576b"
             ],
             [
              0.6666666666666666,
              "#ed7953"
             ],
             [
              0.7777777777777778,
              "#fb9f3a"
             ],
             [
              0.8888888888888888,
              "#fdca26"
             ],
             [
              1,
              "#f0f921"
             ]
            ],
            "type": "surface"
           }
          ],
          "table": [
           {
            "cells": {
             "fill": {
              "color": "#EBF0F8"
             },
             "line": {
              "color": "white"
             }
            },
            "header": {
             "fill": {
              "color": "#C8D4E3"
             },
             "line": {
              "color": "white"
             }
            },
            "type": "table"
           }
          ]
         },
         "layout": {
          "annotationdefaults": {
           "arrowcolor": "#2a3f5f",
           "arrowhead": 0,
           "arrowwidth": 1
          },
          "autotypenumbers": "strict",
          "coloraxis": {
           "colorbar": {
            "outlinewidth": 0,
            "ticks": ""
           }
          },
          "colorscale": {
           "diverging": [
            [
             0,
             "#8e0152"
            ],
            [
             0.1,
             "#c51b7d"
            ],
            [
             0.2,
             "#de77ae"
            ],
            [
             0.3,
             "#f1b6da"
            ],
            [
             0.4,
             "#fde0ef"
            ],
            [
             0.5,
             "#f7f7f7"
            ],
            [
             0.6,
             "#e6f5d0"
            ],
            [
             0.7,
             "#b8e186"
            ],
            [
             0.8,
             "#7fbc41"
            ],
            [
             0.9,
             "#4d9221"
            ],
            [
             1,
             "#276419"
            ]
           ],
           "sequential": [
            [
             0,
             "#0d0887"
            ],
            [
             0.1111111111111111,
             "#46039f"
            ],
            [
             0.2222222222222222,
             "#7201a8"
            ],
            [
             0.3333333333333333,
             "#9c179e"
            ],
            [
             0.4444444444444444,
             "#bd3786"
            ],
            [
             0.5555555555555556,
             "#d8576b"
            ],
            [
             0.6666666666666666,
             "#ed7953"
            ],
            [
             0.7777777777777778,
             "#fb9f3a"
            ],
            [
             0.8888888888888888,
             "#fdca26"
            ],
            [
             1,
             "#f0f921"
            ]
           ],
           "sequentialminus": [
            [
             0,
             "#0d0887"
            ],
            [
             0.1111111111111111,
             "#46039f"
            ],
            [
             0.2222222222222222,
             "#7201a8"
            ],
            [
             0.3333333333333333,
             "#9c179e"
            ],
            [
             0.4444444444444444,
             "#bd3786"
            ],
            [
             0.5555555555555556,
             "#d8576b"
            ],
            [
             0.6666666666666666,
             "#ed7953"
            ],
            [
             0.7777777777777778,
             "#fb9f3a"
            ],
            [
             0.8888888888888888,
             "#fdca26"
            ],
            [
             1,
             "#f0f921"
            ]
           ]
          },
          "colorway": [
           "#636efa",
           "#EF553B",
           "#00cc96",
           "#ab63fa",
           "#FFA15A",
           "#19d3f3",
           "#FF6692",
           "#B6E880",
           "#FF97FF",
           "#FECB52"
          ],
          "font": {
           "color": "#2a3f5f"
          },
          "geo": {
           "bgcolor": "white",
           "lakecolor": "white",
           "landcolor": "#E5ECF6",
           "showlakes": true,
           "showland": true,
           "subunitcolor": "white"
          },
          "hoverlabel": {
           "align": "left"
          },
          "hovermode": "closest",
          "mapbox": {
           "style": "light"
          },
          "paper_bgcolor": "white",
          "plot_bgcolor": "#E5ECF6",
          "polar": {
           "angularaxis": {
            "gridcolor": "white",
            "linecolor": "white",
            "ticks": ""
           },
           "bgcolor": "#E5ECF6",
           "radialaxis": {
            "gridcolor": "white",
            "linecolor": "white",
            "ticks": ""
           }
          },
          "scene": {
           "xaxis": {
            "backgroundcolor": "#E5ECF6",
            "gridcolor": "white",
            "gridwidth": 2,
            "linecolor": "white",
            "showbackground": true,
            "ticks": "",
            "zerolinecolor": "white"
           },
           "yaxis": {
            "backgroundcolor": "#E5ECF6",
            "gridcolor": "white",
            "gridwidth": 2,
            "linecolor": "white",
            "showbackground": true,
            "ticks": "",
            "zerolinecolor": "white"
           },
           "zaxis": {
            "backgroundcolor": "#E5ECF6",
            "gridcolor": "white",
            "gridwidth": 2,
            "linecolor": "white",
            "showbackground": true,
            "ticks": "",
            "zerolinecolor": "white"
           }
          },
          "shapedefaults": {
           "line": {
            "color": "#2a3f5f"
           }
          },
          "ternary": {
           "aaxis": {
            "gridcolor": "white",
            "linecolor": "white",
            "ticks": ""
           },
           "baxis": {
            "gridcolor": "white",
            "linecolor": "white",
            "ticks": ""
           },
           "bgcolor": "#E5ECF6",
           "caxis": {
            "gridcolor": "white",
            "linecolor": "white",
            "ticks": ""
           }
          },
          "title": {
           "x": 0.05
          },
          "xaxis": {
           "automargin": true,
           "gridcolor": "white",
           "linecolor": "white",
           "ticks": "",
           "title": {
            "standoff": 15
           },
           "zerolinecolor": "white",
           "zerolinewidth": 2
          },
          "yaxis": {
           "automargin": true,
           "gridcolor": "white",
           "linecolor": "white",
           "ticks": "",
           "title": {
            "standoff": 15
           },
           "zerolinecolor": "white",
           "zerolinewidth": 2
          }
         }
        },
        "width": 600
       }
      },
      "image/png": "[encoded data removed]"
     },
     "metadata": {},
     "output_type": "display_data"
    }
   ],
   "source": [
    "# solution\n",
    "fig = px.scatter_geo(df,lat='lat',lon='lon', \n",
    "                     range_color=(6,9),\n",
    "                     height=600, width=600,\n",
    "                     size='mean_slope',\n",
    "                     hover_name=\"area\",\n",
    "                     hover_data=['mean_thickness','area','mean_slope']) # size of markers, \"pop\" is one of the columns of gapminder\n",
    "fig.show()"
   ]
  },
  {
   "cell_type": "markdown",
   "metadata": {},
   "source": [
    "## 3. Correlations between data parameters ( 5 points total)\n",
    "\n",
    "Make plots to vizualise the correlation, or lack of, between all three data. Make at least three plots.\n",
    "\n",
    "### a) Basic correlations using Matplotlib (2 points)\n",
    "\n",
    "Make 3 plots using matplotlib to visualize slope, mean_thickness, and area. Use logscale to see the correlatons.\n",
    "\n",
    "__Tips__: \n",
    "* Use the function ``scatter`` to plot the values of mean thickness, mean slope, area, and latitude. \n",
    "* use one of the dataframe columns as a color using the argument ``c``. You can also vary the ``colormap`` using the argument ``cmap``. Help on colormaps can be found here: https://matplotlib.org/stable/tutorials/colors/colormaps.html. Be mindful of Color-Vision Deficient readers and read *Crameri, F., Shephard, G.E. and Heron, P.J., 2020. The misuse of colour in science communication. Nature communications, 11(1), pp.1-10. https://doi.org/10.1038/s41467-020-19160-7* (find it on the class Gdrive). You can add a third \"data\" by choosing a marker color that scales with an other parameter. For instance, try coloring your marker with the ``LAT`` parameter to look at systematic latitudinal trends from the equator to the poles.\n",
    "* Do not forget to adjust fontsize, figure size (at least 10,8), grid, labels with units. ou may also explore the *logarithmic* correlations by mapping the axis from linear to logarithmic scale ``plt.xscale('log')``."
   ]
  },
  {
   "cell_type": "code",
   "execution_count": 162,
   "metadata": {},
   "outputs": [
    {
     "data": {
      "image/png": "[encoded data removed]",
      "text/plain": [
       "<Figure size 640x480 with 1 Axes>"
      ]
     },
     "metadata": {},
     "output_type": "display_data"
    }
   ],
   "source": [
    "# Figure 1: Mean slope vs mean thickness\n",
    "# solution\n",
    "plt.scatter(x=df['mean_slope'], y=df['mean_thickness'],c=df['lat'])\n",
    "plt.rc('axes',labelsize=10)\n",
    "plt.rc('axes',titlesize=16)\n",
    "plt.title(\"Mean Slope vs Mean Thickness\")\n",
    "plt.xlabel(\"log(Mean Slope)\")\n",
    "plt.ylabel(\"Mean Thickness (km)\")\n",
    "plt.xscale('log')\n",
    "plt.grid()\n",
    "plt.show()"
   ]
  },
  {
   "cell_type": "code",
   "execution_count": 163,
   "metadata": {},
   "outputs": [
    {
     "data": {
      "image/png": "[encoded data removed]",
      "text/plain": [
       "<Figure size 640x480 with 1 Axes>"
      ]
     },
     "metadata": {},
     "output_type": "display_data"
    }
   ],
   "source": [
    "# Figure 2: area vs mean thickness\n",
    "# solution\n",
    "plt.scatter(x=df['area'], y=df['mean_thickness'],c=df['lat'])\n",
    "plt.rc('axes',labelsize=10)\n",
    "plt.rc('axes',titlesize=16)\n",
    "plt.title(\"Area vs Mean Thickness\")\n",
    "plt.xlabel(\"log(Area) (km^2)\")\n",
    "plt.ylabel(\"Mean Thickness (km)\")\n",
    "plt.xscale('log')\n",
    "plt.grid()\n",
    "plt.show()"
   ]
  },
  {
   "cell_type": "markdown",
   "metadata": {},
   "source": [
    "### b) 3D Scatter plot using Plotly (1 point)\n",
    "\n",
    "Use the plotly ``scatter_3d`` plot. Make sure to change the pandas series for log scales."
   ]
  },
  {
   "cell_type": "code",
   "execution_count": 50,
   "metadata": {},
   "outputs": [
    {
     "data": {
      "application/vnd.plotly.v1+json": {
       "config": {
        "plotlyServerURL": "https://plot.ly"
       },
       "data": [
        {
         "hovertemplate": "area=%{x}<br>mean_thickness=%{y}<br>mean_slope=%{z}<br>lat=%{marker.color}<extra></extra>",
         "legendgroup": "",
         "marker": {
          "color": [
           48.75,
           58.38,
           50.06134,
           50.04967,
           50.08008,
           50.0503,
           41.78681,
           41.825132,
           42.45448,
           41.8273,
           42.14031,
           43.05,
           38.767,
           39.6097,
           62.58879,
           45.23645,
           45.23513,
           44.92845,
           44.883,
           44.883,
           44.917,
           44.85772,
           44.83929,
           44.97,
           44.89076,
           44.97,
           44.95518,
           44.95315,
           44.99511,
           45,
           44.5841,
           44.5858,
           44.7016,
           44.722,
           44.7049,
           44.685,
           44.679,
           44.6667,
           44.7404,
           44.77608,
           44.77695,
           44.582,
           44.5821,
           44.5846,
           44.6142,
           44.5723,
           44.5804,
           44.56647,
           44.59,
           45.08,
           45.0958,
           30.855,
           48.62495,
           46.9595,
           47.4139,
           47.4,
           47.4231,
           47.571,
           47.5543,
           45.9936,
           -16.3023,
           4.80506,
           -16.266,
           47.25038,
           46.418641,
           46.6049,
           46.408281,
           46.550849,
           46.1666,
           46.916205,
           46.5967,
           46.910684,
           46.327,
           46.600208,
           46.08483,
           46.3202,
           46.048207,
           61.573395,
           61.555861,
           61.541544,
           61.656513,
           70.128,
           67.278,
           60.546,
           43.361887,
           78.1851,
           78.1071,
           43.11124,
           51.177,
           47.065194,
           43.8342,
           43.11124,
           43.11124,
           43.118294,
           41.825132,
           67.094,
           38.214,
           43.731,
           43.784,
           41.78,
           39.237,
           61.75,
           61.75,
           61.75,
           61.73,
           78.24548,
           43.043653,
           77.9714,
           77.0272,
           78.871
          ],
          "coloraxis": "coloraxis",
          "symbol": "circle"
         },
         "mode": "markers",
         "name": "",
         "scene": "scene",
         "showlegend": false,
         "type": "scatter3d",
         "x": [
          2.9,
          11.7,
          5.15,
          2.84,
          5.95,
          0.75,
          1.18,
          3.61,
          5.757,
          11.32,
          4.19,
          2.72,
          824,
          22.5,
          3.2,
          3.2,
          3.4,
          1,
          2,
          2.8,
          1.2,
          2.2,
          1.6,
          5.3,
          2.3,
          2,
          1.5,
          1.1,
          1.5,
          1.7,
          2.6,
          1,
          1,
          1,
          1.5,
          2.1,
          1.1,
          1.7,
          2.8,
          3.8,
          2.9,
          0.8,
          4.2,
          2.5,
          2.1,
          1.4,
          1.9,
          0.9,
          1.5,
          2.82,
          1,
          9.7,
          1,
          0.08068,
          0.307,
          0.084,
          0.223,
          0.106,
          0.101,
          13.07938,
          0.3097,
          0.191,
          1.8841,
          0.0264,
          0.2257,
          0.13572,
          0.3015,
          0.36654,
          0.5825,
          0.39062,
          0.05848,
          0.37938,
          0.3017,
          0.2176,
          0.62967,
          3.2275,
          0.2605,
          5.36,
          2.9,
          8.6,
          2.1,
          3.2,
          11.1,
          71.3,
          2.76,
          39.96,
          28.59,
          1.59,
          1,
          3.078,
          2.8,
          1.69,
          1.09,
          0.6,
          2.39,
          2.85,
          0.5368,
          1.24651,
          6.078,
          1.55417,
          2.96629,
          10.6,
          4,
          2.6,
          3.28,
          2.1,
          2.61,
          6.737,
          0.37,
          4.6
         ],
         "y": [
          58,
          66,
          56,
          86,
          90,
          55,
          34,
          53,
          53,
          61,
          53,
          104,
          175,
          110,
          76,
          49,
          49,
          52,
          43,
          52,
          47,
          45,
          49,
          54,
          67,
          37,
          39,
          32,
          58,
          51,
          50,
          47,
          47,
          29,
          31,
          54,
          49,
          25,
          48,
          47,
          45,
          40,
          49,
          42,
          27,
          59,
          36,
          48,
          33,
          62,
          61,
          30,
          26,
          15,
          17,
          5,
          12,
          4,
          6,
          89,
          22,
          22,
          65,
          8,
          17,
          15,
          23,
          26,
          19,
          13,
          8,
          19,
          29,
          16,
          25,
          69,
          15,
          90,
          70,
          128,
          60,
          67,
          208,
          148,
          97,
          85,
          74,
          44,
          70,
          23,
          28,
          46,
          44,
          49,
          51,
          50,
          16,
          15,
          58,
          29,
          41,
          65,
          57,
          85,
          68,
          32,
          47,
          65,
          27,
          76
         ],
         "z": [
          0,
          0,
          0,
          0,
          0,
          0,
          0,
          0,
          0,
          0,
          0,
          0,
          0,
          0,
          0,
          0,
          0,
          0,
          0,
          0,
          0,
          0,
          0,
          0,
          0,
          0,
          0,
          0,
          0,
          0,
          0,
          0,
          0,
          0,
          1,
          0,
          0,
          0,
          0,
          0,
          0,
          0,
          0,
          0,
          0,
          0,
          0,
          0,
          0,
          0,
          0,
          12,
          10,
          22,
          18,
          22,
          26,
          33,
          22,
          13,
          21,
          26,
          21,
          48,
          22,
          27,
          15,
          17,
          15,
          20,
          27,
          17,
          15,
          22,
          16,
          10,
          30,
          14,
          13,
          7,
          12,
          13,
          5,
          6,
          13,
          3,
          3,
          20,
          16,
          17,
          20,
          20,
          18,
          23,
          16,
          12,
          24,
          20,
          25,
          10,
          21,
          9,
          10,
          9,
          9,
          13,
          20,
          6,
          19,
          14
         ]
        }
       ],
       "layout": {
        "autosize": true,
        "coloraxis": {
         "colorbar": {
          "title": {
           "text": "lat"
          }
         },
         "colorscale": [
          [
           0,
           "#0d0887"
          ],
          [
           0.1111111111111111,
           "#46039f"
          ],
          [
           0.2222222222222222,
           "#7201a8"
          ],
          [
           0.3333333333333333,
           "#9c179e"
          ],
          [
           0.4444444444444444,
           "#bd3786"
          ],
          [
           0.5555555555555556,
           "#d8576b"
          ],
          [
           0.6666666666666666,
           "#ed7953"
          ],
          [
           0.7777777777777778,
           "#fb9f3a"
          ],
          [
           0.8888888888888888,
           "#fdca26"
          ],
          [
           1,
           "#f0f921"
          ]
         ]
        },
        "legend": {
         "tracegroupgap": 0
        },
        "margin": {
         "t": 60
        },
        "scene": {
         "aspectmode": "auto",
         "aspectratio": {
          "x": 1,
          "y": 1,
          "z": 1
         },
         "camera": {
          "center": {
           "x": 0,
           "y": 0,
           "z": 0
          },
          "eye": {
           "x": 0.23503969396721539,
           "y": 0.23503969396721536,
           "z": 0.23503969396721536
          },
          "projection": {
           "type": "perspective"
          },
          "up": {
           "x": 0,
           "y": 0,
           "z": 1
          }
         },
         "domain": {
          "x": [
           0,
           1
          ],
          "y": [
           0,
           1
          ]
         },
         "xaxis": {
          "title": {
           "text": "area"
          },
          "type": "log"
         },
         "yaxis": {
          "title": {
           "text": "mean_thickness"
          },
          "type": "linear"
         },
         "zaxis": {
          "title": {
           "text": "mean_slope"
          },
          "type": "linear"
         }
        },
        "template": {
         "data": {
          "bar": [
           {
            "error_x": {
             "color": "#2a3f5f"
            },
            "error_y": {
             "color": "#2a3f5f"
            },
            "marker": {
             "line": {
              "color": "#E5ECF6",
              "width": 0.5
             },
             "pattern": {
              "fillmode": "overlay",
              "size": 10,
              "solidity": 0.2
             }
            },
            "type": "bar"
           }
          ],
          "barpolar": [
           {
            "marker": {
             "line": {
              "color": "#E5ECF6",
              "width": 0.5
             },
             "pattern": {
              "fillmode": "overlay",
              "size": 10,
              "solidity": 0.2
             }
            },
            "type": "barpolar"
           }
          ],
          "carpet": [
           {
            "aaxis": {
             "endlinecolor": "#2a3f5f",
             "gridcolor": "white",
             "linecolor": "white",
             "minorgridcolor": "white",
             "startlinecolor": "#2a3f5f"
            },
            "baxis": {
             "endlinecolor": "#2a3f5f",
             "gridcolor": "white",
             "linecolor": "white",
             "minorgridcolor": "white",
             "startlinecolor": "#2a3f5f"
            },
            "type": "carpet"
           }
          ],
          "choropleth": [
           {
            "colorbar": {
             "outlinewidth": 0,
             "ticks": ""
            },
            "type": "choropleth"
           }
          ],
          "contour": [
           {
            "colorbar": {
             "outlinewidth": 0,
             "ticks": ""
            },
            "colorscale": [
             [
              0,
              "#0d0887"
             ],
             [
              0.1111111111111111,
              "#46039f"
             ],
             [
              0.2222222222222222,
              "#7201a8"
             ],
             [
              0.3333333333333333,
              "#9c179e"
             ],
             [
              0.4444444444444444,
              "#bd3786"
             ],
             [
              0.5555555555555556,
              "#d8576b"
             ],
             [
              0.6666666666666666,
              "#ed7953"
             ],
             [
              0.7777777777777778,
              "#fb9f3a"
             ],
             [
              0.8888888888888888,
              "#fdca26"
             ],
             [
              1,
              "#f0f921"
             ]
            ],
            "type": "contour"
           }
          ],
          "contourcarpet": [
           {
            "colorbar": {
             "outlinewidth": 0,
             "ticks": ""
            },
            "type": "contourcarpet"
           }
          ],
          "heatmap": [
           {
            "colorbar": {
             "outlinewidth": 0,
             "ticks": ""
            },
            "colorscale": [
             [
              0,
              "#0d0887"
             ],
             [
              0.1111111111111111,
              "#46039f"
             ],
             [
              0.2222222222222222,
              "#7201a8"
             ],
             [
              0.3333333333333333,
              "#9c179e"
             ],
             [
              0.4444444444444444,
              "#bd3786"
             ],
             [
              0.5555555555555556,
              "#d8576b"
             ],
             [
              0.6666666666666666,
              "#ed7953"
             ],
             [
              0.7777777777777778,
              "#fb9f3a"
             ],
             [
              0.8888888888888888,
              "#fdca26"
             ],
             [
              1,
              "#f0f921"
             ]
            ],
            "type": "heatmap"
           }
          ],
          "heatmapgl": [
           {
            "colorbar": {
             "outlinewidth": 0,
             "ticks": ""
            },
            "colorscale": [
             [
              0,
              "#0d0887"
             ],
             [
              0.1111111111111111,
              "#46039f"
             ],
             [
              0.2222222222222222,
              "#7201a8"
             ],
             [
              0.3333333333333333,
              "#9c179e"
             ],
             [
              0.4444444444444444,
              "#bd3786"
             ],
             [
              0.5555555555555556,
              "#d8576b"
             ],
             [
              0.6666666666666666,
              "#ed7953"
             ],
             [
              0.7777777777777778,
              "#fb9f3a"
             ],
             [
              0.8888888888888888,
              "#fdca26"
             ],
             [
              1,
              "#f0f921"
             ]
            ],
            "type": "heatmapgl"
           }
          ],
          "histogram": [
           {
            "marker": {
             "pattern": {
              "fillmode": "overlay",
              "size": 10,
              "solidity": 0.2
             }
            },
            "type": "histogram"
           }
          ],
          "histogram2d": [
           {
            "colorbar": {
             "outlinewidth": 0,
             "ticks": ""
            },
            "colorscale": [
             [
              0,
              "#0d0887"
             ],
             [
              0.1111111111111111,
              "#46039f"
             ],
             [
              0.2222222222222222,
              "#7201a8"
             ],
             [
              0.3333333333333333,
              "#9c179e"
             ],
             [
              0.4444444444444444,
              "#bd3786"
             ],
             [
              0.5555555555555556,
              "#d8576b"
             ],
             [
              0.6666666666666666,
              "#ed7953"
             ],
             [
              0.7777777777777778,
              "#fb9f3a"
             ],
             [
              0.8888888888888888,
              "#fdca26"
             ],
             [
              1,
              "#f0f921"
             ]
            ],
            "type": "histogram2d"
           }
          ],
          "histogram2dcontour": [
           {
            "colorbar": {
             "outlinewidth": 0,
             "ticks": ""
            },
            "colorscale": [
             [
              0,
              "#0d0887"
             ],
             [
              0.1111111111111111,
              "#46039f"
             ],
             [
              0.2222222222222222,
              "#7201a8"
             ],
             [
              0.3333333333333333,
              "#9c179e"
             ],
             [
              0.4444444444444444,
              "#bd3786"
             ],
             [
              0.5555555555555556,
              "#d8576b"
             ],
             [
              0.6666666666666666,
              "#ed7953"
             ],
             [
              0.7777777777777778,
              "#fb9f3a"
             ],
             [
              0.8888888888888888,
              "#fdca26"
             ],
             [
              1,
              "#f0f921"
             ]
            ],
            "type": "histogram2dcontour"
           }
          ],
          "mesh3d": [
           {
            "colorbar": {
             "outlinewidth": 0,
             "ticks": ""
            },
            "type": "mesh3d"
           }
          ],
          "parcoords": [
           {
            "line": {
             "colorbar": {
              "outlinewidth": 0,
              "ticks": ""
             }
            },
            "type": "parcoords"
           }
          ],
          "pie": [
           {
            "automargin": true,
            "type": "pie"
           }
          ],
          "scatter": [
           {
            "fillpattern": {
             "fillmode": "overlay",
             "size": 10,
             "solidity": 0.2
            },
            "type": "scatter"
           }
          ],
          "scatter3d": [
           {
            "line": {
             "colorbar": {
              "outlinewidth": 0,
              "ticks": ""
             }
            },
            "marker": {
             "colorbar": {
              "outlinewidth": 0,
              "ticks": ""
             }
            },
            "type": "scatter3d"
           }
          ],
          "scattercarpet": [
           {
            "marker": {
             "colorbar": {
              "outlinewidth": 0,
              "ticks": ""
             }
            },
            "type": "scattercarpet"
           }
          ],
          "scattergeo": [
           {
            "marker": {
             "colorbar": {
              "outlinewidth": 0,
              "ticks": ""
             }
            },
            "type": "scattergeo"
           }
          ],
          "scattergl": [
           {
            "marker": {
             "colorbar": {
              "outlinewidth": 0,
              "ticks": ""
             }
            },
            "type": "scattergl"
           }
          ],
          "scattermapbox": [
           {
            "marker": {
             "colorbar": {
              "outlinewidth": 0,
              "ticks": ""
             }
            },
            "type": "scattermapbox"
           }
          ],
          "scatterpolar": [
           {
            "marker": {
             "colorbar": {
              "outlinewidth": 0,
              "ticks": ""
             }
            },
            "type": "scatterpolar"
           }
          ],
          "scatterpolargl": [
           {
            "marker": {
             "colorbar": {
              "outlinewidth": 0,
              "ticks": ""
             }
            },
            "type": "scatterpolargl"
           }
          ],
          "scatterternary": [
           {
            "marker": {
             "colorbar": {
              "outlinewidth": 0,
              "ticks": ""
             }
            },
            "type": "scatterternary"
           }
          ],
          "surface": [
           {
            "colorbar": {
             "outlinewidth": 0,
             "ticks": ""
            },
            "colorscale": [
             [
              0,
              "#0d0887"
             ],
             [
              0.1111111111111111,
              "#46039f"
             ],
             [
              0.2222222222222222,
              "#7201a8"
             ],
             [
              0.3333333333333333,
              "#9c179e"
             ],
             [
              0.4444444444444444,
              "#bd3786"
             ],
             [
              0.5555555555555556,
              "#d8576b"
             ],
             [
              0.6666666666666666,
              "#ed7953"
             ],
             [
              0.7777777777777778,
              "#fb9f3a"
             ],
             [
              0.8888888888888888,
              "#fdca26"
             ],
             [
              1,
              "#f0f921"
             ]
            ],
            "type": "surface"
           }
          ],
          "table": [
           {
            "cells": {
             "fill": {
              "color": "#EBF0F8"
             },
             "line": {
              "color": "white"
             }
            },
            "header": {
             "fill": {
              "color": "#C8D4E3"
             },
             "line": {
              "color": "white"
             }
            },
            "type": "table"
           }
          ]
         },
         "layout": {
          "annotationdefaults": {
           "arrowcolor": "#2a3f5f",
           "arrowhead": 0,
           "arrowwidth": 1
          },
          "autotypenumbers": "strict",
          "coloraxis": {
           "colorbar": {
            "outlinewidth": 0,
            "ticks": ""
           }
          },
          "colorscale": {
           "diverging": [
            [
             0,
             "#8e0152"
            ],
            [
             0.1,
             "#c51b7d"
            ],
            [
             0.2,
             "#de77ae"
            ],
            [
             0.3,
             "#f1b6da"
            ],
            [
             0.4,
             "#fde0ef"
            ],
            [
             0.5,
             "#f7f7f7"
            ],
            [
             0.6,
             "#e6f5d0"
            ],
            [
             0.7,
             "#b8e186"
            ],
            [
             0.8,
             "#7fbc41"
            ],
            [
             0.9,
             "#4d9221"
            ],
            [
             1,
             "#276419"
            ]
           ],
           "sequential": [
            [
             0,
             "#0d0887"
            ],
            [
             0.1111111111111111,
             "#46039f"
            ],
            [
             0.2222222222222222,
             "#7201a8"
            ],
            [
             0.3333333333333333,
             "#9c179e"
            ],
            [
             0.4444444444444444,
             "#bd3786"
            ],
            [
             0.5555555555555556,
             "#d8576b"
            ],
            [
             0.6666666666666666,
             "#ed7953"
            ],
            [
             0.7777777777777778,
             "#fb9f3a"
            ],
            [
             0.8888888888888888,
             "#fdca26"
            ],
            [
             1,
             "#f0f921"
            ]
           ],
           "sequentialminus": [
            [
             0,
             "#0d0887"
            ],
            [
             0.1111111111111111,
             "#46039f"
            ],
            [
             0.2222222222222222,
             "#7201a8"
            ],
            [
             0.3333333333333333,
             "#9c179e"
            ],
            [
             0.4444444444444444,
             "#bd3786"
            ],
            [
             0.5555555555555556,
             "#d8576b"
            ],
            [
             0.6666666666666666,
             "#ed7953"
            ],
            [
             0.7777777777777778,
             "#fb9f3a"
            ],
            [
             0.8888888888888888,
             "#fdca26"
            ],
            [
             1,
             "#f0f921"
            ]
           ]
          },
          "colorway": [
           "#636efa",
           "#EF553B",
           "#00cc96",
           "#ab63fa",
           "#FFA15A",
           "#19d3f3",
           "#FF6692",
           "#B6E880",
           "#FF97FF",
           "#FECB52"
          ],
          "font": {
           "color": "#2a3f5f"
          },
          "geo": {
           "bgcolor": "white",
           "lakecolor": "white",
           "landcolor": "#E5ECF6",
           "showlakes": true,
           "showland": true,
           "subunitcolor": "white"
          },
          "hoverlabel": {
           "align": "left"
          },
          "hovermode": "closest",
          "mapbox": {
           "style": "light"
          },
          "paper_bgcolor": "white",
          "plot_bgcolor": "#E5ECF6",
          "polar": {
           "angularaxis": {
            "gridcolor": "white",
            "linecolor": "white",
            "ticks": ""
           },
           "bgcolor": "#E5ECF6",
           "radialaxis": {
            "gridcolor": "white",
            "linecolor": "white",
            "ticks": ""
           }
          },
          "scene": {
           "xaxis": {
            "backgroundcolor": "#E5ECF6",
            "gridcolor": "white",
            "gridwidth": 2,
            "linecolor": "white",
            "showbackground": true,
            "ticks": "",
            "zerolinecolor": "white"
           },
           "yaxis": {
            "backgroundcolor": "#E5ECF6",
            "gridcolor": "white",
            "gridwidth": 2,
            "linecolor": "white",
            "showbackground": true,
            "ticks": "",
            "zerolinecolor": "white"
           },
           "zaxis": {
            "backgroundcolor": "#E5ECF6",
            "gridcolor": "white",
            "gridwidth": 2,
            "linecolor": "white",
            "showbackground": true,
            "ticks": "",
            "zerolinecolor": "white"
           }
          },
          "shapedefaults": {
           "line": {
            "color": "#2a3f5f"
           }
          },
          "ternary": {
           "aaxis": {
            "gridcolor": "white",
            "linecolor": "white",
            "ticks": ""
           },
           "baxis": {
            "gridcolor": "white",
            "linecolor": "white",
            "ticks": ""
           },
           "bgcolor": "#E5ECF6",
           "caxis": {
            "gridcolor": "white",
            "linecolor": "white",
            "ticks": ""
           }
          },
          "title": {
           "x": 0.05
          },
          "xaxis": {
           "automargin": true,
           "gridcolor": "white",
           "linecolor": "white",
           "ticks": "",
           "title": {
            "standoff": 15
           },
           "zerolinecolor": "white",
           "zerolinewidth": 2
          },
          "yaxis": {
           "automargin": true,
           "gridcolor": "white",
           "linecolor": "white",
           "ticks": "",
           "title": {
            "standoff": 15
           },
           "zerolinecolor": "white",
           "zerolinewidth": 2
          }
         }
        }
       }
      },
      "image/png": "[encoded data removed]"
     },
     "metadata": {},
     "output_type": "display_data"
    }
   ],
   "source": [
    "# solution\n",
    "fig = px.scatter_3d(df, x='area', y='mean_thickness', z='mean_slope',\n",
    "              color='lat',log_x=True)\n",
    "fig.show()"
   ]
  },
  {
   "cell_type": "markdown",
   "metadata": {},
   "source": [
    "### c) Pandas Correlation function (1 point)\n",
    "\n",
    "You may use Pandas functionalities to explore correlation between data. Use the function ``corr`` on the dataframe and the matplotlib function ``matshow`` to plot a heatmap of the correlations"
   ]
  },
  {
   "cell_type": "code",
   "execution_count": 51,
   "metadata": {},
   "outputs": [
    {
     "name": "stderr",
     "output_type": "stream",
     "text": [
      "/tmp/ipykernel_69/3998645979.py:3: FutureWarning:\n",
      "\n",
      "The default value of numeric_only in DataFrame.corr is deprecated. In a future version, it will default to False. Select only valid columns or specify the value of numeric_only to silence this warning.\n",
      "\n"
     ]
    },
    {
     "data": {
      "text/plain": [
       "<matplotlib.image.AxesImage at 0x7f60d1485a90>"
      ]
     },
     "execution_count": 51,
     "metadata": {},
     "output_type": "execute_result"
    },
    {
     "data": {
      "image/png": "[encoded data removed]",
      "text/plain": [
       "<Figure size 480x480 with 1 Axes>"
      ]
     },
     "metadata": {},
     "output_type": "display_data"
    }
   ],
   "source": [
    "#solution\n",
    "#df.corr\n",
    "plt.matshow(df.corr())"
   ]
  },
  {
   "cell_type": "markdown",
   "metadata": {},
   "source": [
    "### f) Seaborn Plotting (1 point)\n",
    "\n",
    "Seaborn is a great python package for basic data anlytics. See documentation [here](!https://seaborn.pydata.org/)."
   ]
  },
  {
   "cell_type": "code",
   "execution_count": null,
   "metadata": {},
   "outputs": [],
   "source": [
    "#solution"
   ]
  },
  {
   "cell_type": "code",
   "execution_count": 52,
   "metadata": {},
   "outputs": [
    {
     "name": "stderr",
     "output_type": "stream",
     "text": [
      "/tmp/ipykernel_69/68889831.py:5: FutureWarning:\n",
      "\n",
      "The default value of numeric_only in DataFrame.corr is deprecated. In a future version, it will default to False. Select only valid columns or specify the value of numeric_only to silence this warning.\n",
      "\n"
     ]
    },
    {
     "data": {
      "text/plain": [
       "<seaborn.axisgrid.FacetGrid at 0x7f60d16e1fd0>"
      ]
     },
     "execution_count": 52,
     "metadata": {},
     "output_type": "execute_result"
    },
    {
     "data": {
      "image/png": "[encoded data removed]",
      "text/plain": [
       "<Figure size 500x500 with 1 Axes>"
      ]
     },
     "metadata": {},
     "output_type": "display_data"
    }
   ],
   "source": [
    "# solution\n",
    "import seaborn as sns\n",
    "sns.set_theme()\n",
    "\n",
    "sns.relplot(data=df.corr(),\n",
    "         kind=\"line\", x=\"area\", y=\"mean_thickness\")\n",
    "# hue=\"smoker\", style=\"smoker\", size=\"size\""
   ]
  },
  {
   "cell_type": "markdown",
   "metadata": {},
   "source": [
    "Discuss the basic correlations among the data. Do these correction make sense when you think about the shapes of glaciers?"
   ]
  },
  {
   "cell_type": "markdown",
   "metadata": {},
   "source": [
    "enter text below\n",
    "The correlation between area and thickness being positive makes sense (as area increases thickness also increases). The correlation of thickness and \n",
    "slope makes sense in a way that a thicker glacier would be more stable and so the slope would be less."
   ]
  },
  {
   "cell_type": "markdown",
   "metadata": {
    "tags": []
   },
   "source": [
    "## 4. Linear Regression (10 points total counted in the next section)\n",
    "You found from basic data visualization that the three parameters ``mean_slope``, ``mean_thickness``, and ``area`` are correlated. It does make physical sense because a *steep* glaciers is likely to be in the high mountains regions, hanging on the mountain walls, and thus be constrained, and conversely, a flat glacier is either at its valley, ocean terminus or on ice sheets.\n",
    "\n",
    "### a) Simple linear regression (2 points)\n",
    "We will now perform a regression between the parameters (or their log!). Linear regressions are models that can be imported from scikit-learn. Log/exp functions in numpy as ``np.log()`` and ``np.exp()``.\n",
    "Remember that a linear regression is finding $a$ and $b$ knowing both $x$ and the data $y$ in $y = Ax +b$. We want to predict ice thickness from a crude estimate of the glacier area.\n",
    "\n",
    "__Tips__: \n",
    "a. make sure that the dimensions are correct and that there is no NaNs and zeros.\n",
    "b. Make sure to inport the scikit learn linear regression function and the error metrics."
   ]
  },
  {
   "cell_type": "code",
   "execution_count": 53,
   "metadata": {},
   "outputs": [
    {
     "data": {
      "text/plain": [
       "LinearRegression()"
      ]
     },
     "execution_count": 53,
     "metadata": {},
     "output_type": "execute_result"
    }
   ],
   "source": [
    "# solution\n",
    "from sklearn.linear_model import LinearRegression\n",
    "from sklearn.metrics import mean_squared_error, r2_score\n",
    "\n",
    "reg = LinearRegression()\n",
    "for_reg = np.array(np.log(df['area'])).reshape(-1,1)\n",
    "reg.fit(for_reg,df['mean_thickness'])"
   ]
  },
  {
   "cell_type": "markdown",
   "metadata": {},
   "source": [
    "Make a plot of the data and the linear regression your performed"
   ]
  },
  {
   "cell_type": "code",
   "execution_count": 118,
   "metadata": {},
   "outputs": [
    {
     "data": {
      "text/plain": [
       "<AxesSubplot: xlabel='area', ylabel='mean_thickness'>"
      ]
     },
     "execution_count": 118,
     "metadata": {},
     "output_type": "execute_result"
    },
    {
     "data": {
      "image/png": "[encoded data removed]",
      "text/plain": [
       "<Figure size 640x480 with 1 Axes>"
      ]
     },
     "metadata": {},
     "output_type": "display_data"
    }
   ],
   "source": [
    "#or train_index, test_index in loo.split(np.log(df['area'])):\n",
    "#    print(\"TRAIN:\", train_index, \"TEST:\", test_index)\n",
    "\n",
    "sns.regplot(x=np.log(df['area']),y=df['mean_thickness'], ci=None)"
   ]
  },
  {
   "cell_type": "markdown",
   "metadata": {},
   "source": [
    "**Briefly comment on the quality of your fit and a linear regression (1 point)**"
   ]
  },
  {
   "cell_type": "markdown",
   "metadata": {},
   "source": [
    "The fit looks pretty good, except that there are outliers on mean thickness and a couple of outliers on the high end of area."
   ]
  },
  {
   "cell_type": "markdown",
   "metadata": {},
   "source": [
    "### b) Leave One Out Cross Validation linear regression (1 point)\n",
    "\n",
    "\n",
    "Perform the LOCCV on the ``area`` and ``thickness`` values. Predict the ``thickness`` value knowing a ``area`` value. Use material seen in class. Make a plot of your fit."
   ]
  },
  {
   "cell_type": "code",
   "execution_count": 152,
   "metadata": {},
   "outputs": [
    {
     "name": "stderr",
     "output_type": "stream",
     "text": [
      "/srv/conda/envs/notebook/lib/python3.8/site-packages/sklearn/metrics/_regression.py:682: UndefinedMetricWarning:\n",
      "\n",
      "R^2 score is not well-defined with less than two samples.\n",
      "\n",
      "/srv/conda/envs/notebook/lib/python3.8/site-packages/sklearn/metrics/_regression.py:682: UndefinedMetricWarning:\n",
      "\n",
      "R^2 score is not well-defined with less than two samples.\n",
      "\n",
      "/srv/conda/envs/notebook/lib/python3.8/site-packages/sklearn/metrics/_regression.py:682: UndefinedMetricWarning:\n",
      "\n",
      "R^2 score is not well-defined with less than two samples.\n",
      "\n",
      "/srv/conda/envs/notebook/lib/python3.8/site-packages/sklearn/metrics/_regression.py:682: UndefinedMetricWarning:\n",
      "\n",
      "R^2 score is not well-defined with less than two samples.\n",
      "\n",
      "/srv/conda/envs/notebook/lib/python3.8/site-packages/sklearn/metrics/_regression.py:682: UndefinedMetricWarning:\n",
      "\n",
      "R^2 score is not well-defined with less than two samples.\n",
      "\n",
      "/srv/conda/envs/notebook/lib/python3.8/site-packages/sklearn/metrics/_regression.py:682: UndefinedMetricWarning:\n",
      "\n",
      "R^2 score is not well-defined with less than two samples.\n",
      "\n",
      "/srv/conda/envs/notebook/lib/python3.8/site-packages/sklearn/metrics/_regression.py:682: UndefinedMetricWarning:\n",
      "\n",
      "R^2 score is not well-defined with less than two samples.\n",
      "\n",
      "/srv/conda/envs/notebook/lib/python3.8/site-packages/sklearn/metrics/_regression.py:682: UndefinedMetricWarning:\n",
      "\n",
      "R^2 score is not well-defined with less than two samples.\n",
      "\n",
      "/srv/conda/envs/notebook/lib/python3.8/site-packages/sklearn/metrics/_regression.py:682: UndefinedMetricWarning:\n",
      "\n",
      "R^2 score is not well-defined with less than two samples.\n",
      "\n",
      "/srv/conda/envs/notebook/lib/python3.8/site-packages/sklearn/metrics/_regression.py:682: UndefinedMetricWarning:\n",
      "\n",
      "R^2 score is not well-defined with less than two samples.\n",
      "\n",
      "/srv/conda/envs/notebook/lib/python3.8/site-packages/sklearn/metrics/_regression.py:682: UndefinedMetricWarning:\n",
      "\n",
      "R^2 score is not well-defined with less than two samples.\n",
      "\n",
      "/srv/conda/envs/notebook/lib/python3.8/site-packages/sklearn/metrics/_regression.py:682: UndefinedMetricWarning:\n",
      "\n",
      "R^2 score is not well-defined with less than two samples.\n",
      "\n",
      "/srv/conda/envs/notebook/lib/python3.8/site-packages/sklearn/metrics/_regression.py:682: UndefinedMetricWarning:\n",
      "\n",
      "R^2 score is not well-defined with less than two samples.\n",
      "\n",
      "/srv/conda/envs/notebook/lib/python3.8/site-packages/sklearn/metrics/_regression.py:682: UndefinedMetricWarning:\n",
      "\n",
      "R^2 score is not well-defined with less than two samples.\n",
      "\n",
      "/srv/conda/envs/notebook/lib/python3.8/site-packages/sklearn/metrics/_regression.py:682: UndefinedMetricWarning:\n",
      "\n",
      "R^2 score is not well-defined with less than two samples.\n",
      "\n",
      "/srv/conda/envs/notebook/lib/python3.8/site-packages/sklearn/metrics/_regression.py:682: UndefinedMetricWarning:\n",
      "\n",
      "R^2 score is not well-defined with less than two samples.\n",
      "\n",
      "/srv/conda/envs/notebook/lib/python3.8/site-packages/sklearn/metrics/_regression.py:682: UndefinedMetricWarning:\n",
      "\n",
      "R^2 score is not well-defined with less than two samples.\n",
      "\n",
      "/srv/conda/envs/notebook/lib/python3.8/site-packages/sklearn/metrics/_regression.py:682: UndefinedMetricWarning:\n",
      "\n",
      "R^2 score is not well-defined with less than two samples.\n",
      "\n",
      "/srv/conda/envs/notebook/lib/python3.8/site-packages/sklearn/metrics/_regression.py:682: UndefinedMetricWarning:\n",
      "\n",
      "R^2 score is not well-defined with less than two samples.\n",
      "\n",
      "/srv/conda/envs/notebook/lib/python3.8/site-packages/sklearn/metrics/_regression.py:682: UndefinedMetricWarning:\n",
      "\n",
      "R^2 score is not well-defined with less than two samples.\n",
      "\n",
      "/srv/conda/envs/notebook/lib/python3.8/site-packages/sklearn/metrics/_regression.py:682: UndefinedMetricWarning:\n",
      "\n",
      "R^2 score is not well-defined with less than two samples.\n",
      "\n",
      "/srv/conda/envs/notebook/lib/python3.8/site-packages/sklearn/metrics/_regression.py:682: UndefinedMetricWarning:\n",
      "\n",
      "R^2 score is not well-defined with less than two samples.\n",
      "\n",
      "/srv/conda/envs/notebook/lib/python3.8/site-packages/sklearn/metrics/_regression.py:682: UndefinedMetricWarning:\n",
      "\n",
      "R^2 score is not well-defined with less than two samples.\n",
      "\n",
      "/srv/conda/envs/notebook/lib/python3.8/site-packages/sklearn/metrics/_regression.py:682: UndefinedMetricWarning:\n",
      "\n",
      "R^2 score is not well-defined with less than two samples.\n",
      "\n",
      "/srv/conda/envs/notebook/lib/python3.8/site-packages/sklearn/metrics/_regression.py:682: UndefinedMetricWarning:\n",
      "\n",
      "R^2 score is not well-defined with less than two samples.\n",
      "\n",
      "/srv/conda/envs/notebook/lib/python3.8/site-packages/sklearn/metrics/_regression.py:682: UndefinedMetricWarning:\n",
      "\n",
      "R^2 score is not well-defined with less than two samples.\n",
      "\n",
      "/srv/conda/envs/notebook/lib/python3.8/site-packages/sklearn/metrics/_regression.py:682: UndefinedMetricWarning:\n",
      "\n",
      "R^2 score is not well-defined with less than two samples.\n",
      "\n",
      "/srv/conda/envs/notebook/lib/python3.8/site-packages/sklearn/metrics/_regression.py:682: UndefinedMetricWarning:\n",
      "\n",
      "R^2 score is not well-defined with less than two samples.\n",
      "\n",
      "/srv/conda/envs/notebook/lib/python3.8/site-packages/sklearn/metrics/_regression.py:682: UndefinedMetricWarning:\n",
      "\n",
      "R^2 score is not well-defined with less than two samples.\n",
      "\n",
      "/srv/conda/envs/notebook/lib/python3.8/site-packages/sklearn/metrics/_regression.py:682: UndefinedMetricWarning:\n",
      "\n",
      "R^2 score is not well-defined with less than two samples.\n",
      "\n",
      "/srv/conda/envs/notebook/lib/python3.8/site-packages/sklearn/metrics/_regression.py:682: UndefinedMetricWarning:\n",
      "\n",
      "R^2 score is not well-defined with less than two samples.\n",
      "\n",
      "/srv/conda/envs/notebook/lib/python3.8/site-packages/sklearn/metrics/_regression.py:682: UndefinedMetricWarning:\n",
      "\n",
      "R^2 score is not well-defined with less than two samples.\n",
      "\n",
      "/srv/conda/envs/notebook/lib/python3.8/site-packages/sklearn/metrics/_regression.py:682: UndefinedMetricWarning:\n",
      "\n",
      "R^2 score is not well-defined with less than two samples.\n",
      "\n",
      "/srv/conda/envs/notebook/lib/python3.8/site-packages/sklearn/metrics/_regression.py:682: UndefinedMetricWarning:\n",
      "\n",
      "R^2 score is not well-defined with less than two samples.\n",
      "\n",
      "/srv/conda/envs/notebook/lib/python3.8/site-packages/sklearn/metrics/_regression.py:682: UndefinedMetricWarning:\n",
      "\n",
      "R^2 score is not well-defined with less than two samples.\n",
      "\n",
      "/srv/conda/envs/notebook/lib/python3.8/site-packages/sklearn/metrics/_regression.py:682: UndefinedMetricWarning:\n",
      "\n",
      "R^2 score is not well-defined with less than two samples.\n",
      "\n",
      "/srv/conda/envs/notebook/lib/python3.8/site-packages/sklearn/metrics/_regression.py:682: UndefinedMetricWarning:\n",
      "\n",
      "R^2 score is not well-defined with less than two samples.\n",
      "\n",
      "/srv/conda/envs/notebook/lib/python3.8/site-packages/sklearn/metrics/_regression.py:682: UndefinedMetricWarning:\n",
      "\n",
      "R^2 score is not well-defined with less than two samples.\n",
      "\n",
      "/srv/conda/envs/notebook/lib/python3.8/site-packages/sklearn/metrics/_regression.py:682: UndefinedMetricWarning:\n",
      "\n",
      "R^2 score is not well-defined with less than two samples.\n",
      "\n",
      "/srv/conda/envs/notebook/lib/python3.8/site-packages/sklearn/metrics/_regression.py:682: UndefinedMetricWarning:\n",
      "\n",
      "R^2 score is not well-defined with less than two samples.\n",
      "\n",
      "/srv/conda/envs/notebook/lib/python3.8/site-packages/sklearn/metrics/_regression.py:682: UndefinedMetricWarning:\n",
      "\n",
      "R^2 score is not well-defined with less than two samples.\n",
      "\n",
      "/srv/conda/envs/notebook/lib/python3.8/site-packages/sklearn/metrics/_regression.py:682: UndefinedMetricWarning:\n",
      "\n",
      "R^2 score is not well-defined with less than two samples.\n",
      "\n",
      "/srv/conda/envs/notebook/lib/python3.8/site-packages/sklearn/metrics/_regression.py:682: UndefinedMetricWarning:\n",
      "\n",
      "R^2 score is not well-defined with less than two samples.\n",
      "\n",
      "/srv/conda/envs/notebook/lib/python3.8/site-packages/sklearn/metrics/_regression.py:682: UndefinedMetricWarning:\n",
      "\n",
      "R^2 score is not well-defined with less than two samples.\n",
      "\n",
      "/srv/conda/envs/notebook/lib/python3.8/site-packages/sklearn/metrics/_regression.py:682: UndefinedMetricWarning:\n",
      "\n",
      "R^2 score is not well-defined with less than two samples.\n",
      "\n",
      "/srv/conda/envs/notebook/lib/python3.8/site-packages/sklearn/metrics/_regression.py:682: UndefinedMetricWarning:\n",
      "\n",
      "R^2 score is not well-defined with less than two samples.\n",
      "\n",
      "/srv/conda/envs/notebook/lib/python3.8/site-packages/sklearn/metrics/_regression.py:682: UndefinedMetricWarning:\n",
      "\n",
      "R^2 score is not well-defined with less than two samples.\n",
      "\n",
      "/srv/conda/envs/notebook/lib/python3.8/site-packages/sklearn/metrics/_regression.py:682: UndefinedMetricWarning:\n",
      "\n",
      "R^2 score is not well-defined with less than two samples.\n",
      "\n",
      "/srv/conda/envs/notebook/lib/python3.8/site-packages/sklearn/metrics/_regression.py:682: UndefinedMetricWarning:\n",
      "\n",
      "R^2 score is not well-defined with less than two samples.\n",
      "\n",
      "/srv/conda/envs/notebook/lib/python3.8/site-packages/sklearn/metrics/_regression.py:682: UndefinedMetricWarning:\n",
      "\n",
      "R^2 score is not well-defined with less than two samples.\n",
      "\n",
      "/srv/conda/envs/notebook/lib/python3.8/site-packages/sklearn/metrics/_regression.py:682: UndefinedMetricWarning:\n",
      "\n",
      "R^2 score is not well-defined with less than two samples.\n",
      "\n",
      "/srv/conda/envs/notebook/lib/python3.8/site-packages/sklearn/metrics/_regression.py:682: UndefinedMetricWarning:\n",
      "\n",
      "R^2 score is not well-defined with less than two samples.\n",
      "\n",
      "/srv/conda/envs/notebook/lib/python3.8/site-packages/sklearn/metrics/_regression.py:682: UndefinedMetricWarning:\n",
      "\n",
      "R^2 score is not well-defined with less than two samples.\n",
      "\n",
      "/srv/conda/envs/notebook/lib/python3.8/site-packages/sklearn/metrics/_regression.py:682: UndefinedMetricWarning:\n",
      "\n",
      "R^2 score is not well-defined with less than two samples.\n",
      "\n",
      "/srv/conda/envs/notebook/lib/python3.8/site-packages/sklearn/metrics/_regression.py:682: UndefinedMetricWarning:\n",
      "\n",
      "R^2 score is not well-defined with less than two samples.\n",
      "\n",
      "/srv/conda/envs/notebook/lib/python3.8/site-packages/sklearn/metrics/_regression.py:682: UndefinedMetricWarning:\n",
      "\n",
      "R^2 score is not well-defined with less than two samples.\n",
      "\n",
      "/srv/conda/envs/notebook/lib/python3.8/site-packages/sklearn/metrics/_regression.py:682: UndefinedMetricWarning:\n",
      "\n",
      "R^2 score is not well-defined with less than two samples.\n",
      "\n",
      "/srv/conda/envs/notebook/lib/python3.8/site-packages/sklearn/metrics/_regression.py:682: UndefinedMetricWarning:\n",
      "\n",
      "R^2 score is not well-defined with less than two samples.\n",
      "\n",
      "/srv/conda/envs/notebook/lib/python3.8/site-packages/sklearn/metrics/_regression.py:682: UndefinedMetricWarning:\n",
      "\n",
      "R^2 score is not well-defined with less than two samples.\n",
      "\n",
      "/srv/conda/envs/notebook/lib/python3.8/site-packages/sklearn/metrics/_regression.py:682: UndefinedMetricWarning:\n",
      "\n",
      "R^2 score is not well-defined with less than two samples.\n",
      "\n",
      "/srv/conda/envs/notebook/lib/python3.8/site-packages/sklearn/metrics/_regression.py:682: UndefinedMetricWarning:\n",
      "\n",
      "R^2 score is not well-defined with less than two samples.\n",
      "\n",
      "/srv/conda/envs/notebook/lib/python3.8/site-packages/sklearn/metrics/_regression.py:682: UndefinedMetricWarning:\n",
      "\n",
      "R^2 score is not well-defined with less than two samples.\n",
      "\n",
      "/srv/conda/envs/notebook/lib/python3.8/site-packages/sklearn/metrics/_regression.py:682: UndefinedMetricWarning:\n",
      "\n",
      "R^2 score is not well-defined with less than two samples.\n",
      "\n",
      "/srv/conda/envs/notebook/lib/python3.8/site-packages/sklearn/metrics/_regression.py:682: UndefinedMetricWarning:\n",
      "\n",
      "R^2 score is not well-defined with less than two samples.\n",
      "\n",
      "/srv/conda/envs/notebook/lib/python3.8/site-packages/sklearn/metrics/_regression.py:682: UndefinedMetricWarning:\n",
      "\n",
      "R^2 score is not well-defined with less than two samples.\n",
      "\n",
      "/srv/conda/envs/notebook/lib/python3.8/site-packages/sklearn/metrics/_regression.py:682: UndefinedMetricWarning:\n",
      "\n",
      "R^2 score is not well-defined with less than two samples.\n",
      "\n",
      "/srv/conda/envs/notebook/lib/python3.8/site-packages/sklearn/metrics/_regression.py:682: UndefinedMetricWarning:\n",
      "\n",
      "R^2 score is not well-defined with less than two samples.\n",
      "\n",
      "/srv/conda/envs/notebook/lib/python3.8/site-packages/sklearn/metrics/_regression.py:682: UndefinedMetricWarning:\n",
      "\n",
      "R^2 score is not well-defined with less than two samples.\n",
      "\n",
      "/srv/conda/envs/notebook/lib/python3.8/site-packages/sklearn/metrics/_regression.py:682: UndefinedMetricWarning:\n",
      "\n",
      "R^2 score is not well-defined with less than two samples.\n",
      "\n",
      "/srv/conda/envs/notebook/lib/python3.8/site-packages/sklearn/metrics/_regression.py:682: UndefinedMetricWarning:\n",
      "\n",
      "R^2 score is not well-defined with less than two samples.\n",
      "\n",
      "/srv/conda/envs/notebook/lib/python3.8/site-packages/sklearn/metrics/_regression.py:682: UndefinedMetricWarning:\n",
      "\n",
      "R^2 score is not well-defined with less than two samples.\n",
      "\n",
      "/srv/conda/envs/notebook/lib/python3.8/site-packages/sklearn/metrics/_regression.py:682: UndefinedMetricWarning:\n",
      "\n",
      "R^2 score is not well-defined with less than two samples.\n",
      "\n",
      "/srv/conda/envs/notebook/lib/python3.8/site-packages/sklearn/metrics/_regression.py:682: UndefinedMetricWarning:\n",
      "\n",
      "R^2 score is not well-defined with less than two samples.\n",
      "\n",
      "/srv/conda/envs/notebook/lib/python3.8/site-packages/sklearn/metrics/_regression.py:682: UndefinedMetricWarning:\n",
      "\n",
      "R^2 score is not well-defined with less than two samples.\n",
      "\n",
      "/srv/conda/envs/notebook/lib/python3.8/site-packages/sklearn/metrics/_regression.py:682: UndefinedMetricWarning:\n",
      "\n",
      "R^2 score is not well-defined with less than two samples.\n",
      "\n",
      "/srv/conda/envs/notebook/lib/python3.8/site-packages/sklearn/metrics/_regression.py:682: UndefinedMetricWarning:\n",
      "\n",
      "R^2 score is not well-defined with less than two samples.\n",
      "\n",
      "/srv/conda/envs/notebook/lib/python3.8/site-packages/sklearn/metrics/_regression.py:682: UndefinedMetricWarning:\n",
      "\n",
      "R^2 score is not well-defined with less than two samples.\n",
      "\n",
      "/srv/conda/envs/notebook/lib/python3.8/site-packages/sklearn/metrics/_regression.py:682: UndefinedMetricWarning:\n",
      "\n",
      "R^2 score is not well-defined with less than two samples.\n",
      "\n",
      "/srv/conda/envs/notebook/lib/python3.8/site-packages/sklearn/metrics/_regression.py:682: UndefinedMetricWarning:\n",
      "\n",
      "R^2 score is not well-defined with less than two samples.\n",
      "\n",
      "/srv/conda/envs/notebook/lib/python3.8/site-packages/sklearn/metrics/_regression.py:682: UndefinedMetricWarning:\n",
      "\n",
      "R^2 score is not well-defined with less than two samples.\n",
      "\n",
      "/srv/conda/envs/notebook/lib/python3.8/site-packages/sklearn/metrics/_regression.py:682: UndefinedMetricWarning:\n",
      "\n",
      "R^2 score is not well-defined with less than two samples.\n",
      "\n",
      "/srv/conda/envs/notebook/lib/python3.8/site-packages/sklearn/metrics/_regression.py:682: UndefinedMetricWarning:\n",
      "\n",
      "R^2 score is not well-defined with less than two samples.\n",
      "\n",
      "/srv/conda/envs/notebook/lib/python3.8/site-packages/sklearn/metrics/_regression.py:682: UndefinedMetricWarning:\n",
      "\n",
      "R^2 score is not well-defined with less than two samples.\n",
      "\n",
      "/srv/conda/envs/notebook/lib/python3.8/site-packages/sklearn/metrics/_regression.py:682: UndefinedMetricWarning:\n",
      "\n",
      "R^2 score is not well-defined with less than two samples.\n",
      "\n",
      "/srv/conda/envs/notebook/lib/python3.8/site-packages/sklearn/metrics/_regression.py:682: UndefinedMetricWarning:\n",
      "\n",
      "R^2 score is not well-defined with less than two samples.\n",
      "\n",
      "/srv/conda/envs/notebook/lib/python3.8/site-packages/sklearn/metrics/_regression.py:682: UndefinedMetricWarning:\n",
      "\n",
      "R^2 score is not well-defined with less than two samples.\n",
      "\n",
      "/srv/conda/envs/notebook/lib/python3.8/site-packages/sklearn/metrics/_regression.py:682: UndefinedMetricWarning:\n",
      "\n",
      "R^2 score is not well-defined with less than two samples.\n",
      "\n",
      "/srv/conda/envs/notebook/lib/python3.8/site-packages/sklearn/metrics/_regression.py:682: UndefinedMetricWarning:\n",
      "\n",
      "R^2 score is not well-defined with less than two samples.\n",
      "\n",
      "/srv/conda/envs/notebook/lib/python3.8/site-packages/sklearn/metrics/_regression.py:682: UndefinedMetricWarning:\n",
      "\n",
      "R^2 score is not well-defined with less than two samples.\n",
      "\n",
      "/srv/conda/envs/notebook/lib/python3.8/site-packages/sklearn/metrics/_regression.py:682: UndefinedMetricWarning:\n",
      "\n",
      "R^2 score is not well-defined with less than two samples.\n",
      "\n",
      "/srv/conda/envs/notebook/lib/python3.8/site-packages/sklearn/metrics/_regression.py:682: UndefinedMetricWarning:\n",
      "\n",
      "R^2 score is not well-defined with less than two samples.\n",
      "\n",
      "/srv/conda/envs/notebook/lib/python3.8/site-packages/sklearn/metrics/_regression.py:682: UndefinedMetricWarning:\n",
      "\n",
      "R^2 score is not well-defined with less than two samples.\n",
      "\n",
      "/srv/conda/envs/notebook/lib/python3.8/site-packages/sklearn/metrics/_regression.py:682: UndefinedMetricWarning:\n",
      "\n",
      "R^2 score is not well-defined with less than two samples.\n",
      "\n",
      "/srv/conda/envs/notebook/lib/python3.8/site-packages/sklearn/metrics/_regression.py:682: UndefinedMetricWarning:\n",
      "\n",
      "R^2 score is not well-defined with less than two samples.\n",
      "\n",
      "/srv/conda/envs/notebook/lib/python3.8/site-packages/sklearn/metrics/_regression.py:682: UndefinedMetricWarning:\n",
      "\n",
      "R^2 score is not well-defined with less than two samples.\n",
      "\n",
      "/srv/conda/envs/notebook/lib/python3.8/site-packages/sklearn/metrics/_regression.py:682: UndefinedMetricWarning:\n",
      "\n",
      "R^2 score is not well-defined with less than two samples.\n",
      "\n",
      "/srv/conda/envs/notebook/lib/python3.8/site-packages/sklearn/metrics/_regression.py:682: UndefinedMetricWarning:\n",
      "\n",
      "R^2 score is not well-defined with less than two samples.\n",
      "\n",
      "/srv/conda/envs/notebook/lib/python3.8/site-packages/sklearn/metrics/_regression.py:682: UndefinedMetricWarning:\n",
      "\n",
      "R^2 score is not well-defined with less than two samples.\n",
      "\n",
      "/srv/conda/envs/notebook/lib/python3.8/site-packages/sklearn/metrics/_regression.py:682: UndefinedMetricWarning:\n",
      "\n",
      "R^2 score is not well-defined with less than two samples.\n",
      "\n",
      "/srv/conda/envs/notebook/lib/python3.8/site-packages/sklearn/metrics/_regression.py:682: UndefinedMetricWarning:\n",
      "\n",
      "R^2 score is not well-defined with less than two samples.\n",
      "\n",
      "/srv/conda/envs/notebook/lib/python3.8/site-packages/sklearn/metrics/_regression.py:682: UndefinedMetricWarning:\n",
      "\n",
      "R^2 score is not well-defined with less than two samples.\n",
      "\n",
      "/srv/conda/envs/notebook/lib/python3.8/site-packages/sklearn/metrics/_regression.py:682: UndefinedMetricWarning:\n",
      "\n",
      "R^2 score is not well-defined with less than two samples.\n",
      "\n",
      "/srv/conda/envs/notebook/lib/python3.8/site-packages/sklearn/metrics/_regression.py:682: UndefinedMetricWarning:\n",
      "\n",
      "R^2 score is not well-defined with less than two samples.\n",
      "\n",
      "/srv/conda/envs/notebook/lib/python3.8/site-packages/sklearn/metrics/_regression.py:682: UndefinedMetricWarning:\n",
      "\n",
      "R^2 score is not well-defined with less than two samples.\n",
      "\n",
      "/srv/conda/envs/notebook/lib/python3.8/site-packages/sklearn/metrics/_regression.py:682: UndefinedMetricWarning:\n",
      "\n",
      "R^2 score is not well-defined with less than two samples.\n",
      "\n",
      "/srv/conda/envs/notebook/lib/python3.8/site-packages/sklearn/metrics/_regression.py:682: UndefinedMetricWarning:\n",
      "\n",
      "R^2 score is not well-defined with less than two samples.\n",
      "\n",
      "/srv/conda/envs/notebook/lib/python3.8/site-packages/sklearn/metrics/_regression.py:682: UndefinedMetricWarning:\n",
      "\n",
      "R^2 score is not well-defined with less than two samples.\n",
      "\n",
      "/srv/conda/envs/notebook/lib/python3.8/site-packages/sklearn/metrics/_regression.py:682: UndefinedMetricWarning:\n",
      "\n",
      "R^2 score is not well-defined with less than two samples.\n",
      "\n",
      "/srv/conda/envs/notebook/lib/python3.8/site-packages/sklearn/metrics/_regression.py:682: UndefinedMetricWarning:\n",
      "\n",
      "R^2 score is not well-defined with less than two samples.\n",
      "\n",
      "/srv/conda/envs/notebook/lib/python3.8/site-packages/sklearn/metrics/_regression.py:682: UndefinedMetricWarning:\n",
      "\n",
      "R^2 score is not well-defined with less than two samples.\n",
      "\n"
     ]
    },
    {
     "name": "stdout",
     "output_type": "stream",
     "text": [
      "[16.66498268] 16.664333102724527\n"
     ]
    },
    {
     "data": {
      "image/png": "[encoded data removed]",
      "text/plain": [
       "<Figure size 640x480 with 1 Axes>"
      ]
     },
     "metadata": {},
     "output_type": "display_data"
    }
   ],
   "source": [
    "from sklearn.model_selection import LeaveOneOut\n",
    "# solution\n",
    "step_1 = np.zeros(len(df)) \n",
    "mse_train = np.zeros(len(df))\n",
    "mse_val = np.zeros(len(df))\n",
    "r2s = np.zeros(len(df))\n",
    "i=0\n",
    "dfX = for_reg\n",
    "tY = np.array(df['mean_thickness']).reshape(-1,1)\n",
    "for train_index, test_index in loo.split(dfX):\n",
    "\n",
    "    E_train, E_val = dfX[train_index,], dfX[test_index[0]]\n",
    "    t_train, t_val = tY[train_index,], tY[test_index[0]]\n",
    " \n",
    "    E_val = E_val.reshape(1,-1)\n",
    "    t_val = t_val.reshape(1,-1)\n",
    "\n",
    "    reg=LinearRegression()\n",
    "\n",
    "    reg.fit(E_train,t_train)\n",
    "\n",
    "    Epred_train=reg.predict(t_train) \n",
    "    Epred_val=reg.predict(t_val) \n",
    "\n",
    "    # The coefficients\n",
    "    step_1[i]= reg.coef_[0]\n",
    "    mse_train[i]= mean_squared_error(E_train, Epred_train)\n",
    "    mse_val[i]= mean_squared_error(E_val, Epred_val)\n",
    "    r2s[i]=r2_score(E_val, Epred_val)\n",
    "    i+=1\n",
    "\n",
    "    \n",
    "real_x = dfX.reshape(-1,)\n",
    "plt.plot(real_x, tY, 'o')\n",
    "plt.rc('axes',labelsize=10)\n",
    "plt.rc('axes',titlesize=16)\n",
    "plt.title(\"Area vs Mean Thickness\")\n",
    "plt.xlabel(\"log(Area) (m^2)\")\n",
    "plt.ylabel(\"Mean Thickness (m)\")\n",
    "m, b = np.polyfit(real_x, tY, 1)\n",
    "print(m, np.mean(step_1))\n",
    "plt.plot(real_x, np.mean(step_1)*real_x+b, color ='red')\n",
    "plt.show()"
   ]
  },
  {
   "cell_type": "markdown",
   "metadata": {},
   "source": [
    "### c) Bootstrapping (1 point)\n",
    "\n",
    "Perform the same analysis but using a bootstrapping technique. Output the mean and standard deviation of the slope. An illustration with a histogram  may help."
   ]
  },
  {
   "cell_type": "code",
   "execution_count": 158,
   "metadata": {},
   "outputs": [
    {
     "name": "stdout",
     "output_type": "stream",
     "text": [
      "mean of the slope estimates 16.627812 and the standard deviation 1.599257\n"
     ]
    },
    {
     "data": {
      "image/png": "[encoded data removed]",
      "text/plain": [
       "<Figure size 640x480 with 1 Axes>"
      ]
     },
     "metadata": {},
     "output_type": "display_data"
    }
   ],
   "source": [
    "from sklearn.utils import resample\n",
    "# solution\n",
    "\n",
    "k=100\n",
    "answer = np.zeros(k) \n",
    "mse = np.zeros(k)\n",
    "r2s = np.zeros(k)\n",
    "i=0\n",
    "for iik in range(k):    \n",
    "    ii = resample(np.arange(len(dfX)),replace=True,n_samples=len(dfX))\n",
    "    E_b, t_b = for_reg[ii], tY[ii]\n",
    "    \n",
    " \n",
    "    reg.fit(E_b,t_b)\n",
    "    Epred_val=reg.predict(tY) \n",
    "\n",
    "   \n",
    "    answer[i]= reg.coef_[0][0]\n",
    "    i+=1\n",
    "\n",
    "print(\"mean of the slope estimates %f and the standard deviation %f\"%(np.mean(answer),np.std(answer)))\n",
    "\n",
    "plt.hist(answer,50);plt.title('Distribution of slope');plt.grid(True)\n",
    "plt.show()"
   ]
  },
  {
   "cell_type": "markdown",
   "metadata": {},
   "source": [
    "### d) Predict the thickness of a glacier (2 points)\n",
    "\n",
    "Let assume that you measure a glacier of area 10 km$^2$. Can you use your bootstrap regression framework to provide a distribution of possible values of the ice thickness ? Output the mean and standard deviation of the predicted ice thickness."
   ]
  },
  {
   "cell_type": "code",
   "execution_count": 161,
   "metadata": {},
   "outputs": [
    {
     "name": "stdout",
     "output_type": "stream",
     "text": [
      "mean of the slope estimates 16.470560 and the standard deviation 1.611654\n"
     ]
    },
    {
     "data": {
      "image/png": "[encoded data removed]",
      "text/plain": [
       "<Figure size 640x480 with 1 Axes>"
      ]
     },
     "metadata": {},
     "output_type": "display_data"
    }
   ],
   "source": [
    "# solution\n",
    "k=100\n",
    "answer = np.zeros(k) \n",
    "mse = np.zeros(k)\n",
    "r2s = np.zeros(k)\n",
    "i=0\n",
    "for iik in range(k):    \n",
    "    ii = resample(np.arange(len(dfX)),replace=True,n_samples=len(dfX))\n",
    "    E_b, t_b = for_reg[ii], tY[ii]\n",
    "    \n",
    " \n",
    "    reg.fit(E_b,t_b)\n",
    "    ten = np.array([10]).reshape(1,-1)\n",
    "    Epred_val=reg.predict(ten) \n",
    "\n",
    "   \n",
    "    answer[i]= reg.coef_[0][0]\n",
    "    i+=1\n",
    "\n",
    "print(\"mean of the slope estimates %f and the standard deviation %f\"%(np.mean(answer),np.std(answer)))\n",
    "\n",
    "plt.hist(answer,50);plt.title('Distribution of slope');plt.grid(True)\n",
    "plt.show()"
   ]
  },
  {
   "cell_type": "code",
   "execution_count": null,
   "metadata": {},
   "outputs": [],
   "source": []
  }
 ],
 "metadata": {
  "kernelspec": {
   "display_name": "Python 3 (ipykernel)",
   "language": "python",
   "name": "python3"
  },
  "language_info": {
   "codemirror_mode": {
    "name": "ipython",
    "version": 3
   },
   "file_extension": ".py",
   "mimetype": "text/x-python",
   "name": "python",
   "nbconvert_exporter": "python",
   "pygments_lexer": "ipython3",
   "version": "3.8.13"
  },
  "vscode": {
   "interpreter": {
    "hash": "a6825af05e3ea1f79f5651bdd3095330bdaee3a1e3958825bcb0ebbb42c21bf2"
   }
  }
 },
 "nbformat": 4,
 "nbformat_minor": 4
}
