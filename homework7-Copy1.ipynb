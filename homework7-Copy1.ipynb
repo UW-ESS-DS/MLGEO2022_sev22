{
 "cells": [
  {
   "cell_type": "markdown",
   "metadata": {
    "_cell_guid": "fa3d2a9c-442b-44c2-bf4d-45bb544ec369",
    "_uuid": "bcba1675eebc008a35c21f6b64174161ff7d4c48"
   },
   "source": [
    "# Homework 7 (50 points)"
   ]
  },
  {
   "cell_type": "markdown",
   "metadata": {
    "_cell_guid": "d4bef474-9b3a-4bfd-80ee-b79f7fa144dc",
    "_uuid": "73e8f01266e59393a11b6e00300eb916ee50662f"
   },
   "source": [
    "In this Homework, we will try to classify observations of space to be either stars, galaxies or quasars based on the RD14 from the Sloan Digital Sky Survey  (SDSS). The Sloan Digital Sky Survey is a project which offers public data of space observations. Observations have been made since 1998 and have been made accessible to everyone who is interested. \n",
    "\n",
    "http://www.sdss.org/\n",
    "![alt text](http://www.fingerprintdigitalmedia.com/wp-content/uploads/2014/08/sdss1.jpg)\n",
    "\n",
    "For this purpose a special 2.5 m diameter telescope was built at the Apache Point Observatory in New Mexico, USA. The telescope uses a camera of 30 CCD-Chips with 2048x2048 image points each. The chips are ordered in 5 rows with 6 chips in each row. Each row observes the space through different optical filters (u, g, r, i, z) at wavelengths of approximately 354, 476, 628, 769, 925 nm.\n",
    "\n",
    "\n",
    "In this homework we will train several classifier to predict the class of a celestial object based on the observations (features). We will practice data prep, dimensionality reduction, model design and training, model comparison, and feature importance selection."
   ]
  },
  {
   "cell_type": "markdown",
   "metadata": {
    "_cell_guid": "b9d4b609-9f0f-4296-8462-98975b2ece09",
    "_uuid": "16d228ddb3b0d71d6e13093552c04a21146b75e5"
   },
   "source": [
    "### Importing Libraries"
   ]
  },
  {
   "cell_type": "code",
   "execution_count": 1,
   "metadata": {
    "_cell_guid": "13914766-c2fb-4801-8846-6c78e6d1cb03",
    "_uuid": "5bb212bdb34abc34f8bed1a0bc2d1a6287166221"
   },
   "outputs": [],
   "source": [
    "import numpy as np\n",
    "import pandas as pd\n",
    "import matplotlib.pyplot as plt\n",
    "import time\n",
    "import warnings\n",
    "warnings.filterwarnings(\"ignore\", category=DeprecationWarning)\n",
    "%matplotlib inline\n"
   ]
  },
  {
   "cell_type": "markdown",
   "metadata": {
    "_cell_guid": "2b272b59-8c37-4e8e-a78a-ac5f50919d2e",
    "_uuid": "82c44461c45ae463a3d429f564f8bca17f8b0f4c"
   },
   "source": [
    "## 1) Data Preparation (20 points)\n",
    "\n",
    "We follow the following steps:\n",
    "* read (1 point)\n",
    "* clean (3 points)\n",
    "* correlate (4 points)\n",
    "* explore, spread of values (3 points)\n",
    "* dimensionality reduction (9 points)\n",
    "\n",
    "### 1.1 Data read\n",
    "Read the pandas fata frame from the csv file \"Skyserver_SQL2_27_2018.csv\" and skip the first row.\n",
    "\n",
    "**Task: read (1 point)**\n",
    "\n",
    "Save a copy of the data frame just in case."
   ]
  },
  {
   "cell_type": "code",
   "execution_count": 2,
   "metadata": {
    "_cell_guid": "ffb06ef6-73f7-4f42-ab42-5d5b5f773ba7",
    "_uuid": "04e88f8c9c12167a1c23e47b3e2046246510e983"
   },
   "outputs": [],
   "source": [
    "# answer\n",
    "t_path = pd.read_csv(\"../MLGeo-Autumn22/homework/Skyserver_SQL2_27_2018.csv\", skiprows=[1])\n"
   ]
  },
  {
   "cell_type": "markdown",
   "metadata": {},
   "source": [
    "**Description of the data fields**\n",
    "\n",
    "* objid = Object Identifier, self explanatory.\n",
    "* ra = J2000 Right Ascension (r-band). Angular that is measured eastward along the celestial equator from the Sun at the March equinox to the hour circle of the point above the earth in question.   https://en.wikipedia.org/wiki/Right_ascension\n",
    "* dec = J2000 Declination (r-band). Angle that is measured north or south of the celestial equator, along the hour circle passing through the point in question. https://en.wikipedia.org/wiki/Declination\n",
    "\n",
    "\n",
    "\n",
    "The Gunn astronomic magnitude system. u, g, r, i, z represent the response of the 5 bands of the telescope.\n",
    "\n",
    "Further Information: http://astroweb.case.edu/ssm/ASTR620/mags.html \n",
    "* u = better of DeV/Exp magnitude fit\n",
    "* g = better of DeV/Exp magnitude fit\n",
    "* r = better of DeV/Exp magnitude fit\n",
    "* i = better of DeV/Exp magnitude fit\n",
    "* z = better of DeV/Exp magnitude fit\n",
    "\n",
    "\n",
    "\n",
    "\n",
    "Run, rerun, camcol and field are features which describe a field within an image taken by the SDSS. A field is basically a part of the entire image corresponding to 2048 by 1489 pixels. \n",
    "* run = Run Number, which identifies the specific scan. \n",
    "* rereun = Rerun Number, which specifies how the image was processed.\n",
    "* camcol = Camera column, a number from 1 to 6, identifying the scanline within the run.\n",
    "* field = Field number, which typically starts at 11 (after an initial rampup time), and can be as large as 800 for particularly long runs.\n",
    "* specobjid = Object Identifier\n",
    "* class = object class (galaxy, star or quasar object): The class identifies an object to be either a galaxy, star or quasar. This will be the response variable which we will be trying to predict.\n",
    "\n",
    "* redshift = Final Redshift: In physics, **redshift** happens when light or other electromagnetic radiation from an object is increased in wavelength, or shifted to the red end of the spectrum. \n",
    "\n",
    "* plate = plate number: Each spectroscopic exposure employs a large, thin, circular metal **plate** that positions optical fibers via holes drilled at the locations of the images in the telescope focal plane. These fibers then feed into the spectrographs. Each plate has a unique serial number, which is called plate in views such as SpecObj in the CAS.\n",
    "\n",
    "* mjd = MJD of observation, **Modified Julian Date**, used to indicate the date that a given piece of SDSS data (image or spectrum) was taken.\n",
    "* fiberid = fiber ID. The SDSS spectrograph uses optical fibers to direct the light at the focal plane from individual objects to the slithead. Each object is assigned a corresponding **fiberID**. \n",
    "\n",
    "**Further information on SDSS images and their attributes:** \n",
    "\n",
    "http://www.sdss3.org/dr9/imaging/imaging_basics.php\n",
    "\n",
    "http://www.sdss3.org/dr8/glossary.php"
   ]
  },
  {
   "cell_type": "markdown",
   "metadata": {
    "_cell_guid": "ca3f2be5-d15c-47ef-bc29-9a254ce2199d",
    "_uuid": "776947da30d7e7e2b88bd87dca65eaa8b04b158c"
   },
   "source": [
    "### 1.2 Data Cleaning \n",
    "\n",
    "Basic stats about our dataset. \n",
    "\n",
    "**Task: Provide basic infor for the pandas dataframe head (0.5 point)**"
   ]
  },
  {
   "cell_type": "code",
   "execution_count": 3,
   "metadata": {
    "_cell_guid": "26b460b4-d472-440b-b690-d8c12f267944",
    "_uuid": "149d00bab55383b7014daf916df81410717b643a",
    "scrolled": true
   },
   "outputs": [
    {
     "name": "stdout",
     "output_type": "stream",
     "text": [
      "<bound method NDFrame.head of              objid          ra        dec         u         g         r  \\\n",
      "0     1.237650e+18  183.598370   0.135285  18.66280  17.21449  16.67637   \n",
      "1     1.237650e+18  183.680207   0.126185  19.38298  18.19169  17.47428   \n",
      "2     1.237650e+18  183.870529   0.049911  17.76536  16.60272  16.16116   \n",
      "3     1.237650e+18  183.883288   0.102557  17.55025  16.26342  16.43869   \n",
      "4     1.237650e+18  183.847174   0.173694  19.43133  18.46779  18.16451   \n",
      "...            ...         ...        ...       ...       ...       ...   \n",
      "9994  1.237650e+18  131.316413  51.539547  18.81777  17.47053  16.91508   \n",
      "9995  1.237650e+18  131.306083  51.671341  18.27255  17.43849  17.07692   \n",
      "9996  1.237650e+18  131.552562  51.666986  18.75818  17.77784  17.51872   \n",
      "9997  1.237650e+18  131.477151  51.753068  18.88287  17.91068  17.53152   \n",
      "9998  1.237650e+18  131.665012  51.805307  19.27586  17.37829  16.30542   \n",
      "\n",
      "             i         z   run  rerun  camcol  field     specobjid   class  \\\n",
      "0     16.48922  16.39150   752    301       4    267  3.638140e+17    STAR   \n",
      "1     17.08732  16.80125   752    301       4    268  3.232740e+17  GALAXY   \n",
      "2     15.98233  15.90438   752    301       4    269  3.722370e+18    STAR   \n",
      "3     16.55492  16.61326   752    301       4    269  3.722370e+18    STAR   \n",
      "4     18.01475  18.04155   752    301       4    269  3.649550e+17    STAR   \n",
      "...        ...       ...   ...    ...     ...    ...           ...     ...   \n",
      "9994  16.68305  16.50570  1345    301       3    161  5.033450e+17  GALAXY   \n",
      "9995  16.71661  16.69897  1345    301       3    162  5.033400e+17  GALAXY   \n",
      "9996  17.43302  17.42048  1345    301       3    162  8.222620e+18    STAR   \n",
      "9997  17.36284  17.13988  1345    301       3    163  5.033400e+17  GALAXY   \n",
      "9998  15.83548  15.50588  1345    301       3    163  5.033410e+17  GALAXY   \n",
      "\n",
      "      redshift  plate    mjd  fiberid  \n",
      "0    -0.000055    323  51615      541  \n",
      "1     0.123111    287  52023      513  \n",
      "2    -0.000111   3306  54922      510  \n",
      "3     0.000590   3306  54922      512  \n",
      "4     0.000315    324  51666      594  \n",
      "...        ...    ...    ...      ...  \n",
      "9994  0.027583    447  51877      246  \n",
      "9995  0.117772    447  51877      228  \n",
      "9996 -0.000402   7303  57013      622  \n",
      "9997  0.014019    447  51877      229  \n",
      "9998  0.118417    447  51877      233  \n",
      "\n",
      "[9999 rows x 18 columns]>\n"
     ]
    },
    {
     "data": {
      "text/html": [
       "<div>\n",
       "<style scoped>\n",
       "    .dataframe tbody tr th:only-of-type {\n",
       "        vertical-align: middle;\n",
       "    }\n",
       "\n",
       "    .dataframe tbody tr th {\n",
       "        vertical-align: top;\n",
       "    }\n",
       "\n",
       "    .dataframe thead th {\n",
       "        text-align: right;\n",
       "    }\n",
       "</style>\n",
       "<table border=\"1\" class=\"dataframe\">\n",
       "  <thead>\n",
       "    <tr style=\"text-align: right;\">\n",
       "      <th></th>\n",
       "      <th>objid</th>\n",
       "      <th>ra</th>\n",
       "      <th>dec</th>\n",
       "      <th>u</th>\n",
       "      <th>g</th>\n",
       "      <th>r</th>\n",
       "      <th>i</th>\n",
       "      <th>z</th>\n",
       "      <th>run</th>\n",
       "      <th>rerun</th>\n",
       "      <th>camcol</th>\n",
       "      <th>field</th>\n",
       "      <th>specobjid</th>\n",
       "      <th>redshift</th>\n",
       "      <th>plate</th>\n",
       "      <th>mjd</th>\n",
       "      <th>fiberid</th>\n",
       "    </tr>\n",
       "  </thead>\n",
       "  <tbody>\n",
       "    <tr>\n",
       "      <th>count</th>\n",
       "      <td>9.999000e+03</td>\n",
       "      <td>9999.000000</td>\n",
       "      <td>9999.000000</td>\n",
       "      <td>9999.000000</td>\n",
       "      <td>9999.000000</td>\n",
       "      <td>9999.000000</td>\n",
       "      <td>9999.000000</td>\n",
       "      <td>9999.000000</td>\n",
       "      <td>9999.000000</td>\n",
       "      <td>9999.0</td>\n",
       "      <td>9999.000000</td>\n",
       "      <td>9999.000000</td>\n",
       "      <td>9.999000e+03</td>\n",
       "      <td>9999.000000</td>\n",
       "      <td>9999.000000</td>\n",
       "      <td>9999.000000</td>\n",
       "      <td>9999.000000</td>\n",
       "    </tr>\n",
       "    <tr>\n",
       "      <th>mean</th>\n",
       "      <td>1.237650e+18</td>\n",
       "      <td>175.529186</td>\n",
       "      <td>14.837623</td>\n",
       "      <td>18.619270</td>\n",
       "      <td>17.371964</td>\n",
       "      <td>16.841053</td>\n",
       "      <td>16.583687</td>\n",
       "      <td>16.422953</td>\n",
       "      <td>981.057706</td>\n",
       "      <td>301.0</td>\n",
       "      <td>3.648665</td>\n",
       "      <td>302.383638</td>\n",
       "      <td>1.644814e+18</td>\n",
       "      <td>0.143740</td>\n",
       "      <td>1460.801880</td>\n",
       "      <td>52943.335434</td>\n",
       "      <td>353.055606</td>\n",
       "    </tr>\n",
       "    <tr>\n",
       "      <th>std</th>\n",
       "      <td>0.000000e+00</td>\n",
       "      <td>47.785762</td>\n",
       "      <td>25.213036</td>\n",
       "      <td>0.828653</td>\n",
       "      <td>0.945499</td>\n",
       "      <td>1.067780</td>\n",
       "      <td>1.141811</td>\n",
       "      <td>1.203189</td>\n",
       "      <td>273.309092</td>\n",
       "      <td>0.0</td>\n",
       "      <td>1.666263</td>\n",
       "      <td>162.585508</td>\n",
       "      <td>2.013992e+18</td>\n",
       "      <td>0.388791</td>\n",
       "      <td>1788.772648</td>\n",
       "      <td>1511.096669</td>\n",
       "      <td>206.303853</td>\n",
       "    </tr>\n",
       "    <tr>\n",
       "      <th>min</th>\n",
       "      <td>1.237650e+18</td>\n",
       "      <td>8.235100</td>\n",
       "      <td>-5.382632</td>\n",
       "      <td>12.988970</td>\n",
       "      <td>12.799550</td>\n",
       "      <td>12.431600</td>\n",
       "      <td>11.947210</td>\n",
       "      <td>11.610410</td>\n",
       "      <td>308.000000</td>\n",
       "      <td>301.0</td>\n",
       "      <td>1.000000</td>\n",
       "      <td>11.000000</td>\n",
       "      <td>2.995780e+17</td>\n",
       "      <td>-0.004136</td>\n",
       "      <td>266.000000</td>\n",
       "      <td>51578.000000</td>\n",
       "      <td>1.000000</td>\n",
       "    </tr>\n",
       "    <tr>\n",
       "      <th>25%</th>\n",
       "      <td>1.237650e+18</td>\n",
       "      <td>157.368397</td>\n",
       "      <td>-0.539637</td>\n",
       "      <td>18.178010</td>\n",
       "      <td>16.815060</td>\n",
       "      <td>16.173540</td>\n",
       "      <td>15.853880</td>\n",
       "      <td>15.618620</td>\n",
       "      <td>752.000000</td>\n",
       "      <td>301.0</td>\n",
       "      <td>2.000000</td>\n",
       "      <td>184.000000</td>\n",
       "      <td>3.389245e+17</td>\n",
       "      <td>0.000081</td>\n",
       "      <td>301.000000</td>\n",
       "      <td>51900.000000</td>\n",
       "      <td>186.500000</td>\n",
       "    </tr>\n",
       "    <tr>\n",
       "      <th>50%</th>\n",
       "      <td>1.237650e+18</td>\n",
       "      <td>180.393638</td>\n",
       "      <td>0.405248</td>\n",
       "      <td>18.852980</td>\n",
       "      <td>17.495150</td>\n",
       "      <td>16.858920</td>\n",
       "      <td>16.555050</td>\n",
       "      <td>16.389960</td>\n",
       "      <td>756.000000</td>\n",
       "      <td>301.0</td>\n",
       "      <td>4.000000</td>\n",
       "      <td>299.000000</td>\n",
       "      <td>4.966570e+17</td>\n",
       "      <td>0.042592</td>\n",
       "      <td>441.000000</td>\n",
       "      <td>51997.000000</td>\n",
       "      <td>351.000000</td>\n",
       "    </tr>\n",
       "    <tr>\n",
       "      <th>75%</th>\n",
       "      <td>1.237650e+18</td>\n",
       "      <td>201.548093</td>\n",
       "      <td>35.678922</td>\n",
       "      <td>19.259150</td>\n",
       "      <td>18.010220</td>\n",
       "      <td>17.512740</td>\n",
       "      <td>17.258570</td>\n",
       "      <td>17.141635</td>\n",
       "      <td>1331.000000</td>\n",
       "      <td>301.0</td>\n",
       "      <td>5.000000</td>\n",
       "      <td>414.000000</td>\n",
       "      <td>2.881300e+18</td>\n",
       "      <td>0.092581</td>\n",
       "      <td>2559.000000</td>\n",
       "      <td>54468.000000</td>\n",
       "      <td>510.000000</td>\n",
       "    </tr>\n",
       "    <tr>\n",
       "      <th>max</th>\n",
       "      <td>1.237650e+18</td>\n",
       "      <td>260.884382</td>\n",
       "      <td>68.542265</td>\n",
       "      <td>19.599900</td>\n",
       "      <td>19.918970</td>\n",
       "      <td>24.802040</td>\n",
       "      <td>28.179630</td>\n",
       "      <td>22.833060</td>\n",
       "      <td>1412.000000</td>\n",
       "      <td>301.0</td>\n",
       "      <td>6.000000</td>\n",
       "      <td>768.000000</td>\n",
       "      <td>9.468830e+18</td>\n",
       "      <td>5.353854</td>\n",
       "      <td>8410.000000</td>\n",
       "      <td>57481.000000</td>\n",
       "      <td>1000.000000</td>\n",
       "    </tr>\n",
       "  </tbody>\n",
       "</table>\n",
       "</div>"
      ],
      "text/plain": [
       "              objid           ra          dec            u            g  \\\n",
       "count  9.999000e+03  9999.000000  9999.000000  9999.000000  9999.000000   \n",
       "mean   1.237650e+18   175.529186    14.837623    18.619270    17.371964   \n",
       "std    0.000000e+00    47.785762    25.213036     0.828653     0.945499   \n",
       "min    1.237650e+18     8.235100    -5.382632    12.988970    12.799550   \n",
       "25%    1.237650e+18   157.368397    -0.539637    18.178010    16.815060   \n",
       "50%    1.237650e+18   180.393638     0.405248    18.852980    17.495150   \n",
       "75%    1.237650e+18   201.548093    35.678922    19.259150    18.010220   \n",
       "max    1.237650e+18   260.884382    68.542265    19.599900    19.918970   \n",
       "\n",
       "                 r            i            z          run   rerun  \\\n",
       "count  9999.000000  9999.000000  9999.000000  9999.000000  9999.0   \n",
       "mean     16.841053    16.583687    16.422953   981.057706   301.0   \n",
       "std       1.067780     1.141811     1.203189   273.309092     0.0   \n",
       "min      12.431600    11.947210    11.610410   308.000000   301.0   \n",
       "25%      16.173540    15.853880    15.618620   752.000000   301.0   \n",
       "50%      16.858920    16.555050    16.389960   756.000000   301.0   \n",
       "75%      17.512740    17.258570    17.141635  1331.000000   301.0   \n",
       "max      24.802040    28.179630    22.833060  1412.000000   301.0   \n",
       "\n",
       "            camcol        field     specobjid     redshift        plate  \\\n",
       "count  9999.000000  9999.000000  9.999000e+03  9999.000000  9999.000000   \n",
       "mean      3.648665   302.383638  1.644814e+18     0.143740  1460.801880   \n",
       "std       1.666263   162.585508  2.013992e+18     0.388791  1788.772648   \n",
       "min       1.000000    11.000000  2.995780e+17    -0.004136   266.000000   \n",
       "25%       2.000000   184.000000  3.389245e+17     0.000081   301.000000   \n",
       "50%       4.000000   299.000000  4.966570e+17     0.042592   441.000000   \n",
       "75%       5.000000   414.000000  2.881300e+18     0.092581  2559.000000   \n",
       "max       6.000000   768.000000  9.468830e+18     5.353854  8410.000000   \n",
       "\n",
       "                mjd      fiberid  \n",
       "count   9999.000000  9999.000000  \n",
       "mean   52943.335434   353.055606  \n",
       "std     1511.096669   206.303853  \n",
       "min    51578.000000     1.000000  \n",
       "25%    51900.000000   186.500000  \n",
       "50%    51997.000000   351.000000  \n",
       "75%    54468.000000   510.000000  \n",
       "max    57481.000000  1000.000000  "
      ]
     },
     "execution_count": 3,
     "metadata": {},
     "output_type": "execute_result"
    }
   ],
   "source": [
    "# head\n",
    "print(t_path.head)\n",
    "t_path.describe()"
   ]
  },
  {
   "cell_type": "markdown",
   "metadata": {
    "_cell_guid": "811c152a-331b-4b69-a7d3-ab52934ef15c",
    "_uuid": "7b054433b30b6ea6b1f9024ef323270d86874e76"
   },
   "source": [
    "**Task: Find the data types of the database (floats, string, etc etc) using the ``info()`` function (0.5 point).**"
   ]
  },
  {
   "cell_type": "code",
   "execution_count": 4,
   "metadata": {
    "_cell_guid": "bd29718c-d53e-4b52-a9ee-b8a9a252d864",
    "_uuid": "926e1713524a5fcac0353e1d7c03d1f74042f348"
   },
   "outputs": [
    {
     "name": "stdout",
     "output_type": "stream",
     "text": [
      "<class 'pandas.core.frame.DataFrame'>\n",
      "RangeIndex: 9999 entries, 0 to 9998\n",
      "Data columns (total 18 columns):\n",
      " #   Column     Non-Null Count  Dtype  \n",
      "---  ------     --------------  -----  \n",
      " 0   objid      9999 non-null   float64\n",
      " 1   ra         9999 non-null   float64\n",
      " 2   dec        9999 non-null   float64\n",
      " 3   u          9999 non-null   float64\n",
      " 4   g          9999 non-null   float64\n",
      " 5   r          9999 non-null   float64\n",
      " 6   i          9999 non-null   float64\n",
      " 7   z          9999 non-null   float64\n",
      " 8   run        9999 non-null   int64  \n",
      " 9   rerun      9999 non-null   int64  \n",
      " 10  camcol     9999 non-null   int64  \n",
      " 11  field      9999 non-null   int64  \n",
      " 12  specobjid  9999 non-null   float64\n",
      " 13  class      9999 non-null   object \n",
      " 14  redshift   9999 non-null   float64\n",
      " 15  plate      9999 non-null   int64  \n",
      " 16  mjd        9999 non-null   int64  \n",
      " 17  fiberid    9999 non-null   int64  \n",
      "dtypes: float64(10), int64(7), object(1)\n",
      "memory usage: 1.4+ MB\n"
     ]
    }
   ],
   "source": [
    "# information\n",
    "t_path.info()"
   ]
  },
  {
   "cell_type": "markdown",
   "metadata": {
    "_cell_guid": "f890c211-edfb-45d5-be7d-545eb358220b",
    "_uuid": "529e41f022c84c223fc508224b63b527677a61fc"
   },
   "source": [
    "Are there any obvious feature (or element of the dataframe) that should not impact our prediction?\n",
    " \n",
    "**objid** and **specobjid** are just identifiers for accessing the rows back when they were stored in the original databank. Therefore we will not need them for classification as they are not related to the outcome.\n",
    "The features **run**, **rerun**, **camcol** and **field** are values which describe parts of the camera at the moment when making the observation, e.g. 'run' represents the corresponding scan which captured the oject.\n",
    "\n",
    "Source: http://www.sdss3.org/dr9/imaging/imaging_basics.php\n",
    "\n",
    "**Task: Drop these columns in the pandas dataframe. (1 point)**"
   ]
  },
  {
   "cell_type": "code",
   "execution_count": 5,
   "metadata": {
    "_cell_guid": "d1246406-e5f7-4cb7-8365-50c8e44e19d9",
    "_uuid": "4d9519ab0d8b9f843219ce89531c3fc13dafc5be"
   },
   "outputs": [
    {
     "name": "stdout",
     "output_type": "stream",
     "text": [
      "<bound method NDFrame.head of               ra        dec         u         g         r         i         z  \\\n",
      "0     183.598370   0.135285  18.66280  17.21449  16.67637  16.48922  16.39150   \n",
      "1     183.680207   0.126185  19.38298  18.19169  17.47428  17.08732  16.80125   \n",
      "2     183.870529   0.049911  17.76536  16.60272  16.16116  15.98233  15.90438   \n",
      "3     183.883288   0.102557  17.55025  16.26342  16.43869  16.55492  16.61326   \n",
      "4     183.847174   0.173694  19.43133  18.46779  18.16451  18.01475  18.04155   \n",
      "...          ...        ...       ...       ...       ...       ...       ...   \n",
      "9994  131.316413  51.539547  18.81777  17.47053  16.91508  16.68305  16.50570   \n",
      "9995  131.306083  51.671341  18.27255  17.43849  17.07692  16.71661  16.69897   \n",
      "9996  131.552562  51.666986  18.75818  17.77784  17.51872  17.43302  17.42048   \n",
      "9997  131.477151  51.753068  18.88287  17.91068  17.53152  17.36284  17.13988   \n",
      "9998  131.665012  51.805307  19.27586  17.37829  16.30542  15.83548  15.50588   \n",
      "\n",
      "       class  redshift  plate    mjd  fiberid  \n",
      "0       STAR -0.000055    323  51615      541  \n",
      "1     GALAXY  0.123111    287  52023      513  \n",
      "2       STAR -0.000111   3306  54922      510  \n",
      "3       STAR  0.000590   3306  54922      512  \n",
      "4       STAR  0.000315    324  51666      594  \n",
      "...      ...       ...    ...    ...      ...  \n",
      "9994  GALAXY  0.027583    447  51877      246  \n",
      "9995  GALAXY  0.117772    447  51877      228  \n",
      "9996    STAR -0.000402   7303  57013      622  \n",
      "9997  GALAXY  0.014019    447  51877      229  \n",
      "9998  GALAXY  0.118417    447  51877      233  \n",
      "\n",
      "[9999 rows x 12 columns]>\n"
     ]
    }
   ],
   "source": [
    "# answer\n",
    "t_path = t_path.drop(['objid','specobjid','run','rerun','camcol','field'],axis=1)\n",
    "print(t_path.head)"
   ]
  },
  {
   "cell_type": "markdown",
   "metadata": {
    "_cell_guid": "75a847f1-0dfc-4228-9cbc-49d6034463e5",
    "_uuid": "9b01bc847e158cfa00d411ea687cb573a0037aef"
   },
   "source": [
    "Find our how many examples there are, how many attributes or feature, and the type of class."
   ]
  },
  {
   "cell_type": "code",
   "execution_count": 6,
   "metadata": {
    "_cell_guid": "6723c745-8446-46f0-a866-8c22668607d3",
    "_uuid": "77495f8526975b41e2ba43063b82d807e8ba1109",
    "scrolled": true
   },
   "outputs": [
    {
     "data": {
      "text/html": [
       "<div>\n",
       "<style scoped>\n",
       "    .dataframe tbody tr th:only-of-type {\n",
       "        vertical-align: middle;\n",
       "    }\n",
       "\n",
       "    .dataframe tbody tr th {\n",
       "        vertical-align: top;\n",
       "    }\n",
       "\n",
       "    .dataframe thead th {\n",
       "        text-align: right;\n",
       "    }\n",
       "</style>\n",
       "<table border=\"1\" class=\"dataframe\">\n",
       "  <thead>\n",
       "    <tr style=\"text-align: right;\">\n",
       "      <th></th>\n",
       "      <th>ra</th>\n",
       "      <th>dec</th>\n",
       "      <th>u</th>\n",
       "      <th>g</th>\n",
       "      <th>r</th>\n",
       "      <th>i</th>\n",
       "      <th>z</th>\n",
       "      <th>redshift</th>\n",
       "      <th>plate</th>\n",
       "      <th>mjd</th>\n",
       "      <th>fiberid</th>\n",
       "    </tr>\n",
       "  </thead>\n",
       "  <tbody>\n",
       "    <tr>\n",
       "      <th>count</th>\n",
       "      <td>9999.000000</td>\n",
       "      <td>9999.000000</td>\n",
       "      <td>9999.000000</td>\n",
       "      <td>9999.000000</td>\n",
       "      <td>9999.000000</td>\n",
       "      <td>9999.000000</td>\n",
       "      <td>9999.000000</td>\n",
       "      <td>9999.000000</td>\n",
       "      <td>9999.000000</td>\n",
       "      <td>9999.000000</td>\n",
       "      <td>9999.000000</td>\n",
       "    </tr>\n",
       "    <tr>\n",
       "      <th>mean</th>\n",
       "      <td>175.529186</td>\n",
       "      <td>14.837623</td>\n",
       "      <td>18.619270</td>\n",
       "      <td>17.371964</td>\n",
       "      <td>16.841053</td>\n",
       "      <td>16.583687</td>\n",
       "      <td>16.422953</td>\n",
       "      <td>0.143740</td>\n",
       "      <td>1460.801880</td>\n",
       "      <td>52943.335434</td>\n",
       "      <td>353.055606</td>\n",
       "    </tr>\n",
       "    <tr>\n",
       "      <th>std</th>\n",
       "      <td>47.785762</td>\n",
       "      <td>25.213036</td>\n",
       "      <td>0.828653</td>\n",
       "      <td>0.945499</td>\n",
       "      <td>1.067780</td>\n",
       "      <td>1.141811</td>\n",
       "      <td>1.203189</td>\n",
       "      <td>0.388791</td>\n",
       "      <td>1788.772648</td>\n",
       "      <td>1511.096669</td>\n",
       "      <td>206.303853</td>\n",
       "    </tr>\n",
       "    <tr>\n",
       "      <th>min</th>\n",
       "      <td>8.235100</td>\n",
       "      <td>-5.382632</td>\n",
       "      <td>12.988970</td>\n",
       "      <td>12.799550</td>\n",
       "      <td>12.431600</td>\n",
       "      <td>11.947210</td>\n",
       "      <td>11.610410</td>\n",
       "      <td>-0.004136</td>\n",
       "      <td>266.000000</td>\n",
       "      <td>51578.000000</td>\n",
       "      <td>1.000000</td>\n",
       "    </tr>\n",
       "    <tr>\n",
       "      <th>25%</th>\n",
       "      <td>157.368397</td>\n",
       "      <td>-0.539637</td>\n",
       "      <td>18.178010</td>\n",
       "      <td>16.815060</td>\n",
       "      <td>16.173540</td>\n",
       "      <td>15.853880</td>\n",
       "      <td>15.618620</td>\n",
       "      <td>0.000081</td>\n",
       "      <td>301.000000</td>\n",
       "      <td>51900.000000</td>\n",
       "      <td>186.500000</td>\n",
       "    </tr>\n",
       "    <tr>\n",
       "      <th>50%</th>\n",
       "      <td>180.393638</td>\n",
       "      <td>0.405248</td>\n",
       "      <td>18.852980</td>\n",
       "      <td>17.495150</td>\n",
       "      <td>16.858920</td>\n",
       "      <td>16.555050</td>\n",
       "      <td>16.389960</td>\n",
       "      <td>0.042592</td>\n",
       "      <td>441.000000</td>\n",
       "      <td>51997.000000</td>\n",
       "      <td>351.000000</td>\n",
       "    </tr>\n",
       "    <tr>\n",
       "      <th>75%</th>\n",
       "      <td>201.548093</td>\n",
       "      <td>35.678922</td>\n",
       "      <td>19.259150</td>\n",
       "      <td>18.010220</td>\n",
       "      <td>17.512740</td>\n",
       "      <td>17.258570</td>\n",
       "      <td>17.141635</td>\n",
       "      <td>0.092581</td>\n",
       "      <td>2559.000000</td>\n",
       "      <td>54468.000000</td>\n",
       "      <td>510.000000</td>\n",
       "    </tr>\n",
       "    <tr>\n",
       "      <th>max</th>\n",
       "      <td>260.884382</td>\n",
       "      <td>68.542265</td>\n",
       "      <td>19.599900</td>\n",
       "      <td>19.918970</td>\n",
       "      <td>24.802040</td>\n",
       "      <td>28.179630</td>\n",
       "      <td>22.833060</td>\n",
       "      <td>5.353854</td>\n",
       "      <td>8410.000000</td>\n",
       "      <td>57481.000000</td>\n",
       "      <td>1000.000000</td>\n",
       "    </tr>\n",
       "  </tbody>\n",
       "</table>\n",
       "</div>"
      ],
      "text/plain": [
       "                ra          dec            u            g            r  \\\n",
       "count  9999.000000  9999.000000  9999.000000  9999.000000  9999.000000   \n",
       "mean    175.529186    14.837623    18.619270    17.371964    16.841053   \n",
       "std      47.785762    25.213036     0.828653     0.945499     1.067780   \n",
       "min       8.235100    -5.382632    12.988970    12.799550    12.431600   \n",
       "25%     157.368397    -0.539637    18.178010    16.815060    16.173540   \n",
       "50%     180.393638     0.405248    18.852980    17.495150    16.858920   \n",
       "75%     201.548093    35.678922    19.259150    18.010220    17.512740   \n",
       "max     260.884382    68.542265    19.599900    19.918970    24.802040   \n",
       "\n",
       "                 i            z     redshift        plate           mjd  \\\n",
       "count  9999.000000  9999.000000  9999.000000  9999.000000   9999.000000   \n",
       "mean     16.583687    16.422953     0.143740  1460.801880  52943.335434   \n",
       "std       1.141811     1.203189     0.388791  1788.772648   1511.096669   \n",
       "min      11.947210    11.610410    -0.004136   266.000000  51578.000000   \n",
       "25%      15.853880    15.618620     0.000081   301.000000  51900.000000   \n",
       "50%      16.555050    16.389960     0.042592   441.000000  51997.000000   \n",
       "75%      17.258570    17.141635     0.092581  2559.000000  54468.000000   \n",
       "max      28.179630    22.833060     5.353854  8410.000000  57481.000000   \n",
       "\n",
       "           fiberid  \n",
       "count  9999.000000  \n",
       "mean    353.055606  \n",
       "std     206.303853  \n",
       "min       1.000000  \n",
       "25%     186.500000  \n",
       "50%     351.000000  \n",
       "75%     510.000000  \n",
       "max    1000.000000  "
      ]
     },
     "execution_count": 6,
     "metadata": {},
     "output_type": "execute_result"
    }
   ],
   "source": [
    "# description\n",
    "t_path.describe()"
   ]
  },
  {
   "cell_type": "markdown",
   "metadata": {
    "_cell_guid": "47229348-1a06-4346-949b-1b2b135a20e9",
    "_uuid": "d03d6a82a73b4889fc9bfee64e0773acd9b09302"
   },
   "source": [
    "**Task: How many objects are in each class? (1 point)**"
   ]
  },
  {
   "cell_type": "code",
   "execution_count": 7,
   "metadata": {
    "_cell_guid": "980baf01-358b-4f40-b1cd-886a8463befe",
    "_uuid": "75724e4e2a11a567b6155503ce0671ae3f5e2e7d",
    "scrolled": true
   },
   "outputs": [
    {
     "name": "stdout",
     "output_type": "stream",
     "text": [
      "<class 'pandas.core.frame.DataFrame'>\n",
      "RangeIndex: 9999 entries, 0 to 9998\n",
      "Data columns (total 12 columns):\n",
      " #   Column    Non-Null Count  Dtype  \n",
      "---  ------    --------------  -----  \n",
      " 0   ra        9999 non-null   float64\n",
      " 1   dec       9999 non-null   float64\n",
      " 2   u         9999 non-null   float64\n",
      " 3   g         9999 non-null   float64\n",
      " 4   r         9999 non-null   float64\n",
      " 5   i         9999 non-null   float64\n",
      " 6   z         9999 non-null   float64\n",
      " 7   class     9999 non-null   object \n",
      " 8   redshift  9999 non-null   float64\n",
      " 9   plate     9999 non-null   int64  \n",
      " 10  mjd       9999 non-null   int64  \n",
      " 11  fiberid   9999 non-null   int64  \n",
      "dtypes: float64(8), int64(3), object(1)\n",
      "memory usage: 937.5+ KB\n"
     ]
    }
   ],
   "source": [
    "# Count the elements in each class\n",
    "t_path.info()\n",
    "# Each class has 9999 objects"
   ]
  },
  {
   "cell_type": "markdown",
   "metadata": {},
   "source": [
    "The classes are \"GALAXY\", \"STAR\", and \"QSO\" (quasars). They are defined as strings, but we will convert them to integer in order to apply a loss function on the class labels during training. For this, we use the ``sklearn.preprocessing.LabelEncoder()`` function. We will do so and modify the classes in the dataframe. We should keep a copy of the original data frame to be safe."
   ]
  },
  {
   "cell_type": "code",
   "execution_count": 24,
   "metadata": {},
   "outputs": [
    {
     "data": {
      "text/plain": [
       "<bound method NDFrame.head of               ra        dec         u         g         r         i         z  \\\n",
       "0     183.598370   0.135285  18.66280  17.21449  16.67637  16.48922  16.39150   \n",
       "1     183.680207   0.126185  19.38298  18.19169  17.47428  17.08732  16.80125   \n",
       "2     183.870529   0.049911  17.76536  16.60272  16.16116  15.98233  15.90438   \n",
       "3     183.883288   0.102557  17.55025  16.26342  16.43869  16.55492  16.61326   \n",
       "4     183.847174   0.173694  19.43133  18.46779  18.16451  18.01475  18.04155   \n",
       "...          ...        ...       ...       ...       ...       ...       ...   \n",
       "9994  131.316413  51.539547  18.81777  17.47053  16.91508  16.68305  16.50570   \n",
       "9995  131.306083  51.671341  18.27255  17.43849  17.07692  16.71661  16.69897   \n",
       "9996  131.552562  51.666986  18.75818  17.77784  17.51872  17.43302  17.42048   \n",
       "9997  131.477151  51.753068  18.88287  17.91068  17.53152  17.36284  17.13988   \n",
       "9998  131.665012  51.805307  19.27586  17.37829  16.30542  15.83548  15.50588   \n",
       "\n",
       "      class  redshift  plate    mjd  fiberid  \n",
       "0         2 -0.000055    323  51615      541  \n",
       "1         0  0.123111    287  52023      513  \n",
       "2         2 -0.000111   3306  54922      510  \n",
       "3         2  0.000590   3306  54922      512  \n",
       "4         2  0.000315    324  51666      594  \n",
       "...     ...       ...    ...    ...      ...  \n",
       "9994      0  0.027583    447  51877      246  \n",
       "9995      0  0.117772    447  51877      228  \n",
       "9996      2 -0.000402   7303  57013      622  \n",
       "9997      0  0.014019    447  51877      229  \n",
       "9998      0  0.118417    447  51877      233  \n",
       "\n",
       "[9999 rows x 12 columns]>"
      ]
     },
     "execution_count": 24,
     "metadata": {},
     "output_type": "execute_result"
    }
   ],
   "source": [
    "sdss_df_save = t_path # make a copy of the original data before cleaning it. That works well when the data is small.\n",
    "sdss_df = t_path\n",
    "\n",
    "# encode class labels to integers\n",
    "from sklearn.preprocessing import LabelEncoder\n",
    "le = LabelEncoder()\n",
    "y_encoded = le.fit_transform(sdss_df['class'])\n",
    "sdss_df['class'] = y_encoded\n",
    "#  GALAXY = 0\n",
    "# STAR = 1\n",
    "# QSO = 2\n",
    "sdss_df.head"
   ]
  },
  {
   "cell_type": "markdown",
   "metadata": {},
   "source": [
    "### 1.3 Data correlations\n",
    "Now let's find the most basic correlations among features. This can be done using the ``corr()`` function to apply on the pandas dataframe. Evaluate this function and comment on what feature is correlated among others. It is convenient to use the matplotlib function ``matshow()`` for clarity. ``seaborn`` is a python module that makes really pretty statistical plots https://seaborn.pydata.org/index.html#. Install it with ``pip`` and import it."
   ]
  },
  {
   "cell_type": "code",
   "execution_count": 25,
   "metadata": {},
   "outputs": [],
   "source": [
    "import seaborn as sns"
   ]
  },
  {
   "cell_type": "markdown",
   "metadata": {},
   "source": [
    "**Task: Plot the correlation matrix that can be called in the pandas dataframe. (2 points)**\n",
    "\n",
    "Hints:\n",
    "\n",
    "Use functions of ``heatmap``, add the labels in the axes. The colormap ``coolwarm`` is nice for divergent scales like correlations that vary between -1 and 1. The argument ``center=0`` ensures that the colormap is divergent from zero. Make sure to ignore the label column \"class\". Remember that dropping a column can be done in place ``sdss_df.drop('class', axis=1)``."
   ]
  },
  {
   "cell_type": "code",
   "execution_count": 26,
   "metadata": {},
   "outputs": [
    {
     "data": {
      "text/plain": [
       "<matplotlib.image.AxesImage at 0x7fb95542f640>"
      ]
     },
     "execution_count": 26,
     "metadata": {},
     "output_type": "execute_result"
    },
    {
     "data": {
      "image/png": "[encoded data removed]",
      "text/plain": [
       "<Figure size 480x480 with 1 Axes>"
      ]
     },
     "metadata": {},
     "output_type": "display_data"
    }
   ],
   "source": [
    "# answer\n",
    "#sdss_df.corr()\n",
    "plt.matshow((sdss_df.drop('class', axis=1)).corr())"
   ]
  },
  {
   "cell_type": "markdown",
   "metadata": {},
   "source": [
    "**Task: Reproduce the same plot for each of the three classes. (1 point)**\n",
    "You can select the values from the pandas dataframe by selecting over the column 'class'. "
   ]
  },
  {
   "cell_type": "code",
   "execution_count": 27,
   "metadata": {},
   "outputs": [
    {
     "data": {
      "text/plain": [
       "<matplotlib.image.AxesImage at 0x7fb95437e3d0>"
      ]
     },
     "execution_count": 27,
     "metadata": {},
     "output_type": "execute_result"
    },
    {
     "data": {
      "image/png": "[encoded data removed]",
      "text/plain": [
       "<Figure size 480x480 with 1 Axes>"
      ]
     },
     "metadata": {},
     "output_type": "display_data"
    },
    {
     "data": {
      "image/png": "[encoded data removed]",
      "text/plain": [
       "<Figure size 480x480 with 1 Axes>"
      ]
     },
     "metadata": {},
     "output_type": "display_data"
    },
    {
     "data": {
      "image/png": "[encoded data removed]",
      "text/plain": [
       "<Figure size 480x480 with 1 Axes>"
      ]
     },
     "metadata": {},
     "output_type": "display_data"
    }
   ],
   "source": [
    "# make the same plot for Galaxies\n",
    "# \"GALAXY\" is label 0\n",
    "galaxy_only = sdss_df.loc[sdss_df['class'] == 0]\n",
    "plt.matshow((galaxy_only.drop('class',axis=1)).corr())\n",
    "# Make the same plot for Stars (label 1)\n",
    "stars_only = sdss_df.loc[sdss_df['class'] == 1]\n",
    "plt.matshow((stars_only.drop('class',axis=1)).corr())\n",
    "\n",
    "# make the same plots for quasars (label 2)\n",
    "quasars_only = sdss_df.loc[sdss_df['class'] == 2]\n",
    "plt.matshow((quasars_only.drop('class',axis=1)).corr())\n"
   ]
  },
  {
   "cell_type": "markdown",
   "metadata": {},
   "source": [
    "**Task: Can you comment on groups of observations that can be grouped together or that appear independent from each other given these correlations, and if there is any difference between the three celestial objects? (**1 point**)**"
   ]
  },
  {
   "cell_type": "markdown",
   "metadata": {},
   "source": [
    "Galaxies and stars appear to be grouped similarly while quasars seem more independent from the others. They all have similar patterns of yellow and green, but galaxies and stars had darker blues than quasars."
   ]
  },
  {
   "cell_type": "markdown",
   "metadata": {
    "_cell_guid": "6b86afe2-f926-416a-afd9-8b36edf9bbdd",
    "_uuid": "bc4bc3db7af9a1e46c21c5fda26e023137e0e239"
   },
   "source": [
    "### 1.5 Data exploration\n",
    "Given the structure of the correlations, we will explore the values of the data.\n",
    "\n",
    "#### 1.5.a. Distributions of redshift\n",
    "\"redshifting\" happens when the source of light is becoming more distant to the receiver: the object is moving away from Earth. \n",
    "\n",
    "**Task: plot histograms for the 'redshift' feature column for each class (1 point).**"
   ]
  },
  {
   "cell_type": "code",
   "execution_count": 28,
   "metadata": {
    "_cell_guid": "f7e55b21-caa1-4b91-8f5a-c465d56cc146",
    "_uuid": "5a6a061a52d8e4bb3286be05e8b31c0c656f3dfd",
    "scrolled": true
   },
   "outputs": [
    {
     "data": {
      "image/png": "[encoded data removed]",
      "text/plain": [
       "<Figure size 640x480 with 3 Axes>"
      ]
     },
     "metadata": {},
     "output_type": "display_data"
    }
   ],
   "source": [
    "# answer\n",
    "fig = plt.figure()\n",
    "ax1 = fig.add_subplot(221)\n",
    "ax2 = fig.add_subplot(222)\n",
    "ax3 = fig.add_subplot(223)\n",
    "ax1.title.set_text('Galaxies')\n",
    "ax1.plot(galaxy_only['redshift'])\n",
    "ax2.title.set_text('Stars')\n",
    "ax2.plot(stars_only['redshift'])\n",
    "ax3.title.set_text('Quasars')\n",
    "ax3.plot(quasars_only['redshift'])\n",
    "plt.show()"
   ]
  },
  {
   "cell_type": "markdown",
   "metadata": {
    "_cell_guid": "a44d0c69-fb05-4b09-99c3-d92dc1ec0b9a",
    "_uuid": "f389689f8d958bdd4e281089036af6d26c1c4d10"
   },
   "source": [
    "**Task : Describe briefly the difference between the three histograms. (0.5 point)**"
   ]
  },
  {
   "cell_type": "markdown",
   "metadata": {},
   "source": [
    "<!-- # answer -->\n",
    "* **Star:** The histogram looks like a truncated zero-centered normal distribution. It looks like stars are both coming toward and away from the Earth.\n",
    "\n",
    "* **Galaxy:** The redshift values may come from a slightly right-shifted normal distribution which is centered around 0.075. It looks like galaxies are moving away from the Earth but at slow speeds.\n",
    "\n",
    "* **QSO:** The redshift values for QSOs are a lot more uniformly distributed than for Stars or Galaxies. They are roughly evenly distributed from 0 to 3, than the occurences decrease drastically. For 4 oder ~5.5 there are some outliers. This probably means that quasards are moving away from the earth with a diverse range of speeds.\n"
   ]
  },
  {
   "cell_type": "markdown",
   "metadata": {
    "_cell_guid": "0cbe1c99-0148-4406-a11d-17d1efa44025",
    "_uuid": "7b2155d1a1261d2065a92008cb2a33d425f7b3dd"
   },
   "source": [
    "#### 1.5.b. Right ascension (ra) and declination (dec) "
   ]
  },
  {
   "cell_type": "markdown",
   "metadata": {
    "_cell_guid": "e4dac296-e9a1-4a63-83fc-46c3ca2265a2",
    "_uuid": "4e248ae503d23d0dd3f2473108007ad7b899b47a"
   },
   "source": [
    "We will now plot the right ascension versus the declination depending on the class. You can use the ``lmplot`` function in ``seaborn`` (https://seaborn.pydata.org/generated/seaborn.lmplot.html) to represent the sky view of these objects."
   ]
  },
  {
   "cell_type": "code",
   "execution_count": 29,
   "metadata": {
    "_cell_guid": "66068c6e-e97b-4e00-8baf-85d67ee6b155",
    "_uuid": "6e0aa853466d5c45afec6ac1efd4f9db2a013642"
   },
   "outputs": [
    {
     "data": {
      "text/plain": [
       "Text(0.5, 1.0, 'Equatorial coordinates')"
      ]
     },
     "execution_count": 29,
     "metadata": {},
     "output_type": "execute_result"
    },
    {
     "data": {
      "image/png": "[encoded data removed]",
      "text/plain": [
       "<Figure size 600x600 with 1 Axes>"
      ]
     },
     "metadata": {},
     "output_type": "display_data"
    }
   ],
   "source": [
    "sns.lmplot(x='ra', y='dec', data=sdss_df, hue='class', fit_reg=False, palette='coolwarm', height=6, aspect=1,legend=False)\n",
    "plt.legend(title='Class', loc='upper left', labels=['Galaxy', 'Star','Quasar'])\n",
    "plt.grid(True)\n",
    "plt.title('Equatorial coordinates')"
   ]
  },
  {
   "cell_type": "markdown",
   "metadata": {},
   "source": [
    "**Task: do you see any obvious differences such that one could easily discriminate between the two coordinates? (0.5 point)**"
   ]
  },
  {
   "cell_type": "code",
   "execution_count": 67,
   "metadata": {},
   "outputs": [],
   "source": [
    "#The right ascention has a much larger range than the declination, it is more similar to longitude. Declination has a smaller range and is more similar to latitude."
   ]
  },
  {
   "cell_type": "markdown",
   "metadata": {
    "_cell_guid": "f3174f32-1e96-47d5-ab74-2a14f1e7b1f7",
    "_uuid": "32ac7f6965966d8f25013c5a2e1d2817d9e78cf3"
   },
   "source": [
    "#### 1.5.c Filters - u,g,r,i,z "
   ]
  },
  {
   "cell_type": "markdown",
   "metadata": {
    "_cell_guid": "27c33528-10f3-400f-a59a-b0c28416e00a",
    "_uuid": "4761d9058cb828d6e016fe43693019981ce22596"
   },
   "source": [
    "Recall: u, g, r, i, z represent the different wavelengths which are used to capture the observations. According to the correlation matrix, they are correlated for all three classes.\n",
    "\n",
    "Therefore it is interesting to see that band 'u' is less correlated to the other bands. \n",
    "\n",
    "**Task: Plot histograms and discuss why you expect these features to be correlated (1 points)**"
   ]
  },
  {
   "cell_type": "code",
   "execution_count": 30,
   "metadata": {},
   "outputs": [
    {
     "data": {
      "image/png": "[encoded data removed]",
      "text/plain": [
       "<Figure size 640x480 with 5 Axes>"
      ]
     },
     "metadata": {},
     "output_type": "display_data"
    }
   ],
   "source": [
    "# Plot of histograms\n",
    "import warnings\n",
    "warnings.filterwarnings('ignore')\n",
    "fig = plt.figure()\n",
    "ax1 = fig.add_subplot(421)\n",
    "ax2 = fig.add_subplot(422)\n",
    "ax3 = fig.add_subplot(423)\n",
    "ax4 = fig.add_subplot(424)\n",
    "ax5 = fig.add_subplot(425)\n",
    "ax1.title.set_text('U')\n",
    "ax1.plot(sdss_df['u'])\n",
    "ax2.title.set_text('G')\n",
    "ax2.plot(sdss_df['g'])\n",
    "ax3.title.set_text('R')\n",
    "ax3.plot(sdss_df['r'])\n",
    "ax4.title.set_text('I')\n",
    "ax4.plot(sdss_df['i'])\n",
    "ax5.title.set_text('Z')\n",
    "ax5.plot(sdss_df['z'])\n",
    "plt.show()"
   ]
  },
  {
   "cell_type": "markdown",
   "metadata": {},
   "source": [
    "<!-- Anwer: -->"
   ]
  },
  {
   "cell_type": "markdown",
   "metadata": {
    "_cell_guid": "aa0a41b4-c96c-4193-8b86-fee485af4361",
    "_uuid": "4e3e3eccee7ba9f0f2bcb5b562bda8b4d3c5a424"
   },
   "source": [
    "### 1.6 Data Dimensionality Reduction\n",
    "At this point, we are left with 8 features: redshift, u, g, r, i, z, ra, and dec. Among these, the filters (u, g, r, i, z) are correlated to each other. There is therefore a potential for reducing the dimensions of the features using PCA on these 5 features.\n",
    "\n",
    "We will use the skilearn function ``sklearn.decomposition.PCA()`` to fit and transform the data into the PC coordinates. Lets' first explore how many PCs we need. Fit the PCA function over the total number of filters. You will fit the PCA function over an array with the columns selected from the dataframe. \n",
    "\n",
    "**Task: Perform the PCA over a max number of PCs, output the explained variance ratio values, decide on an appropriate maximum number of PC to use (6 points)**"
   ]
  },
  {
   "cell_type": "markdown",
   "metadata": {},
   "source": [
    "*Answer on how many PCs to use*\n",
    "\n"
   ]
  },
  {
   "cell_type": "code",
   "execution_count": 31,
   "metadata": {
    "_cell_guid": "fbb45762-272f-40b8-bde6-9d3dd9c1cd55",
    "_uuid": "8a97dca248a7b0473c784af669ea00b59017fa8a"
   },
   "outputs": [
    {
     "name": "stdout",
     "output_type": "stream",
     "text": [
      "<bound method NDFrame.head of              u         g         r         i         z\n",
      "0     18.66280  17.21449  16.67637  16.48922  16.39150\n",
      "1     19.38298  18.19169  17.47428  17.08732  16.80125\n",
      "2     17.76536  16.60272  16.16116  15.98233  15.90438\n",
      "3     17.55025  16.26342  16.43869  16.55492  16.61326\n",
      "4     19.43133  18.46779  18.16451  18.01475  18.04155\n",
      "...        ...       ...       ...       ...       ...\n",
      "9994  18.81777  17.47053  16.91508  16.68305  16.50570\n",
      "9995  18.27255  17.43849  17.07692  16.71661  16.69897\n",
      "9996  18.75818  17.77784  17.51872  17.43302  17.42048\n",
      "9997  18.88287  17.91068  17.53152  17.36284  17.13988\n",
      "9998  19.27586  17.37829  16.30542  15.83548  15.50588\n",
      "\n",
      "[9999 rows x 5 columns]>\n",
      "<bound method NDFrame.head of             u         g         r         i         z\n",
      "0     0.04353 -0.157474 -0.164683 -0.094467 -0.031453\n",
      "1     0.76371  0.819726  0.633227  0.503633  0.378297\n",
      "2    -0.85391 -0.769244 -0.679893 -0.601357 -0.518573\n",
      "3    -1.06902 -1.108544 -0.402363 -0.028767  0.190307\n",
      "4     0.81206  1.095826  1.323457  1.431063  1.618597\n",
      "...       ...       ...       ...       ...       ...\n",
      "9994  0.19850  0.098566  0.074027  0.099363  0.082747\n",
      "9995 -0.34672  0.066526  0.235867  0.132923  0.276017\n",
      "9996  0.13891  0.405876  0.677667  0.849333  0.997527\n",
      "9997  0.26360  0.538716  0.690467  0.779153  0.716927\n",
      "9998  0.65659  0.006326 -0.535633 -0.748207 -0.917073\n",
      "\n",
      "[9999 rows x 5 columns]>\n"
     ]
    }
   ],
   "source": [
    "# anwer\n",
    "from sklearn.decomposition import PCA\n",
    "ugriz = sdss_df[['u','g','r','i','z']]#\n",
    "T = ugriz.transpose()\n",
    "print(ugriz.head)\n",
    "\n",
    "ugriz_mean = np.mean(T,axis=1)\n",
    "X = ugriz - np.tile(ugriz_mean,(sdss_df['u'].shape[0],1))\n",
    "print(X.head)"
   ]
  },
  {
   "cell_type": "code",
   "execution_count": 32,
   "metadata": {},
   "outputs": [
    {
     "name": "stdout",
     "output_type": "stream",
     "text": [
      "PCA(n_components=5)\n",
      "[[ 9.19673869e-04  3.70574965e-03 -3.12163934e-03 ... -8.31916711e-03\n",
      "  -4.93060715e-03  1.56800404e-02]\n",
      " [-9.32848157e-03  1.16896192e-02 -4.01749817e-03 ... -6.67766363e-03\n",
      "   3.57620894e-03  2.05397753e-03]\n",
      " [-1.50195926e-03  2.05430540e-03 -1.56867511e-03 ... -1.77495281e-03\n",
      "   4.54124469e-03  5.39745523e-04]\n",
      " [-5.70445543e-04 -4.11963706e-03 -1.42098608e-03 ...  6.17217525e-04\n",
      "   2.00213050e-03 -6.80834584e-03]\n",
      " [-5.54141121e-01  5.21543500e-02 -1.15632668e-02 ... -1.09314136e-02\n",
      "  -4.41347104e-03 -1.58094689e-03]]\n",
      "[1.66924723e+03 7.13090300e+01 5.60676660e+01 1.56681676e+01\n",
      " 4.22590225e-29]\n"
     ]
    }
   ],
   "source": [
    "pca=PCA(n_components=5).fit(X.transpose())\n",
    "print(pca)\n",
    "print(pca.components_)\n",
    "print(pca.explained_variance_)"
   ]
  },
  {
   "cell_type": "code",
   "execution_count": 33,
   "metadata": {},
   "outputs": [
    {
     "name": "stdout",
     "output_type": "stream",
     "text": [
      "[2.22242116 0.69194955 0.15829128 0.14974264 0.07878764]\n"
     ]
    },
    {
     "data": {
      "image/png": "[encoded data removed]",
      "text/plain": [
       "<Figure size 640x480 with 1 Axes>"
      ]
     },
     "metadata": {},
     "output_type": "display_data"
    }
   ],
   "source": [
    "U1, S, VT = np.linalg.svd(X/np.sqrt((sdss_df['u'].shape[0])),full_matrices=0)\n",
    "print(S)\n",
    "plt.plot(S);plt.grid(True)\n",
    "plt.xticks(range(0,4));plt.title('Eigen values of the 3D motions');plt.show()\n",
    "\n"
   ]
  },
  {
   "cell_type": "code",
   "execution_count": 34,
   "metadata": {},
   "outputs": [
    {
     "name": "stdout",
     "output_type": "stream",
     "text": [
      "[9.21069642e-01 3.93474265e-02 3.09374334e-02 8.64549797e-03\n",
      " 2.33179975e-32]\n",
      "minimum dimension size to explain 95% of the variance  2\n"
     ]
    },
    {
     "data": {
      "image/png": "[encoded data removed]",
      "text/plain": [
       "<Figure size 1100x800 with 2 Axes>"
      ]
     },
     "metadata": {},
     "output_type": "display_data"
    }
   ],
   "source": [
    "# The 3 PCs' explained variance ratio: how much of the variance is explained by each component\n",
    "print(pca.explained_variance_ratio_)\n",
    "fig,ax=plt.subplots(2,1,figsize=(11,8))\n",
    "ax[0].plot(pca.explained_variance_ratio_);ax[0].set_xticks(range(0,6))\n",
    "ax[0].set_xlabel('Number of dimensions')\n",
    "ax[0].set_ylabel('Explained variance ')\n",
    "ax[0].set_title('Variance explained with each PC')\n",
    "ax[1].plot(np.cumsum(pca.explained_variance_ratio_));ax[1].set_xticks(range(0,6))\n",
    "ax[1].set_xlabel('Number of dimensions')\n",
    "ax[1].set_ylabel('Explained variance ')\n",
    "ax[1].set_title('Variance explained with cumulated PCs')\n",
    "d = np.argmax(np.cumsum(pca.explained_variance_ratio_)>=0.95) +1\n",
    "print(\"minimum dimension size to explain 95% of the variance \",d)"
   ]
  },
  {
   "cell_type": "markdown",
   "metadata": {},
   "source": [
    "We will now re-perform PCA with the number of PCs you found is most appropriate. Re-apply the fit-transform function. Update the dataframe by adding the PCA value(s) and dropping the columns of the 5 filter features.\n",
    "\n",
    "**Task: PCA again, fit and transform, update the dataframe with the new feature(s) (3 points)**"
   ]
  },
  {
   "cell_type": "code",
   "execution_count": 35,
   "metadata": {},
   "outputs": [],
   "source": [
    "# answer\n",
    "pca=PCA(n_components=2).fit(X)\n",
    "X_pca = pca.transform(X)\n",
    "x_pca = pd.DataFrame(X_pca)\n",
    "sdss_df_no_ugriz = sdss_df.drop(['u','g','r','i','z'],axis=1)\n",
    "sdss_df_no_ugriz['pc1'] = x_pca[0]\n",
    "sdss_df_no_ugriz['pc2'] = x_pca[1]"
   ]
  },
  {
   "cell_type": "code",
   "execution_count": 36,
   "metadata": {},
   "outputs": [
    {
     "data": {
      "text/plain": [
       "<bound method NDFrame.head of               ra        dec  class  redshift  plate       pc1       pc2\n",
       "0     183.598370   0.135285      2 -0.000055    323 -0.195906 -0.028545\n",
       "1     183.680207   0.126185      0  0.123111    287  1.297480 -0.590112\n",
       "2     183.870529   0.049911      2 -0.000111   3306 -1.446294  0.566480\n",
       "3     183.883288   0.102557      2  0.000590   3306 -0.849479  1.287360\n",
       "4     183.847174   0.173694      2  0.000315    324  2.873346  0.029723\n",
       "...          ...        ...    ...       ...    ...       ...       ...\n",
       "9994  131.316413  51.539547      0  0.027583    447  0.222815 -0.134423\n",
       "9995  131.306083  51.671341      0  0.117772    447  0.258999  0.415195\n",
       "9996  131.552562  51.666986      2 -0.000402   7303  1.480557  0.388659\n",
       "9997  131.477151  51.753068      0  0.014019    447  1.391932  0.116927\n",
       "9998  131.665012  51.805307      0  0.118417    447 -0.936304 -1.113396\n",
       "\n",
       "[9999 rows x 7 columns]>"
      ]
     },
     "execution_count": 36,
     "metadata": {},
     "output_type": "execute_result"
    }
   ],
   "source": [
    "# answer\n",
    "sdss_df_no_ugriz.head\n",
    "sdss_df_8 = sdss_df_no_ugriz.drop(['mjd','fiberid'],axis=1)\n",
    "sdss_df_8.head"
   ]
  },
  {
   "cell_type": "markdown",
   "metadata": {
    "_cell_guid": "4e797850-cbb6-44f8-84d8-2649d9dcb461",
    "_uuid": "73423e72a3e388e8d6b8f16672a7b77215359cfe"
   },
   "source": [
    "## 2) Machine Learning Models (26 points)\n",
    "\n",
    "We will now train different models on this dataset. We have a total of 8 features, 3 classes, and 10,000 samples. We will use K-Nearest Neighbors, Naive Bayes, Random Forest, Support Vector Machine, Multi Layer Perceptron.\n",
    "\n",
    "We now follow a normal machine learning workflow:\n",
    "* Feature scaling (2 points)\n",
    "* Train/test set split (2 points)\n",
    "* Model design, training, testing (15 points)\n",
    "* Model comparisons, pick your winner, discuss feature importance using Random Forest. (10 points)"
   ]
  },
  {
   "cell_type": "markdown",
   "metadata": {
    "_cell_guid": "0a8fc626-e05b-483e-bed1-17c5be108903",
    "_uuid": "282a92a1d893a96b40b70b1c6d1fae063ba08ba3"
   },
   "source": [
    "### 2.1 Feature Scaling\n",
    "Scaling all values to be within the (0, 1) interval will reduce the distortion due to exceptionally high values and make some algorithms converge faster. You can scale the features only by dropping the \"class\" column without modifying the dataframe in place, using the pandas function ``drop()``.\n",
    "\n",
    "**Task: Scale just the features (2 points)**"
   ]
  },
  {
   "cell_type": "code",
   "execution_count": 37,
   "metadata": {
    "_cell_guid": "23fc8398-331d-4164-8779-0516264ece29",
    "_uuid": "c147b9e899cc2dd508d736274c856f88fb49321d"
   },
   "outputs": [
    {
     "data": {
      "text/plain": [
       "<bound method NDFrame.head of             ra       dec  redshift     plate       pc1       pc2  class\n",
       "0     0.694098  0.074642  0.000762  0.006999  0.448116  0.215274      2\n",
       "1     0.694422  0.074519  0.023749  0.002579  0.518972  0.154528      0\n",
       "2     0.695175  0.073487  0.000751  0.373281  0.388789  0.279639      2\n",
       "3     0.695225  0.074199  0.000882  0.373281  0.417106  0.357618      2\n",
       "4     0.695082  0.075162  0.000831  0.007122  0.593742  0.221577      2\n",
       "...        ...       ...       ...       ...       ...       ...    ...\n",
       "9994  0.487163  0.770000  0.005920  0.022225  0.467983  0.203821      0\n",
       "9995  0.487122  0.771783  0.022753  0.022225  0.469700  0.263274      0\n",
       "9996  0.488097  0.771724  0.000697  0.864072  0.527659  0.260404      2\n",
       "9997  0.487799  0.772888  0.003388  0.022225  0.523454  0.231010      0\n",
       "9998  0.488543  0.773595  0.022873  0.022225  0.412986  0.097923      0\n",
       "\n",
       "[9999 rows x 7 columns]>"
      ]
     },
     "execution_count": 37,
     "metadata": {},
     "output_type": "execute_result"
    }
   ],
   "source": [
    "# answer\n",
    "no_labels = sdss_df_8.drop(['class'],axis=1)\n",
    "new_df = (no_labels-no_labels.min())/(no_labels.max()-no_labels.min())\n",
    "df_norm = pd.concat((new_df, sdss_df_8['class']), 1)\n",
    "\n",
    "df_norm.head\n",
    "#sdss_df_8.drop(['class'], axis=1)"
   ]
  },
  {
   "cell_type": "markdown",
   "metadata": {
    "_cell_guid": "13e1fd6f-820c-4098-a486-0079b300e6c9",
    "_uuid": "e76e964a4b93c27e1ab01c24a06be09d8b304970"
   },
   "source": [
    "### 2.2 Test, train, validation data sets.\n",
    "**Task: Split the data into a training and a test part.  (2 points)**\n",
    "\n",
    "The models will be trained on the training data set and tested on the test data set"
   ]
  },
  {
   "cell_type": "code",
   "execution_count": 42,
   "metadata": {
    "_cell_guid": "a94f2305-4f2a-4d11-b368-528820d28b0b",
    "_uuid": "da9a96996b695f8ca2c268f43106e179ba6be1f5"
   },
   "outputs": [
    {
     "ename": "NameError",
     "evalue": "name 'sklearn' is not defined",
     "output_type": "error",
     "traceback": [
      "\u001b[0;31m---------------------------------------------------------------------------\u001b[0m",
      "\u001b[0;31mNameError\u001b[0m                                 Traceback (most recent call last)",
      "Cell \u001b[0;32mIn [42], line 2\u001b[0m\n\u001b[1;32m      1\u001b[0m \u001b[38;5;66;03m# answer\u001b[39;00m\n\u001b[0;32m----> 2\u001b[0m train, test \u001b[38;5;241m=\u001b[39m \u001b[43msklearn\u001b[49m\u001b[38;5;241m.\u001b[39mmodel_selection\u001b[38;5;241m.\u001b[39mtrain_test_split(df_norm)\n\u001b[1;32m      3\u001b[0m train_x \u001b[38;5;241m=\u001b[39m train\u001b[38;5;241m.\u001b[39mdrop([\u001b[38;5;124m'\u001b[39m\u001b[38;5;124mclass\u001b[39m\u001b[38;5;124m'\u001b[39m],axis\u001b[38;5;241m=\u001b[39m\u001b[38;5;241m1\u001b[39m)\n\u001b[1;32m      4\u001b[0m test_x \u001b[38;5;241m=\u001b[39m test\u001b[38;5;241m.\u001b[39mdrop([\u001b[38;5;124m'\u001b[39m\u001b[38;5;124mclass\u001b[39m\u001b[38;5;124m'\u001b[39m],axis\u001b[38;5;241m=\u001b[39m\u001b[38;5;241m1\u001b[39m)\n",
      "\u001b[0;31mNameError\u001b[0m: name 'sklearn' is not defined"
     ]
    }
   ],
   "source": [
    "# answer\n",
    "train, test = sklearn.model_selection.train_test_split(df_norm)\n",
    "train_x = train.drop(['class'],axis=1)\n",
    "test_x = test.drop(['class'],axis=1)"
   ]
  },
  {
   "cell_type": "markdown",
   "metadata": {},
   "source": [
    "Computation time is important to account for when scaling up the data set and the model size. You can evaluate the relative computational time using the function ``time.perf_counter()`` to evaluate the absolute time. Then compare the computational time by making the difference between two time stamps:\n",
    "\n",
    "``t1=time.perf_counter()``\n",
    "\n",
    "``t2=time.perf_counter()``\n",
    "\n",
    "``tcomp = t2 - t1``\n",
    "\n",
    "We will also assess the model performance of these multi-class classifiers. We will evaluate the average of the scores over the 3 class labels."
   ]
  },
  {
   "cell_type": "code",
   "execution_count": 39,
   "metadata": {},
   "outputs": [
    {
     "ename": "NameError",
     "evalue": "name 'train' is not defined",
     "output_type": "error",
     "traceback": [
      "\u001b[0;31m---------------------------------------------------------------------------\u001b[0m",
      "\u001b[0;31mNameError\u001b[0m                                 Traceback (most recent call last)",
      "Cell \u001b[0;32mIn [39], line 7\u001b[0m\n\u001b[1;32m      4\u001b[0m \u001b[38;5;28;01mfrom\u001b[39;00m \u001b[38;5;21;01msklearn\u001b[39;00m\u001b[38;5;21;01m.\u001b[39;00m\u001b[38;5;21;01mmodel_selection\u001b[39;00m \u001b[38;5;28;01mimport\u001b[39;00m cross_val_predict\n\u001b[1;32m      5\u001b[0m label_name \u001b[38;5;241m=\u001b[39m [\u001b[38;5;124m'\u001b[39m\u001b[38;5;124mStar\u001b[39m\u001b[38;5;124m'\u001b[39m,\u001b[38;5;124m'\u001b[39m\u001b[38;5;124mGalaxy\u001b[39m\u001b[38;5;124m'\u001b[39m,\u001b[38;5;124m'\u001b[39m\u001b[38;5;124mQuasar\u001b[39m\u001b[38;5;124m'\u001b[39m]\n\u001b[0;32m----> 7\u001b[0m train_y \u001b[38;5;241m=\u001b[39m \u001b[43mtrain\u001b[49m[\u001b[38;5;124m'\u001b[39m\u001b[38;5;124mclass\u001b[39m\u001b[38;5;124m'\u001b[39m]\n\u001b[1;32m      8\u001b[0m test_y \u001b[38;5;241m=\u001b[39m test[\u001b[38;5;124m'\u001b[39m\u001b[38;5;124mclass\u001b[39m\u001b[38;5;124m'\u001b[39m]\n",
      "\u001b[0;31mNameError\u001b[0m: name 'train' is not defined"
     ]
    }
   ],
   "source": [
    "from sklearn.metrics import classification_report, confusion_matrix\n",
    "from sklearn.metrics import precision_recall_fscore_support as score\n",
    "from sklearn.metrics import accuracy_score, plot_confusion_matrix, precision_score\n",
    "from sklearn.model_selection import cross_val_predict\n",
    "label_name = ['Star','Galaxy','Quasar']\n",
    "\n",
    "train_y = train['class']\n",
    "test_y = test['class']"
   ]
  },
  {
   "cell_type": "markdown",
   "metadata": {},
   "source": [
    "In the following, we will be testing over several classifiers. Follow the steps:\n",
    "1. model definition/design\n",
    "2. training\n",
    "3. prediction on test\n",
    "4. evaluation: a) print the classification_report; b) save the precision, recall, fscore and accuracy in variables"
   ]
  },
  {
   "cell_type": "markdown",
   "metadata": {
    "_cell_guid": "d74dbe6b-ebf8-4b61-b568-c2dabc031e5c",
    "_uuid": "3d19792d9ae5a949d2c524fb0c701a4084051816"
   },
   "source": [
    "### 2.3.a K Nearest Neighbors (3 points)\n",
    "Check out the function arguments and definition here: https://scikit-learn.org/stable/modules/generated/sklearn.neighbors.KNeighborsClassifier.html"
   ]
  },
  {
   "cell_type": "code",
   "execution_count": 40,
   "metadata": {
    "_cell_guid": "a16b9525-b3c9-46cf-8714-12707caf2502",
    "_uuid": "817a9fd86ca3d5195046fed7a72750538dee3051"
   },
   "outputs": [
    {
     "name": "stdout",
     "output_type": "stream",
     "text": [
      "Classifying using K-nearest Neighbors\n"
     ]
    },
    {
     "ename": "NameError",
     "evalue": "name 'train_x' is not defined",
     "output_type": "error",
     "traceback": [
      "\u001b[0;31m---------------------------------------------------------------------------\u001b[0m",
      "\u001b[0;31mNameError\u001b[0m                                 Traceback (most recent call last)",
      "Cell \u001b[0;32mIn [40], line 9\u001b[0m\n\u001b[1;32m      6\u001b[0m knn \u001b[38;5;241m=\u001b[39m KNeighborsClassifier(n_neighbors\u001b[38;5;241m=\u001b[39m\u001b[38;5;241m4\u001b[39m)\n\u001b[1;32m      8\u001b[0m \u001b[38;5;66;03m# training\u001b[39;00m\n\u001b[0;32m----> 9\u001b[0m knn\u001b[38;5;241m.\u001b[39mfit(\u001b[43mtrain_x\u001b[49m,train_y)\n\u001b[1;32m     11\u001b[0m \u001b[38;5;66;03m# evaluation on test\u001b[39;00m\n\u001b[1;32m     12\u001b[0m pred_y \u001b[38;5;241m=\u001b[39m knn\u001b[38;5;241m.\u001b[39mpredict(test_x)\n",
      "\u001b[0;31mNameError\u001b[0m: name 'train_x' is not defined"
     ]
    }
   ],
   "source": [
    "#answer\n",
    "from sklearn.neighbors import KNeighborsClassifier\n",
    "print(\"Classifying using K-nearest Neighbors\")\n",
    "\n",
    "# model design\n",
    "knn = KNeighborsClassifier(n_neighbors=4)\n",
    "\n",
    "# training\n",
    "knn.fit(train_x,train_y)\n",
    "\n",
    "# evaluation on test\n",
    "pred_y = knn.predict(test_x)\n",
    "\n",
    "# print the classification report\n",
    "# save values of precision, recall, fscore, accuracy.\n",
    "print(classification_report(test_y, pred_y, target_names=label_name))\n",
    "knn_precision_recall_fscore = score(test_y, pred_y)\n",
    "knn_accuracy = accuracy_score(test_y, pred_y)"
   ]
  },
  {
   "cell_type": "markdown",
   "metadata": {
    "_cell_guid": "cd50994d-fa25-4866-8a61-9d316a763a4a",
    "_uuid": "e901dbdaed422f26f42d9396a3b7a668c876f401"
   },
   "source": [
    "### 2.3.b Naive Bayes (3 points)\n",
    "Check out the sklearn tutorial pages here: https://scikit-learn.org/stable/modules/naive_bayes.html#naive-bayes. We propose to use the Gaussian Naive Bayes."
   ]
  },
  {
   "cell_type": "markdown",
   "metadata": {
    "_uuid": "23f16ebfd52f887cb78922a22ddfac00f3228bca"
   },
   "source": [
    "Naive Bayes assumes the data to be normally distributed which can be achieved by scaling using the MaxAbsScaler. For this example then we will use the unscaled data, then rescale it."
   ]
  },
  {
   "cell_type": "code",
   "execution_count": 41,
   "metadata": {
    "_cell_guid": "2db753f8-9832-4b47-9ba8-35db1448602f",
    "_uuid": "39aa691fa46edc353cf096543a19fa9d9bc1498f"
   },
   "outputs": [
    {
     "name": "stdout",
     "output_type": "stream",
     "text": [
      "Classifying using Gaussian Naive Bayes\n"
     ]
    },
    {
     "ename": "NameError",
     "evalue": "name 'sklearn' is not defined",
     "output_type": "error",
     "traceback": [
      "\u001b[0;31m---------------------------------------------------------------------------\u001b[0m",
      "\u001b[0;31mNameError\u001b[0m                                 Traceback (most recent call last)",
      "Cell \u001b[0;32mIn [41], line 12\u001b[0m\n\u001b[1;32m     10\u001b[0m df \u001b[38;5;241m=\u001b[39m scaler\u001b[38;5;241m.\u001b[39mfit_transform(new_df)\n\u001b[1;32m     11\u001b[0m \u001b[38;5;66;03m#sdss = scaler_gnb.fit_transform(sdss_df.drop('class', axis=1))\u001b[39;00m\n\u001b[0;32m---> 12\u001b[0m X_train_gnb, X_test_gnb, y_train_gnb, y_test_gnb \u001b[38;5;241m=\u001b[39m \u001b[43msklearn\u001b[49m\u001b[38;5;241m.\u001b[39mmodel_selection\u001b[38;5;241m.\u001b[39mtrain_test_split(df, df_norm[\u001b[38;5;124m'\u001b[39m\u001b[38;5;124mclass\u001b[39m\u001b[38;5;124m'\u001b[39m], test_size\u001b[38;5;241m=\u001b[39m\u001b[38;5;241m0.33\u001b[39m)\n\u001b[1;32m     15\u001b[0m \u001b[38;5;66;03m# training\u001b[39;00m\n\u001b[1;32m     16\u001b[0m gnb\u001b[38;5;241m.\u001b[39mfit(X_train_gnb, y_train_gnb)\n",
      "\u001b[0;31mNameError\u001b[0m: name 'sklearn' is not defined"
     ]
    }
   ],
   "source": [
    "# answer\n",
    "from sklearn.naive_bayes import GaussianNB\n",
    "from sklearn.preprocessing import MaxAbsScaler\n",
    "print(\"Classifying using Gaussian Naive Bayes\")\n",
    "\n",
    "# model design\n",
    "gnb = GaussianNB()\n",
    "# re-scale the data\n",
    "scaler = MaxAbsScaler()\n",
    "df = scaler.fit_transform(new_df)\n",
    "#sdss = scaler_gnb.fit_transform(sdss_df.drop('class', axis=1))\n",
    "X_train_gnb, X_test_gnb, y_train_gnb, y_test_gnb = sklearn.model_selection.train_test_split(df, df_norm['class'], test_size=0.33)\n",
    "\n",
    "\n",
    "# training\n",
    "gnb.fit(X_train_gnb, y_train_gnb)\n",
    "# evaluation\n",
    "pred_y = gnb.predict(X_test_gnb)\n",
    "# evaluation: \n",
    "# print the classification report\n",
    "# save values of precision, recall, fscore, accuracy.\n",
    "print(classification_report(y_test_gnb, pred_y, target_names=label_name))\n",
    "gnb_precision_recall_fscore = score(y_test_gnb, pred_y)\n",
    "gnb_accuracy = accuracy_score(y_test_gnb, pred_y)"
   ]
  },
  {
   "cell_type": "markdown",
   "metadata": {
    "_cell_guid": "75b6b173-0875-4716-b458-7b741295fcf2",
    "_uuid": "d28d0e8f0d89945c4cb989b19d1829a50987ccdc"
   },
   "source": [
    "### 2.3.c Random Forest Classifier (2 points)\n",
    "Check out the tutorial page here: https://scikit-learn.org/stable/modules/generated/sklearn.ensemble.RandomForestClassifier.html"
   ]
  },
  {
   "cell_type": "code",
   "execution_count": null,
   "metadata": {
    "_cell_guid": "b5d4a318-08c2-4172-8755-a82aa4e0cafc",
    "_uuid": "9dc11189c6289f7b3f0bb982bdf0c6b82da3e8d3"
   },
   "outputs": [],
   "source": [
    "# answer\n",
    "from sklearn.ensemble import RandomForestClassifier\n",
    "print(\"Classifying using Random Forest Classifiers\")\n",
    "\n",
    "X, y = make_classification(n_samples=1000, n_features=4,n_informative=2, n_redundant=0, random_state=0, shuffle=False)\n",
    "# model design\n",
    "clf = RandomForestClassifier(max_depth=2, random_state=0)\n",
    "# training\n",
    "clf.fit(X, y)\n",
    "RandomForestClassifier(...)\n",
    "\n",
    "# evaluation\n",
    "print(clf.predict([[0, 0, 0, 0]]))\n",
    "\n",
    "# evaluation: \n",
    "# print the classification report\n",
    "# save values of precision, recall, fscore, accuracy.\n",
    "\n",
    "print(classification_report(y_test, y, target_names=label_name))\n",
    "clf_precision_recall_fscore = score(y_test, y)\n",
    "clf_accuracy = accuracy_score(y_test, pred_y)"
   ]
  },
  {
   "cell_type": "markdown",
   "metadata": {
    "_cell_guid": "15b03625-4960-45a9-9751-b8e3ea82cfed",
    "_uuid": "ce81bb5c1480e8cf041153ffd04efa02fbf1c6ef"
   },
   "source": [
    "### 2.3.d Support Vector Machine Classifier (2 points)\n",
    "Check out the sklearn information page here: https://scikit-learn.org/stable/modules/generated/sklearn.svm.SVC.html#sklearn.svm.SVC"
   ]
  },
  {
   "cell_type": "code",
   "execution_count": null,
   "metadata": {
    "_cell_guid": "c50ce8dd-8a29-4cd5-80aa-68e13f2f6cea",
    "_uuid": "546fec58bfc86bd223f59efeac49abc5041a91c0",
    "scrolled": true
   },
   "outputs": [],
   "source": [
    "# answer\n",
    "from sklearn.svm import SVC\n",
    "print(\"Classifying using Support Vector Machine Classfiers\")\n",
    "\n",
    "# model design\n",
    "clf = make_pipeline(StandardScaler(), SVC(gamma='auto'))\n",
    "# training\n",
    "clf.fit(X_train_clf, pred_y)\n",
    "Pipeline(steps=[('standardscaler', StandardScaler()),\n",
    "                ('svc', SVC(gamma='auto'))])\n",
    "# evaluation\n",
    "print(clf.predict([[-0.8, -1]]))\n",
    "# evaluation: \n",
    "# print the classification report\n",
    "\n",
    "# save values of precision, recall, fscore, accuracy.\n",
    "\n",
    "print(classification_report(y, pred_y, target_names=label_name))\n",
    "clf_precision_recall_fscore = score(y_test, pred_y)\n",
    "clf_accuracy = accuracy_score(y_test, pred_y)"
   ]
  },
  {
   "cell_type": "markdown",
   "metadata": {},
   "source": [
    "### 2.3.e Multi-Layer Perceptron (3 points)\n",
    "\n",
    "Check out the information page here: https://scikit-learn.org/stable/modules/generated/sklearn.neural_network.MLPClassifier.html"
   ]
  },
  {
   "cell_type": "code",
   "execution_count": null,
   "metadata": {},
   "outputs": [],
   "source": [
    "# answer\n",
    "from sklearn.neural_network import MLPClassifier\n",
    "print(\"Classifying using Multi Layer Perceptron Classifier\")\n",
    "X, y = make_classification(n_samples=100, random_state=1)\n",
    "X_train, X_test, y_train, y_test = train_test_split(X, y, stratify=y, random_state=1)\n",
    "\n",
    "# model design\n",
    "clf = MLPClassifier(random_state=1, max_iter=300).fit(X_train, y_train)\n",
    "# training\n",
    "clf.predict_proba(X_test[:1])\n",
    "array([[0.038..., 0.961...]])\n",
    "clf.predict(X_test[:5, :])\n",
    "array([1, 0, 1, 0, 1])\n",
    "# evaluation\n",
    "clf.score(X_test, y_test)\n",
    "# evaluation: \n",
    "# print the classification report\n",
    "# save values of precision, recall, fscore, accuracy.\n",
    "print(classification_report(y_test, y_train, target_names=label_name))\n",
    "clf_precision_recall_fscore = score(y_test, y_train)\n",
    "clf_accuracy = accuracy_score(y_test, y_train)\n"
   ]
  },
  {
   "cell_type": "markdown",
   "metadata": {},
   "source": [
    "### 2.4 Model performance and comparison \n",
    "\n",
    "### 2.4.a Confusion Matrix and interpretation\n",
    "\n",
    "**Task: Plot the confusion matrix (2 points)**\n",
    "\n",
    "Use the sklearn function ``plot_confusion_matrix``. Find help here: https://scikit-learn.org/stable/modules/generated/sklearn.metrics.plot_confusion_matrix.html. We tested 5 models, make suplots, set the title on each subplots.\n"
   ]
  },
  {
   "cell_type": "code",
   "execution_count": null,
   "metadata": {},
   "outputs": [],
   "source": [
    "# plot the confusion matrix\n",
    "from sklearn.datasets import make_classification\n",
    "from sklearn.metrics import plot_confusion_matrix\n",
    "from sklearn.model_selection import train_test_split\n",
    "from sklearn.svm import SVC\n",
    "X, y = make_classification(random_state=0)\n",
    "X_train, X_test, y_train, y_test = train_test_split(X, y, random_state=0)\n",
    "clf = SVC(random_state=0)\n",
    "clf.fit(X_train, y_train)\n",
    "SVC(random_state=0)\n",
    "plot_confusion_matrix(clf, X_test, y_test)  \n",
    "plt.show()\n"
   ]
  },
  {
   "cell_type": "markdown",
   "metadata": {},
   "source": [
    "**Task: Comment on what you see the best classifier is likely to be (1 point).** You can also comment on the misclassification and confusion rates."
   ]
  },
  {
   "cell_type": "markdown",
   "metadata": {},
   "source": [
    "Naive Bayes appeared to be the best classifier."
   ]
  },
  {
   "cell_type": "markdown",
   "metadata": {
    "_cell_guid": "e1018b7a-65f5-46d3-9076-544fea2ea1ee",
    "_uuid": "207493115d3d29e59fce048de6e25e82e7adc9fd"
   },
   "source": [
    "### 2.4.a K Fold Cross Validation\n",
    "We will now perform k fold cross valdiation for the classifiers. We use the function ``cross_val_score`` on each ewstimator, on the training set, with 10 folds, and use accuracy as a score metric.\n",
    "\n",
    "**Task: perform the cross validation over K folds, output the mean and standard deviation of the accuracy (3 points)**"
   ]
  },
  {
   "cell_type": "code",
   "execution_count": null,
   "metadata": {
    "_cell_guid": "1c330298-5c44-4c4f-81c6-633082a644d0",
    "_uuid": "277ceb9eea218726a798af0f9d1dfce6d56fbb0b"
   },
   "outputs": [],
   "source": [
    "from sklearn.model_selection import cross_val_score\n",
    "# print(\"K-nearest neighbors Mean:\", scores_knn.mean(),\"Standard Deviation:\", scores_knn.std())"
   ]
  },
  {
   "cell_type": "markdown",
   "metadata": {
    "_cell_guid": "80b3da72-6711-42fb-93e3-6670112cd96c",
    "_uuid": "0941b7073b9d12b655476b6e44d453c065004478"
   },
   "source": [
    "**Task: Which method won the Xval test (1 point) ?**\n",
    "\n",
    "see the cell below"
   ]
  },
  {
   "cell_type": "markdown",
   "metadata": {},
   "source": [
    "<!-- answer here -->\n",
    "\n",
    "\n",
    "\n"
   ]
  },
  {
   "cell_type": "markdown",
   "metadata": {
    "_cell_guid": "1d7e36a9-414c-4212-a86c-763ca8422b86",
    "_uuid": "937ada3280f7e4de9b7cb022c47c0af1908238e6"
   },
   "source": [
    "### 2.4.c And the winner is ...\n",
    "\n",
    "Let's compare the results. \n",
    "**Task: Create a pandas dataframe with all of the performance metrics, including the results from K-fold cross validation. (2 points)**"
   ]
  },
  {
   "cell_type": "code",
   "execution_count": null,
   "metadata": {
    "_cell_guid": "a79815ff-1d64-48ec-996d-32bcbba98250",
    "_uuid": "c1fcf42a95967c7d25394c755e5014b027681d23"
   },
   "outputs": [],
   "source": [
    "# create data frame\n",
    "results = pd.DataFrame({\n",
    "    'Model': ['KNN', 'Naive Bayes', 'Random Forest', 'SVC','ANN'],\n",
    "    'Accuracy': [,,,,,],\n",
    "    'Precision': [, , , ,],\n",
    "    'Recall': [, ,, ,],\n",
    "    'Fscore': [, ,, ,],\n",
    "    'Kfold_accuracy_mean': [,,,,,],\n",
    "    'Kfold_accuracy_std': [,,,,,]})\n",
    "# sort values by the Fscore with the greatest value first."
   ]
  },
  {
   "cell_type": "markdown",
   "metadata": {
    "_cell_guid": "07452e0e-4f68-4f7c-a368-97ed43251eb4",
    "_uuid": "d108af400cc3ddb2bae13b870688d7149300c0f6"
   },
   "source": [
    "**Task: Comment on the accuracy and performance and choose a winner. (1 point)**\n",
    "\n",
    "see the cell below"
   ]
  },
  {
   "cell_type": "markdown",
   "metadata": {},
   "source": [
    "<!-- answer here -->\n",
    "\n",
    "\n",
    "\n",
    "\n"
   ]
  },
  {
   "cell_type": "markdown",
   "metadata": {
    "_cell_guid": "9d6084f2-7121-4ef6-8f62-ce434f94f4ea",
    "_uuid": "91e2f9ced455f5a8f02a80cb5ff035ba3228f7f4"
   },
   "source": [
    "## 3 Summary (4 points)"
   ]
  },
  {
   "cell_type": "markdown",
   "metadata": {
    "_cell_guid": "8d501e81-e7bf-4212-89b0-7e4dda3afd45",
    "_uuid": "8538142325bbaf4c09449126856a8cf0725aeabe"
   },
   "source": [
    "### 3.1 Feature Importance using Random Forest Classifier"
   ]
  },
  {
   "cell_type": "markdown",
   "metadata": {
    "_cell_guid": "58abedc0-f5ba-497e-8037-4fd6e03e283a",
    "_uuid": "d201ab385d30b19c444b79d0d0b7697f9161f888"
   },
   "source": [
    "Decision Trees have the unique property of being able to order features by their ability to split between the classes. If some features dominate over other in the predictive power of classes, one can further reduce the dimension of the features for additional analysis. The vector of feature importance is the module ``rfc.feature_importances_``, sorted with ascending importance. Store the vector of importance .\n",
    "\n",
    "**Task: plot a bar plot using the function ``matplotlib.pyplot.bar``. (2 points)**"
   ]
  },
  {
   "cell_type": "code",
   "execution_count": null,
   "metadata": {
    "_cell_guid": "1684a815-20b7-47cd-ba41-d326249961e2",
    "_uuid": "12d49c95b6b762d0cf43eba7c28818237fa3ae97",
    "scrolled": true
   },
   "outputs": [],
   "source": [
    "# answer\n",
    "# vector of importance\n",
    "# vector of features\n",
    "\n"
   ]
  },
  {
   "cell_type": "markdown",
   "metadata": {
    "_cell_guid": "c20a7dc7-7226-4970-b480-44150db5ae8e",
    "_uuid": "27931b2ee5325ff26b194ce646604116f315996b"
   },
   "source": [
    "**Task: What are the top three features (1 point)?**\n",
    "\n",
    "enter in the cell below"
   ]
  },
  {
   "cell_type": "markdown",
   "metadata": {},
   "source": [
    "<!-- answer -->"
   ]
  },
  {
   "cell_type": "markdown",
   "metadata": {
    "_cell_guid": "93e6bbb6-c774-4ab9-b2a8-f71ee48196ed",
    "_uuid": "d1f96b80f16c196f063143c7afc88254474dd4ea"
   },
   "source": [
    "In this notebook, you have learned that redshift was the best predictor of what object you are observing. Now, did you actualy need to do this all to find this out? Probably not if you were an astrophysicist! But hey, we are not. So great job!\n",
    "\n",
    "**Task: Briefly comment on what you have learned (1 point)**\n",
    "\n",
    "see the cell below\n",
    "\n",
    "This assignment taught me about how to go through the whole process in order to create final products and it taught me to think about how to figure out which model system would be best given what you are working on."
   ]
  },
  {
   "cell_type": "markdown",
   "metadata": {},
   "source": [
    "## Bonus questions (5 points)\n",
    "\n",
    "\n",
    "Perform hyperparameter tuning and ensemble learning to improve on the classification performance."
   ]
  },
  {
   "cell_type": "code",
   "execution_count": null,
   "metadata": {},
   "outputs": [],
   "source": [
    "# answer below"
   ]
  },
  {
   "cell_type": "markdown",
   "metadata": {},
   "source": [
    "<!-- answer -->"
   ]
  }
 ],
 "metadata": {
  "kernelspec": {
   "display_name": "Python 3 (ipykernel)",
   "language": "python",
   "name": "python3"
  },
  "language_info": {
   "codemirror_mode": {
    "name": "ipython",
    "version": 3
   },
   "file_extension": ".py",
   "mimetype": "text/x-python",
   "name": "python",
   "nbconvert_exporter": "python",
   "pygments_lexer": "ipython3",
   "version": "3.8.15"
  },
  "vscode": {
   "interpreter": {
    "hash": "1c2df93b363d800c8a9b94963221f1be1d8deaf6a76f83b6b9a486ad05d69583"
   }
  }
 },
 "nbformat": 4,
 "nbformat_minor": 4
}
